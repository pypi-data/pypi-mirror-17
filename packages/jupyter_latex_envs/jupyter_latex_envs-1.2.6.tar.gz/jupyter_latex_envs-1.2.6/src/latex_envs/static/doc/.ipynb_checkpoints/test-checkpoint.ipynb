{
 "cells": [
  {
   "cell_type": "markdown",
   "metadata": {},
   "source": [
    "\\begin{lemma}\\label{lem:un}\n",
    "This is a lemma with inline $x$ variable and a display eq\n",
    "$$\n",
    "\\alpha\n",
    "$$\n",
    "\\end{lemma}\n",
    "\n",
    "\n",
    "\n",
    "This is an example of nested environments, with equations inside\\\\\n",
    "\\begin{proof} Demo\n",
    "% This is a comment\n",
    "\\begin{enumerate}\n",
    "\\item $x$\n",
    "\\item \n",
    "\\begin{equation}\\label{eq:}\n",
    "   \\left\\{ p_1, p_2, p_3 \\ldots p_n \\right\\}\n",
    "\\end{equation}\n",
    "$$ \\left\\{ p_1, p_2, p_3 \\ldots p_n \\right\\} $$\n",
    "\\item A **nested enumerate**\n",
    "\\item $yy$\n",
    "\\item second item \n",
    "\\begin{itemize}\n",
    "   \\item $\\left\\{ p_1, p_2, p_3 \\ldots p_n \\right\\}$\n",
    "   \\item And *another one*\n",
    "   \\item second item \n",
    "\\begin{itemize}\n",
    "\\item $$ \\left\\{ p_1, p_2, p_3 \\ldots p_n \\right\\} $$\n",
    "\\item second item \n",
    "\\end{itemize}\n",
    "\\end{itemize}\n",
    "\\end{enumerate}\n",
    "\\end{proof}"
   ]
  },
  {
   "cell_type": "code",
   "execution_count": 69,
   "metadata": {
    "collapsed": true
   },
   "outputs": [],
   "source": [
    "import json"
   ]
  },
  {
   "cell_type": "code",
   "execution_count": 73,
   "metadata": {
    "collapsed": false
   },
   "outputs": [
    {
     "data": {
      "text/plain": [
       "'\"\\\\\"import re\\\\nnb_text = \\'\\'\\'   sdjhs\\\\\\\\nhjhjh\\\\\\\\n  \\\\\\\\\\\\\\\\ttt\\\\\\\\n jkkj \\'\\'\\'\\\\nnb_text = re.sub(\\\\\"^[\\\\\\\\\\\\\\\\s]*\\\\\\\\\\\\\\\\\\\\\\\\\\\\\\\\\\\\\", \\'\\\\\\\\\\\\\\\\\\\\\\\\\\\\\\\\\\', nb_text, flags=re.M)\\\\nprint(nb_text)\"'"
      ]
     },
     "execution_count": 73,
     "metadata": {},
     "output_type": "execute_result"
    }
   ],
   "source": [
    "json.dumps(\"\\\"import re\\nnb_text = '''   sdjhs\\\\nhjhjh\\\\n  \\\\\\\\ttt\\\\n jkkj '''\\nnb_text = re.sub(\\\"^[\\\\\\\\s]*\\\\\\\\\\\\\\\\\\\", '\\\\\\\\\\\\\\\\', nb_text, flags=re.M)\\nprint(nb_text)\")\n",
    "           "
   ]
  },
  {
   "cell_type": "code",
   "execution_count": 83,
   "metadata": {
    "collapsed": false
   },
   "outputs": [],
   "source": [
    "w = \"\\\"import re\\nnb_text = '''   sdjhs\\\\nhjhjh\\\\n  \\\\\\\\ttt\\\\n jkkj '''\\nnb_text = re.sub(\\\"^[\\\\\\\\s]*\\\\\\\\\\\\\\\\\\\", '\\\\\\\\\\\\\\\\', nb_text, flags=re.M)\\nprint(nb_text)\""
   ]
  },
  {
   "cell_type": "code",
   "execution_count": 84,
   "metadata": {
    "collapsed": false
   },
   "outputs": [
    {
     "name": "stdout",
     "output_type": "stream",
     "text": [
      "\"import re\n",
      "nb_text = '''   sdjhs\\nhjhjh\\n  \\\\ttt\\n jkkj '''\n",
      "nb_text = re.sub(\"^[\\\\s]*\\\\\\\\\", '\\\\\\\\', nb_text, flags=re.M)\n",
      "print(nb_text)\n"
     ]
    }
   ],
   "source": [
    "print(w)"
   ]
  },
  {
   "cell_type": "code",
   "execution_count": 87,
   "metadata": {
    "collapsed": false
   },
   "outputs": [],
   "source": [
    "out = FormatCode(\"import re\\nnb_text = '''   sdjhs\\\\nhjhjh\\\\n  \\\\\\\\ttt\\\\n jkkj '''\\nnb_text = re.sub(\\\"^[\\\\\\\\s]*\\\\\\\\\\\\\\\\\\\", '\\\\\\\\\\\\\\\\', nb_text, flags=re.M)\\nprint(nb_text)\")[0]"
   ]
  },
  {
   "cell_type": "code",
   "execution_count": 89,
   "metadata": {
    "collapsed": false
   },
   "outputs": [
    {
     "data": {
      "text/plain": [
       "'\"import re\\\\nnb_text = \\'\\'\\'   sdjhs\\\\\\\\nhjhjh\\\\\\\\n  \\\\\\\\\\\\\\\\ttt\\\\\\\\n jkkj \\'\\'\\'\\\\nnb_text = re.sub(\\\\\"^[\\\\\\\\\\\\\\\\s]*\\\\\\\\\\\\\\\\\\\\\\\\\\\\\\\\\\\\\", \\'\\\\\\\\\\\\\\\\\\\\\\\\\\\\\\\\\\', nb_text, flags=re.M)\\\\nprint(nb_text)\\\\n\"'"
      ]
     },
     "execution_count": 89,
     "metadata": {},
     "output_type": "execute_result"
    }
   ],
   "source": [
    "json.loads()"
   ]
  },
  {
   "cell_type": "code",
   "execution_count": 68,
   "metadata": {
    "collapsed": false
   },
   "outputs": [
    {
     "ename": "SyntaxError",
     "evalue": "unexpected character after line continuation character (<ipython-input-68-a2e602eb47d8>, line 2)",
     "output_type": "error",
     "traceback": [
      "\u001b[0;36m  File \u001b[0;32m\"<ipython-input-68-a2e602eb47d8>\"\u001b[0;36m, line \u001b[0;32m2\u001b[0m\n\u001b[0;31m    nb_text ='\\'   sdjhs\\nhjhjh\\n  \\\\ttt\\n jkkj'\\'\u001b[0m\n\u001b[0m                                                  ^\u001b[0m\n\u001b[0;31mSyntaxError\u001b[0m\u001b[0;31m:\u001b[0m unexpected character after line continuation character\n"
     ]
    }
   ],
   "source": [
    "\"import re\\nnb_text = '''   sdjhs\\\\nhjhjh\\\\n  \\\\\\\\ttt\\\\n jkkj '''\\nnb_text = re.sub('^[\\\\\\\\s]*\\\\\\\\\\\\\\\\', '\\\\\\\\\\\\\\\\', nb_text, flags=re.M)\\nprint(nb_text)\\n"
   ]
  },
  {
   "cell_type": "code",
   "execution_count": 100,
   "metadata": {
    "collapsed": false
   },
   "outputs": [
    {
     "data": {
      "text/plain": [
       "\"import re\\nnb_text = '''   sdjhs\\nhjhjh\\n  \\\\ttt\\n jkkj '''\\nnb_text = re.sub('^[\\\\s]*\\\\\\\\', '\\\\\\\\', nb_text, flags=re.M)\\nprint(nb_text)\\n\""
      ]
     },
     "execution_count": 100,
     "metadata": {},
     "output_type": "execute_result"
    }
   ],
   "source": [
    "s=\"import re\\nnb_text = '''   sdjhs\\\\nhjhjh\\\\n  \\\\\\\\ttt\\\\n jkkj '''\\nnb_text = re.sub('^[\\\\\\\\s]*\\\\\\\\\\\\\\\\', '\\\\\\\\\\\\\\\\', nb_text, flags=re.M)\\nprint(nb_text)\\n\"\n",
    "a=s.encode('latin1').decode('unicode_escape')\n",
    "a"
   ]
  },
  {
   "cell_type": "code",
   "execution_count": null,
   "metadata": {
    "collapsed": true
   },
   "outputs": [],
   "source": [
    "'import re\\nnb_text = \\'\\'\\'   sdjhs\\nhjhjh\\n  \\\\ttt\\n jkkj \\'\\'\\'\\nnb_text = re.sub(\\'^[\\\\s]*\\\\\\\\\\', \"\\\\\\\\\", nb_text, flags=re.M)\\nprint(nb_text)\\n'"
   ]
  },
  {
   "cell_type": "code",
   "execution_count": 101,
   "metadata": {
    "collapsed": false
   },
   "outputs": [
    {
     "name": "stdout",
     "output_type": "stream",
     "text": [
      "   sdjhs\n",
      "hjhjh\n",
      "\\ttt\n",
      " jkkj \n"
     ]
    }
   ],
   "source": [
    "import re\n",
    "nb_text = '''   sdjhs\\nhjhjh\\n  \\\\ttt\\n jkkj '''\n",
    "nb_text = re.sub(\"^[\\\\s]*\\\\\\\\\", '\\\\\\\\', nb_text, flags=re.M)\n",
    "print(nb_text)\n"
   ]
  },
  {
   "cell_type": "code",
   "execution_count": null,
   "metadata": {
    "collapsed": true
   },
   "outputs": [],
   "source": [
    "import re\\nnb_text = '''   sdjhs\\\\nhjhjh\\\\n  \\\\\\\\ttt\\\\n jkkj '''\\nnb_text = re.sub(\"^[\\\\\\\\s]*\\\\\\\\\\\\\\\\\", '\\\\\\\\\\\\\\\\', nb_text, flags=re.M)\\nprint(nb_text)\\n"
   ]
  },
  {
   "cell_type": "code",
   "execution_count": 8,
   "metadata": {
    "collapsed": false
   },
   "outputs": [
    {
     "data": {
      "text/plain": [
       "'re.sub(\"^[\\\\s]*\\\\\\\\\", \\'\\\\\\\\\\', nb_text, flags=re.M)\\n'"
      ]
     },
     "execution_count": 8,
     "metadata": {},
     "output_type": "execute_result"
    }
   ],
   "source": [
    "(FormatCode(\"\"\"re.sub(\"^[\\\\s]*\\\\\\\\\", '\\\\\\\\', nb_text, flags=re.M)\"\"\")[0])"
   ]
  },
  {
   "cell_type": "code",
   "execution_count": 1,
   "metadata": {
    "collapsed": false
   },
   "outputs": [
    {
     "data": {
      "text/plain": [
       "(\"re.sub('^[\\\\s]*\\\\\\\\', '\\\\\\\\', nb_text, flags=re.M)\\n\", False)"
      ]
     },
     "execution_count": 1,
     "metadata": {},
     "output_type": "execute_result"
    }
   ],
   "source": [
    "FormatCode(\"\"\"re.sub('^[\\\\s]*\\\\\\\\', '\\\\\\\\', nb_text, flags=re.M)\"\"\")"
   ]
  },
  {
   "cell_type": "code",
   "execution_count": 58,
   "metadata": {
    "collapsed": false
   },
   "outputs": [
    {
     "data": {
      "text/plain": [
       "'   sdjhs\\nhjhjh\\n\\\\ttt\\n jkkj '"
      ]
     },
     "execution_count": 58,
     "metadata": {},
     "output_type": "execute_result"
    }
   ],
   "source": [
    "re.sub(\"^[\\\\s]*\\\\\\\\\", '\\\\\\\\', nb_text, flags=re.M)"
   ]
  },
  {
   "cell_type": "code",
   "execution_count": null,
   "metadata": {
    "collapsed": true
   },
   "outputs": [],
   "source": [
    "re.sub('^[\\\\s]*\\\\\\\\', '\\\\\\\\', nb_text, flags=re.M)"
   ]
  },
  {
   "cell_type": "code",
   "execution_count": 57,
   "metadata": {
    "collapsed": false
   },
   "outputs": [
    {
     "ename": "SyntaxError",
     "evalue": "unexpected character after line continuation character (<ipython-input-57-00b2979aab41>, line 1)",
     "output_type": "error",
     "traceback": [
      "\u001b[0;36m  File \u001b[0;32m\"<ipython-input-57-00b2979aab41>\"\u001b[0;36m, line \u001b[0;32m1\u001b[0m\n\u001b[0;31m    \\\\\\'\u001b[0m\n\u001b[0m        ^\u001b[0m\n\u001b[0;31mSyntaxError\u001b[0m\u001b[0;31m:\u001b[0m unexpected character after line continuation character\n"
     ]
    }
   ],
   "source": [
    "\\\\\\'"
   ]
  },
  {
   "cell_type": "code",
   "execution_count": 55,
   "metadata": {
    "collapsed": false
   },
   "outputs": [
    {
     "ename": "SyntaxError",
     "evalue": "unexpected character after line continuation character (<unknown>, line 1)",
     "output_type": "error",
     "traceback": [
      "\u001b[0;36m  File \u001b[0;32m\"<unknown>\"\u001b[0;36m, line \u001b[0;32m1\u001b[0m\n\u001b[0;31m    \\'\u001b[0m\n\u001b[0m       ^\u001b[0m\n\u001b[0;31mSyntaxError\u001b[0m\u001b[0;31m:\u001b[0m unexpected character after line continuation character\n"
     ]
    }
   ],
   "source": [
    "FormatCode(\"\"\"\\\\\\' \"\"\")"
   ]
  },
  {
   "cell_type": "code",
   "execution_count": 34,
   "metadata": {
    "collapsed": false
   },
   "outputs": [
    {
     "data": {
      "text/plain": [
       "('print(\"toto \\'a\\'uiiu\")\\nprint(\\'\\\\n\\')\\n', False)"
      ]
     },
     "execution_count": 34,
     "metadata": {},
     "output_type": "execute_result"
    }
   ],
   "source": [
    "print('toto \"a\"uiiu')\n",
    "print('\\n')"
   ]
  },
  {
   "cell_type": "code",
   "execution_count": 31,
   "metadata": {
    "collapsed": true
   },
   "outputs": [],
   "source": [
    "yapf.FormatFile()"
   ]
  },
  {
   "cell_type": "code",
   "execution_count": 2,
   "metadata": {
    "collapsed": false
   },
   "outputs": [
    {
     "name": "stdout",
     "output_type": "stream",
     "text": [
      "   sdjhs\n",
      "hjhjh\n",
      "\\ttt\n",
      " jkkj \n"
     ]
    }
   ],
   "source": [
    "import re\n",
    "nb_text= \"\"\"   sdjhs\\nhjhjh\\n  \\\\ttt\\n jkkj \"\"\"\n",
    "nb_text = re.sub('^[\\s]*\\\\\\\\', '\\\\\\\\', nb_text, flags=re.M)\n",
    "print(nb_text)"
   ]
  }
 ],
 "metadata": {
  "kernelspec": {
   "display_name": "Python 3",
   "language": "python",
   "name": "python3"
  },
  "language_info": {
   "codemirror_mode": {
    "name": "ipython",
    "version": 3
   },
   "file_extension": ".py",
   "mimetype": "text/x-python",
   "name": "python",
   "nbconvert_exporter": "python",
   "pygments_lexer": "ipython3",
   "version": "3.5.0"
  },
  "latex_envs": {
   "LaTeX_envs_menu_present": true,
   "bibliofile": "bibliography.bib",
   "cite_by": "apalike",
   "current_citInitial": 1,
   "eqLabelWithNumbers": true,
   "eqNumInitial": 0
  },
  "nav_menu": {},
  "toc": {
   "navigate_menu": true,
   "number_sections": true,
   "sideBar": true,
   "threshold": "3",
   "toc_cell": false,
   "toc_section_display": "block",
   "toc_window_display": false
  }
 },
 "nbformat": 4,
 "nbformat_minor": 1
}
