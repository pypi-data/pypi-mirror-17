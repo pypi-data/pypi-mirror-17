{
 "cells": [
  {
   "cell_type": "code",
   "execution_count": 1,
   "metadata": {
    "collapsed": false
   },
   "outputs": [],
   "source": [
    "import sidh_optimizer\n",
    "from IPython.display import display"
   ]
  },
  {
   "cell_type": "markdown",
   "metadata": {},
   "source": [
    "## A simple example\n",
    "\n",
    "We determine the balanced strategy for an tree of 3-isogenies using the original formulas of De Feo, Jao, Plût"
   ]
  },
  {
   "cell_type": "code",
   "execution_count": 2,
   "metadata": {
    "collapsed": false
   },
   "outputs": [
    {
     "data": {
      "image/png": "[encoded data removed]",
      "text/plain": [
       "<PIL.Image.Image image mode=P size=644x322 at 0x7F2EDCA9CEB8>"
      ]
     },
     "metadata": {},
     "output_type": "display_data"
    },
    {
     "data": {
      "text/plain": [
       "(122612a + 323i + 51438mod + 68538m, 2718)"
      ]
     },
     "execution_count": 2,
     "metadata": {},
     "output_type": "execute_result"
    }
   ],
   "source": [
    "p, t, w = sidh_optimizer.opcount(323, sidh_optimizer.DJP[3])\n",
    "display(p.bitmap())\n",
    "t, w"
   ]
  },
  {
   "cell_type": "markdown",
   "metadata": {},
   "source": [
    "## Weighting the elementary costs\n",
    "\n",
    "We set the weights for the elementary operations in GF(p):\n",
    "\n",
    " - i: inversion mod p of an integer of size log(p)\n",
    " - m: multiplication of integers of size log(p)\n",
    " - a: addition of integers of size log(p)\n",
    " - mod: reduction mod p of integers of size 2log(p)\n",
    "\n",
    "the weights were determined experimentally using Sage (MPIR), these are probably very bad estimates."
   ]
  },
  {
   "cell_type": "code",
   "execution_count": 3,
   "metadata": {
    "collapsed": false
   },
   "outputs": [],
   "source": [
    "weights = {\"i\":53, \"m\":7, \"a\":1, \"mod\":10}"
   ]
  },
  {
   "cell_type": "markdown",
   "metadata": {},
   "source": [
    "## Optimized strategies for 2-, 3-, and 4-isogenies\n",
    "\n",
    "Using the weights above, we determine optimized strategies for each case in the original paper"
   ]
  },
  {
   "cell_type": "code",
   "execution_count": 4,
   "metadata": {
    "collapsed": false
   },
   "outputs": [
    {
     "data": {
      "image/png": "[encoded data removed]",
      "text/plain": [
       "<PIL.Image.Image image mode=P size=1026x513 at 0x7F2EDC7FE9E8>"
      ]
     },
     "metadata": {},
     "output_type": "display_data"
    },
    {
     "data": {
      "text/plain": [
       "(98707a + 514i + 42564mod + 57123m, 786456)"
      ]
     },
     "execution_count": 4,
     "metadata": {},
     "output_type": "execute_result"
    }
   ],
   "source": [
    "p, t, w = sidh_optimizer.opcount(514, sidh_optimizer.DJP[2], weights)\n",
    "display(p.bitmap())\n",
    "t, w"
   ]
  },
  {
   "cell_type": "code",
   "execution_count": 5,
   "metadata": {
    "collapsed": false
   },
   "outputs": [
    {
     "data": {
      "image/png": "[encoded data removed]",
      "text/plain": [
       "<PIL.Image.Image image mode=P size=512x256 at 0x7F2EDC93BDD8>"
      ]
     },
     "metadata": {},
     "output_type": "display_data"
    },
    {
     "data": {
      "text/plain": [
       "(112146a + 514i + 41940mod + 57803m, 774000)"
      ]
     },
     "execution_count": 5,
     "metadata": {},
     "output_type": "execute_result"
    }
   ],
   "source": [
    "p, t, w = sidh_optimizer.opcount(514//2, sidh_optimizer.DJP[4], weights)\n",
    "display(p.bitmap())\n",
    "t, w"
   ]
  },
  {
   "cell_type": "code",
   "execution_count": 6,
   "metadata": {
    "collapsed": false
   },
   "outputs": [
    {
     "data": {
      "image/png": "[encoded data removed]",
      "text/plain": [
       "<PIL.Image.Image image mode=P size=644x322 at 0x7F2EDC7FEBA8>"
      ]
     },
     "metadata": {},
     "output_type": "display_data"
    },
    {
     "data": {
      "text/plain": [
       "(115360a + 323i + 49164mod + 65599m, 966709)"
      ]
     },
     "execution_count": 6,
     "metadata": {},
     "output_type": "execute_result"
    }
   ],
   "source": [
    "p, t, w = sidh_optimizer.opcount(323, sidh_optimizer.DJP[3], weights)\n",
    "display(p.bitmap())\n",
    "t, w"
   ]
  },
  {
   "cell_type": "markdown",
   "metadata": {},
   "source": [
    "## Projectivized models\n",
    "\n",
    "We do the same using the operation counts of Costello, Longa, Naherig"
   ]
  },
  {
   "cell_type": "code",
   "execution_count": 7,
   "metadata": {
    "collapsed": false
   },
   "outputs": [
    {
     "data": {
      "image/png": "[encoded data removed]",
      "text/plain": [
       "<PIL.Image.Image image mode=P size=644x322 at 0x7F2EDC93BE48>"
      ]
     },
     "metadata": {},
     "output_type": "display_data"
    },
    {
     "data": {
      "text/plain": [
       "(135771a + 57244mod + 77069m, 1163068)"
      ]
     },
     "execution_count": 7,
     "metadata": {},
     "output_type": "execute_result"
    }
   ],
   "source": [
    "p, t, w = sidh_optimizer.opcount(323, sidh_optimizer.CLN[3], weights)\n",
    "display(p.bitmap())\n",
    "t, w"
   ]
  },
  {
   "cell_type": "code",
   "execution_count": null,
   "metadata": {
    "collapsed": true
   },
   "outputs": [],
   "source": []
  }
 ],
 "metadata": {
  "kernelspec": {
   "display_name": "Python 3",
   "language": "python",
   "name": "python3"
  },
  "language_info": {
   "codemirror_mode": {
    "name": "ipython",
    "version": 3
   },
   "file_extension": ".py",
   "mimetype": "text/x-python",
   "name": "python",
   "nbconvert_exporter": "python",
   "pygments_lexer": "ipython3",
   "version": "3.5.2"
  }
 },
 "nbformat": 4,
 "nbformat_minor": 0
}
