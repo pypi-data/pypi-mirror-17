{
 "cells": [
  {
   "cell_type": "code",
   "execution_count": 103,
   "metadata": {
    "collapsed": false
   },
   "outputs": [
    {
     "name": "stdout",
     "output_type": "stream",
     "text": [
      "The autoreload extension is already loaded. To reload it, use:\n",
      "  %reload_ext autoreload\n"
     ]
    },
    {
     "name": "stderr",
     "output_type": "stream",
     "text": [
      "/Library/Python/2.7/site-packages/sklearn/utils/validation.py:420: DataConversionWarning: Data with input dtype uint8 was converted to float64 by StandardScaler.\n",
      "  warnings.warn(msg, DataConversionWarning)\n",
      "/Library/Python/2.7/site-packages/sklearn/utils/validation.py:420: DataConversionWarning: Data with input dtype uint8 was converted to float64 by StandardScaler.\n",
      "  warnings.warn(msg, DataConversionWarning)\n",
      "/Library/Python/2.7/site-packages/sklearn/utils/validation.py:420: DataConversionWarning: Data with input dtype uint8 was converted to float64 by StandardScaler.\n",
      "  warnings.warn(msg, DataConversionWarning)\n"
     ]
    }
   ],
   "source": [
    "%load_ext autoreload\n",
    "%autoreload 2\n",
    "from sklearn.datasets import fetch_mldata\n",
    "from simple_ml.nn import nn\n",
    "from sklearn.preprocessing import StandardScaler\n",
    "mnist = fetch_mldata('MNIST original')\n",
    "data = mnist.data\n",
    "label = mnist.target\n",
    "X_train, X_test, y_train, y_test = train_test_split(data, label, test_size=1.0/7, random_state=42)\n",
    "\n",
    "scalar = StandardScaler()\n",
    "X_train = scalar.fit_transform(X_train)\n",
    "X_test = scalar.transform(X_test)"
   ]
  },
  {
   "cell_type": "code",
   "execution_count": null,
   "metadata": {
    "collapsed": false
   },
   "outputs": [],
   "source": [
    "from sklearn.linear_model import LogisticRegression\n",
    "lr = LogisticRegression()\n",
    "lr.fit(X_train, y_train)\n",
    "y_pred = lr.predict(X_test)\n",
    "accuracy_score(y_test, y_pred)"
   ]
  },
  {
   "cell_type": "code",
   "execution_count": 2,
   "metadata": {
    "collapsed": false
   },
   "outputs": [
    {
     "data": {
      "text/plain": [
       "0.96989999999999998"
      ]
     },
     "execution_count": 2,
     "metadata": {},
     "output_type": "execute_result"
    }
   ],
   "source": [
    "from sklearn.ensemble import RandomForestClassifier\n",
    "rf = RandomForestClassifier(n_estimators=100)\n",
    "rf.fit(X_train, y_train)\n",
    "y_pred = rf.predict(X_test)\n",
    "accuracy_score(y_test, y_pred)"
   ]
  },
  {
   "cell_type": "code",
   "execution_count": 56,
   "metadata": {
    "collapsed": false
   },
   "outputs": [
    {
     "data": {
      "text/plain": [
       "0.96989999999999998"
      ]
     },
     "execution_count": 56,
     "metadata": {},
     "output_type": "execute_result"
    }
   ],
   "source": [
    "X_train.shape, X_test.shape, y_train.shape, y_test.shape\n",
    "accuracy_score(y_test, y_pred)"
   ]
  },
  {
   "cell_type": "code",
   "execution_count": 60,
   "metadata": {
    "collapsed": true
   },
   "outputs": [],
   "source": [
    "from simple_ml.nn import nn\n",
    "from sklearn.preprocessing import StandardScaler"
   ]
  },
  {
   "cell_type": "code",
   "execution_count": 70,
   "metadata": {
    "collapsed": false
   },
   "outputs": [],
   "source": []
  },
  {
   "cell_type": "code",
   "execution_count": 57,
   "metadata": {
    "collapsed": false
   },
   "outputs": [],
   "source": []
  },
  {
   "cell_type": "code",
   "execution_count": 136,
   "metadata": {
    "collapsed": false
   },
   "outputs": [
    {
     "name": "stdout",
     "output_type": "stream",
     "text": [
      "[epoch 0], cost: 0.005532, accur: 0.953500\n",
      "accuracy on testing set: 0.9488\n",
      "[epoch 1], cost: 0.002346, accur: 0.968733\n",
      "accuracy on testing set: 0.9573\n",
      "[epoch 2], cost: 0.001663, accur: 0.977300\n",
      "accuracy on testing set: 0.9645\n",
      "[epoch 3], cost: 0.001242, accur: 0.982917\n",
      "accuracy on testing set: 0.9688\n",
      "[epoch 4], cost: 0.000982, accur: 0.986483\n",
      "accuracy on testing set: 0.9709\n",
      "[epoch 5], cost: 0.000770, accur: 0.990183\n",
      "accuracy on testing set: 0.9712\n",
      "[epoch 6], cost: 0.000602, accur: 0.993067\n",
      "accuracy on testing set: 0.9725\n",
      "[epoch 7], cost: 0.000496, accur: 0.993767\n",
      "accuracy on testing set: 0.9729\n",
      "[epoch 8], cost: 0.000399, accur: 0.995083\n",
      "accuracy on testing set: 0.9732\n",
      "[epoch 9], cost: 0.000333, accur: 0.996100\n",
      "accuracy on testing set: 0.9739\n"
     ]
    }
   ],
   "source": [
    "est = nn.NeurualNetworkClassifier(hidden_layer_size=100, \n",
    "                                  learning_rate=1e-1, \n",
    "                                  weight_std = 1e-2,\n",
    "                                  alpha=0.0, \n",
    "                                  sgd_epoch=10, \n",
    "                                  sgd_batch_size=64,\n",
    "                                  print_every = 1)\n",
    "est.X_test = X_test\n",
    "est.y_test = y_test\n",
    "est.fit(X_train, y_train)"
   ]
  },
  {
   "cell_type": "code",
   "execution_count": 139,
   "metadata": {
    "collapsed": false
   },
   "outputs": [
    {
     "data": {
      "text/html": [
       "<style>.container { width:100% !important; }</style>"
      ],
      "text/plain": [
       "<IPython.core.display.HTML object>"
      ]
     },
     "metadata": {},
     "output_type": "display_data"
    },
    {
     "data": {
      "text/plain": [
       "0.97389999999999999"
      ]
     },
     "execution_count": 139,
     "metadata": {},
     "output_type": "execute_result"
    }
   ],
   "source": [
    "from IPython.core.display import display, HTML\n",
    "display(HTML(\"<style>.container { width:100% !important; }</style>\"))\n",
    "\n",
    "y_pred = est.predict(X_test)\n",
    "accuracy_score(y_test, y_pred)\n"
   ]
  },
  {
   "cell_type": "code",
   "execution_count": 36,
   "metadata": {
    "collapsed": false
   },
   "outputs": [
    {
     "data": {
      "text/plain": [
       "array([ True,  True,  True,  True,  True,  True,  True,  True,  True,\n",
       "        True,  True,  True,  True,  True,  True,  True,  True,  True,\n",
       "        True,  True,  True,  True,  True,  True,  True,  True,  True,\n",
       "        True,  True,  True,  True,  True,  True,  True,  True,  True,\n",
       "        True,  True,  True,  True,  True,  True,  True,  True,  True,\n",
       "        True,  True,  True,  True,  True,  True,  True,  True,  True,\n",
       "        True,  True,  True,  True,  True,  True,  True,  True,  True,\n",
       "        True,  True,  True,  True,  True,  True,  True,  True,  True,\n",
       "        True,  True,  True,  True,  True,  True,  True,  True,  True,\n",
       "        True,  True,  True,  True,  True,  True,  True,  True,  True,\n",
       "        True,  True,  True,  True,  True,  True,  True,  True,  True,  True], dtype=bool)"
      ]
     },
     "execution_count": 36,
     "metadata": {},
     "output_type": "execute_result"
    }
   ],
   "source": [
    "t == t1"
   ]
  },
  {
   "cell_type": "code",
   "execution_count": 35,
   "metadata": {
    "collapsed": false
   },
   "outputs": [
    {
     "data": {
      "text/plain": [
       "[3.0,\n",
       " 5.0,\n",
       " 3.0,\n",
       " 3.0,\n",
       " 1.0,\n",
       " 5.0,\n",
       " 2.0,\n",
       " 6.0,\n",
       " 4.0,\n",
       " 3.0,\n",
       " 8.0,\n",
       " 6.0,\n",
       " 0.0,\n",
       " 0.0,\n",
       " 3.0,\n",
       " 9.0,\n",
       " 5.0,\n",
       " 5.0,\n",
       " 4.0,\n",
       " 9.0,\n",
       " 1.0,\n",
       " 3.0,\n",
       " 9.0,\n",
       " 7.0,\n",
       " 4.0,\n",
       " 3.0,\n",
       " 1.0,\n",
       " 9.0,\n",
       " 9.0,\n",
       " 9.0,\n",
       " 8.0,\n",
       " 7.0,\n",
       " 0.0,\n",
       " 9.0,\n",
       " 9.0,\n",
       " 8.0,\n",
       " 5.0,\n",
       " 3.0,\n",
       " 0.0,\n",
       " 4.0,\n",
       " 7.0,\n",
       " 5.0,\n",
       " 2.0,\n",
       " 4.0,\n",
       " 8.0,\n",
       " 2.0,\n",
       " 9.0,\n",
       " 2.0,\n",
       " 0.0,\n",
       " 7.0,\n",
       " 5.0,\n",
       " 3.0,\n",
       " 6.0,\n",
       " 3.0,\n",
       " 8.0,\n",
       " 0.0,\n",
       " 5.0,\n",
       " 6.0,\n",
       " 9.0,\n",
       " 6.0,\n",
       " 8.0,\n",
       " 8.0,\n",
       " 2.0,\n",
       " 7.0,\n",
       " 5.0,\n",
       " 9.0,\n",
       " 5.0,\n",
       " 2.0,\n",
       " 3.0,\n",
       " 7.0,\n",
       " 6.0,\n",
       " 3.0,\n",
       " 1.0,\n",
       " 7.0,\n",
       " 5.0,\n",
       " 1.0,\n",
       " 9.0,\n",
       " 8.0,\n",
       " 2.0,\n",
       " 8.0,\n",
       " 5.0,\n",
       " 6.0,\n",
       " 1.0,\n",
       " 3.0,\n",
       " 7.0,\n",
       " 7.0,\n",
       " 8.0,\n",
       " 2.0,\n",
       " 9.0,\n",
       " 5.0,\n",
       " 6.0,\n",
       " 9.0,\n",
       " 5.0,\n",
       " 3.0,\n",
       " 9.0,\n",
       " 4.0,\n",
       " 4.0,\n",
       " 6.0,\n",
       " 0.0,\n",
       " 9.0]"
      ]
     },
     "execution_count": 35,
     "metadata": {},
     "output_type": "execute_result"
    }
   ],
   "source": [
    "t1"
   ]
  },
  {
   "cell_type": "code",
   "execution_count": 20,
   "metadata": {
    "collapsed": true
   },
   "outputs": [],
   "source": [
    "y_pred = rf.predict(X_test)"
   ]
  },
  {
   "cell_type": "code",
   "execution_count": 21,
   "metadata": {
    "collapsed": false
   },
   "outputs": [
    {
     "data": {
      "text/plain": [
       "0.97040000000000004"
      ]
     },
     "execution_count": 21,
     "metadata": {},
     "output_type": "execute_result"
    }
   ],
   "source": [
    "accuracy_score(y_test, y_pred)"
   ]
  },
  {
   "cell_type": "code",
   "execution_count": 36,
   "metadata": {
    "collapsed": false
   },
   "outputs": [],
   "source": [
    "t = X_train[0]\n",
    "t = t.reshape(28, -1)"
   ]
  },
  {
   "cell_type": "code",
   "execution_count": 48,
   "metadata": {
    "collapsed": false
   },
   "outputs": [
    {
     "name": "stdout",
     "output_type": "stream",
     "text": [
      "5.0 5.0\n"
     ]
    },
    {
     "data": {
      "image/png": "[encoded data removed]",
      "text/plain": [
       "<matplotlib.figure.Figure at 0x1253db090>"
      ]
     },
     "metadata": {},
     "output_type": "display_data"
    }
   ],
   "source": [
    "idx = 3230\n",
    "plt.imshow(X_test[idx].reshape(28, -1))\n",
    "print y_pred[idx], y_test[idx]\n",
    "plt.show()"
   ]
  },
  {
   "cell_type": "code",
   "execution_count": 40,
   "metadata": {
    "collapsed": false
   },
   "outputs": [],
   "source": [
    "%matplotlib inline"
   ]
  },
  {
   "cell_type": "code",
   "execution_count": null,
   "metadata": {
    "collapsed": true
   },
   "outputs": [],
   "source": []
  }
 ],
 "metadata": {
  "kernelspec": {
   "display_name": "Python 2",
   "language": "python",
   "name": "python2"
  },
  "language_info": {
   "codemirror_mode": {
    "name": "ipython",
    "version": 2
   },
   "file_extension": ".py",
   "mimetype": "text/x-python",
   "name": "python",
   "nbconvert_exporter": "python",
   "pygments_lexer": "ipython2",
   "version": "2.7.11"
  }
 },
 "nbformat": 4,
 "nbformat_minor": 0
}
