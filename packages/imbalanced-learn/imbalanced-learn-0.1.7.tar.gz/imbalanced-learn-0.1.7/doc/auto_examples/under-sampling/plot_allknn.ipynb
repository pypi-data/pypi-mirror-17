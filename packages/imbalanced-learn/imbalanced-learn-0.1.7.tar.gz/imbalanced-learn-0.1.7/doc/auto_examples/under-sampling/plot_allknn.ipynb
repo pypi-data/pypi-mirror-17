{
  "nbformat_minor": 0, 
  "nbformat": 4, 
  "cells": [
    {
      "execution_count": null, 
      "cell_type": "code", 
      "source": [
        "%matplotlib inline"
      ], 
      "outputs": [], 
      "metadata": {
        "collapsed": false
      }
    }, 
    {
      "source": [
        "\n# AllKNN\n\n\nAn illustration of the AllKNN method.\n\n"
      ], 
      "cell_type": "markdown", 
      "metadata": {}
    }, 
    {
      "execution_count": null, 
      "cell_type": "code", 
      "source": [
        "print(__doc__)\n\nimport matplotlib.pyplot as plt\nimport seaborn as sns\nsns.set()\n\n# Define some color for the plotting\nalmost_black = '#262626'\npalette = sns.color_palette()\n\nfrom sklearn.datasets import make_classification\nfrom sklearn.decomposition import PCA\n\nfrom imblearn.under_sampling import EditedNearestNeighbours\nfrom imblearn.under_sampling import RepeatedEditedNearestNeighbours\nfrom imblearn.under_sampling import AllKNN\n\n# Generate the dataset\nX, y = make_classification(n_classes=2, class_sep=1.25, weights=[0.3, 0.7],\n                           n_informative=3, n_redundant=1, flip_y=0,\n                           n_features=5, n_clusters_per_class=1,\n                           n_samples=5000, random_state=10)\n\n# Instanciate a PCA object for the sake of easy visualisation\npca = PCA(n_components=2)\n# Fit and transform x to visualise inside a 2D feature space\nX_vis = pca.fit_transform(X)\n\n# Three subplots, unpack the axes array immediately\nf, (ax1, ax2, ax3, ax4) = plt.subplots(1, 4)\n\nax1.scatter(X_vis[y == 0, 0], X_vis[y == 0, 1], label=\"Class #0\", alpha=.5,\n            edgecolor=almost_black, facecolor=palette[0], linewidth=0.15)\nax1.scatter(X_vis[y == 1, 0], X_vis[y == 1, 1], label=\"Class #1\", alpha=.5,\n            edgecolor=almost_black, facecolor=palette[2], linewidth=0.15)\nax1.set_title('Original set')\n\n# Apply the ENN\nprint('ENN')\nenn = EditedNearestNeighbours()\nX_resampled, y_resampled = enn.fit_sample(X, y)\nX_res_vis = pca.transform(X_resampled)\nprint('Reduced {:.2f}\\%'.format(100 * (1 - float(len(X_resampled))/ len(X))))\n\nax2.scatter(X_res_vis[y_resampled == 0, 0], X_res_vis[y_resampled == 0, 1],\n            label=\"Class #0\", alpha=.5, edgecolor=almost_black,\n            facecolor=palette[0], linewidth=0.15)\nax2.scatter(X_res_vis[y_resampled == 1, 0], X_res_vis[y_resampled == 1, 1],\n            label=\"Class #1\", alpha=.5, edgecolor=almost_black,\n            facecolor=palette[2], linewidth=0.15)\nax2.set_title('Edited nearest neighbours')\n\n# Apply the RENN\nprint('RENN')\nrenn = RepeatedEditedNearestNeighbours()\nX_resampled, y_resampled = renn.fit_sample(X, y)\nX_res_vis = pca.transform(X_resampled)\nprint('Reduced {:.2f}\\%'.format(100 * (1 - float(len(X_resampled))/ len(X))))\n\nax3.scatter(X_res_vis[y_resampled == 0, 0], X_res_vis[y_resampled == 0, 1],\n            label=\"Class #0\", alpha=.5, edgecolor=almost_black,\n            facecolor=palette[0], linewidth=0.15)\nax3.scatter(X_res_vis[y_resampled == 1, 0], X_res_vis[y_resampled == 1, 1],\n            label=\"Class #1\", alpha=.5, edgecolor=almost_black,\n            facecolor=palette[2], linewidth=0.15)\nax3.set_title('Repeated Edited nearest neighbours')\n\n# Apply the AllKNN\nprint('AllKNN')\nallknn = AllKNN()\nX_resampled, y_resampled = allknn.fit_sample(X, y)\nX_res_vis = pca.transform(X_resampled)\nprint('Reduced {:.2f}\\%'.format(100 * (1 - float(len(X_resampled))/ len(X))))\n\nax4.scatter(X_res_vis[y_resampled == 0, 0], X_res_vis[y_resampled == 0, 1],\n            label=\"Class #0\", alpha=.5, edgecolor=almost_black,\n            facecolor=palette[0], linewidth=0.15)\nax4.scatter(X_res_vis[y_resampled == 1, 0], X_res_vis[y_resampled == 1, 1],\n            label=\"Class #1\", alpha=.5, edgecolor=almost_black,\n            facecolor=palette[2], linewidth=0.15)\nax4.set_title('AllKNN')\n\nplt.show()"
      ], 
      "outputs": [], 
      "metadata": {
        "collapsed": false
      }
    }
  ], 
  "metadata": {
    "kernelspec": {
      "display_name": "Python 2", 
      "name": "python2", 
      "language": "python"
    }, 
    "language_info": {
      "mimetype": "text/x-python", 
      "nbconvert_exporter": "python", 
      "name": "python", 
      "file_extension": ".py", 
      "version": "2.7.11", 
      "pygments_lexer": "ipython2", 
      "codemirror_mode": {
        "version": 2, 
        "name": "ipython"
      }
    }
  }
}