{
  "nbformat_minor": 0, 
  "nbformat": 4, 
  "cells": [
    {
      "execution_count": null, 
      "cell_type": "code", 
      "source": [
        "%matplotlib inline"
      ], 
      "outputs": [], 
      "metadata": {
        "collapsed": false
      }
    }, 
    {
      "source": [
        "\n# SMOTE regular\n\n\nAn illustration of the random SMOTE regular method.\n\n"
      ], 
      "cell_type": "markdown", 
      "metadata": {}
    }, 
    {
      "execution_count": null, 
      "cell_type": "code", 
      "source": [
        "print(__doc__)\n\nimport matplotlib.pyplot as plt\nimport seaborn as sns\nsns.set()\n\n# Define some color for the plotting\nalmost_black = '#262626'\npalette = sns.color_palette()\n\nfrom sklearn.datasets import make_classification\nfrom sklearn.decomposition import PCA\n\nfrom imblearn.over_sampling import SMOTE\n\n# Generate the dataset\nX, y = make_classification(n_classes=2, class_sep=2, weights=[0.1, 0.9],\n                           n_informative=3, n_redundant=1, flip_y=0,\n                           n_features=20, n_clusters_per_class=1,\n                           n_samples=5000, random_state=10)\n\n# Instanciate a PCA object for the sake of easy visualisation\npca = PCA(n_components=2)\n# Fit and transform x to visualise inside a 2D feature space\nX_vis = pca.fit_transform(X)\n\n# Apply regular SMOTE\nsm = SMOTE(kind='regular')\nX_resampled, y_resampled = sm.fit_sample(X, y)\nX_res_vis = pca.transform(X_resampled)\n\n# Two subplots, unpack the axes array immediately\nf, (ax1, ax2) = plt.subplots(1, 2)\n\nax1.scatter(X_vis[y == 0, 0], X_vis[y == 0, 1], label=\"Class #0\", alpha=0.5,\n            edgecolor=almost_black, facecolor=palette[0], linewidth=0.15)\nax1.scatter(X_vis[y == 1, 0], X_vis[y == 1, 1], label=\"Class #1\", alpha=0.5,\n            edgecolor=almost_black, facecolor=palette[2], linewidth=0.15)\nax1.set_title('Original set')\n\nax2.scatter(X_res_vis[y_resampled == 0, 0], X_res_vis[y_resampled == 0, 1],\n            label=\"Class #0\", alpha=.5, edgecolor=almost_black,\n            facecolor=palette[0], linewidth=0.15)\nax2.scatter(X_res_vis[y_resampled == 1, 0], X_res_vis[y_resampled == 1, 1],\n            label=\"Class #1\", alpha=.5, edgecolor=almost_black,\n            facecolor=palette[2], linewidth=0.15)\nax2.set_title('SMOTE regular')\n\nplt.show()"
      ], 
      "outputs": [], 
      "metadata": {
        "collapsed": false
      }
    }
  ], 
  "metadata": {
    "kernelspec": {
      "display_name": "Python 2", 
      "name": "python2", 
      "language": "python"
    }, 
    "language_info": {
      "mimetype": "text/x-python", 
      "nbconvert_exporter": "python", 
      "name": "python", 
      "file_extension": ".py", 
      "version": "2.7.11", 
      "pygments_lexer": "ipython2", 
      "codemirror_mode": {
        "version": 2, 
        "name": "ipython"
      }
    }
  }
}