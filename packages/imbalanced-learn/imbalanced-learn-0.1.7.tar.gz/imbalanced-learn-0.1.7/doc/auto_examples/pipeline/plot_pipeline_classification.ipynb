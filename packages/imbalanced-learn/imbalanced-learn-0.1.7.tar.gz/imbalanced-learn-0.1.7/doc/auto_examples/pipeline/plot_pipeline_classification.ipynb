{
  "nbformat_minor": 0, 
  "nbformat": 4, 
  "cells": [
    {
      "execution_count": null, 
      "cell_type": "code", 
      "source": [
        "%matplotlib inline"
      ], 
      "outputs": [], 
      "metadata": {
        "collapsed": false
      }
    }, 
    {
      "source": [
        "\n\n# Pipeline Object\n\n\nAn example of the Pipeline object working with transformers and resamplers.\n\n"
      ], 
      "cell_type": "markdown", 
      "metadata": {}
    }, 
    {
      "execution_count": null, 
      "cell_type": "code", 
      "source": [
        "print(__doc__)\n\nfrom sklearn.cross_validation import train_test_split as tts\nfrom sklearn.datasets import make_classification\nfrom sklearn.decomposition import PCA\nfrom sklearn.neighbors import KNeighborsClassifier as KNN\nfrom sklearn.metrics import classification_report\n\n\nfrom imblearn.pipeline import make_pipeline\nfrom imblearn.under_sampling import EditedNearestNeighbours\nfrom imblearn.under_sampling import RepeatedEditedNearestNeighbours\n\n# Generate the dataset\nX, y = make_classification(n_classes=2, class_sep=1.25, weights=[0.3, 0.7],\n                           n_informative=3, n_redundant=1, flip_y=0,\n                           n_features=5, n_clusters_per_class=1,\n                           n_samples=5000, random_state=10)\n\n# Instanciate a PCA object for the sake of easy visualisation\npca = PCA(n_components=2)\n\n# Create the samplers\nenn = EditedNearestNeighbours()\nrenn = RepeatedEditedNearestNeighbours()\n\n# Create teh classifier\nknn = KNN(1)\n\n\n# Make the splits\nX_train, X_test, y_train, y_test = tts(X, y, random_state=42)\n\n# Add one transformers and two samplers in the pipeline object\npipeline = make_pipeline(pca, enn, renn, knn)\n\npipeline.fit(X_train, y_train)\ny_hat = pipeline.predict(X_test)\n\nprint(classification_report(y_test, y_hat))"
      ], 
      "outputs": [], 
      "metadata": {
        "collapsed": false
      }
    }
  ], 
  "metadata": {
    "kernelspec": {
      "display_name": "Python 2", 
      "name": "python2", 
      "language": "python"
    }, 
    "language_info": {
      "mimetype": "text/x-python", 
      "nbconvert_exporter": "python", 
      "name": "python", 
      "file_extension": ".py", 
      "version": "2.7.11", 
      "pygments_lexer": "ipython2", 
      "codemirror_mode": {
        "version": 2, 
        "name": "ipython"
      }
    }
  }
}