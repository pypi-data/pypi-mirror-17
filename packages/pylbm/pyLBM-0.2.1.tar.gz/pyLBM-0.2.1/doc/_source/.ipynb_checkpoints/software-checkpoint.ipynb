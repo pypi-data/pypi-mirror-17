{
 "cells": [
  {
   "cell_type": "markdown",
   "metadata": {},
   "source": [
    "# <a href=\"index.html\">CAFES (Cartesian Finite Element Solver)</a>\n",
    "\n",
    "<video control autoplay loop=\"loop\" src=\"figures/sedim3d.ogv\"/>"
   ]
  },
  {
   "cell_type": "markdown",
   "metadata": {},
   "source": [
    "Le Logiciel CAFES est écrit en C/C++ et est parallèle. Il s'appuie fortement sur la librairie PETSc pour la gestion des matrices éléments finis et l'utilisation de solveurs. Le but est de pouvoir résoudre un ensemble de problèmes où il est nécessaire d'avoir un solveur sur grille cartésienne. Pour le moment, les cas étudiés sont\n",
    "\n",
    "- les interactions fluides - particules rigides,\n",
    "- l'influence des cils sur les écoulements (ex: les cils bronchiques),\n",
    "- le déplacement de micro-nageurs dans un fluide visqueux,\n",
    "- ...\n",
    "\n",
    "Ce logiciel sera bientôt disponible au téléchargement."
   ]
  },
  {
   "cell_type": "markdown",
   "metadata": {},
   "source": [
    "# pyLBM\n",
    "\n",
    "<video control autoplay loop=\"loop\" src=\"figures/Karman_Re=20000_mesh=1024_2096.ogv\" alt=\"Suni\" style=\"float:right;margin:0 10px;width:30%;\" />\n",
    "pyLBM est un module Python permettant d'utiliser différentes méthodes Lattice-Boltzmann. Il s'appuie sur le package SymPy pour décrire de manière formelle les polynômes décrivant les schémas utilisés. Un code est ensuite généré en fonction de ces paramètres physiques et mathématiques. \n",
    "\n",
    "Il existe différents types de générateurs (NumPy, Cython, Pythran, Numba) permettant de tirer partie au mieux des performances de la machine. Le code est parallélisé en utilisant mpi4py.\n",
    "\n",
    "L'utilisateur peut créer des domaines complexes s'appuyant sur l'union de formes simples telles que des cercles, des triangles ou des parallélogrammes en dimension 2.\n",
    "\n",
    "Le logiciel est disponible à l'adresse suivante\n",
    "\n",
    "http://www.math.u-psud.fr/pyLBM"
   ]
  }
 ],
 "metadata": {
  "kernelspec": {
   "display_name": "Python 2",
   "language": "python",
   "name": "python2"
  },
  "language_info": {
   "codemirror_mode": {
    "name": "ipython",
    "version": 2
   },
   "file_extension": ".py",
   "mimetype": "text/x-python",
   "name": "python",
   "nbconvert_exporter": "python",
   "pygments_lexer": "ipython2",
   "version": "2.7.12"
  }
 },
 "nbformat": 4,
 "nbformat_minor": 0
}
