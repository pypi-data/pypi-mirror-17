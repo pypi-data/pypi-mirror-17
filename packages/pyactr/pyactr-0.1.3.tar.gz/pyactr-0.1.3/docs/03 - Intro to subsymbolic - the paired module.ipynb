{
 "cells": [
  {
   "cell_type": "markdown",
   "metadata": {},
   "source": [
    "# Paired model"
   ]
  },
  {
   "cell_type": "code",
   "execution_count": 1,
   "metadata": {
    "collapsed": true
   },
   "outputs": [],
   "source": [
    "## Introduction"
   ]
  },
  {
   "cell_type": "markdown",
   "metadata": {},
   "source": [
    "This is the module from unit 4 of LispACT-R tutorials, showing the workings of the subsymbolic system on it.\n",
    "\n",
    "We start by importing relevant packages and ignoring warnings."
   ]
  },
  {
   "cell_type": "code",
   "execution_count": 2,
   "metadata": {
    "collapsed": true
   },
   "outputs": [],
   "source": [
    "import string\n",
    "import random\n",
    "import warnings\n",
    "\n",
    "import pyactr as actr\n",
    "\n",
    "warnings.simplefilter(\"ignore\")"
   ]
  },
  {
   "cell_type": "markdown",
   "metadata": {},
   "source": [
    "The module and environment are shown below. This simulation simulates an experiment in which twenty words are assigned to numbers 0-9 (two words per one number). Subjects had to learn number-word pairs. After the learning phase, they were shown a word (or words) and had to recall the corresponding number (or numbers). The word-number pairs are in the dictionary \"self.text\" in the environment. The environment process proceeds by (i) printing a word first, (ii) waiting for five seconds and printing the corresponding number. If the subject (or the model) presses the right number before the 5s limit, the environment proceeds to the next word (if there is any). The environment process can specify how many pairs should be used in how many trials.\n",
    "\n",
    "The model will be explained in more detail below."
   ]
  },
  {
   "cell_type": "code",
   "execution_count": 3,
   "metadata": {
    "collapsed": true
   },
   "outputs": [],
   "source": [
    "class Environment(actr.Environment): #subclass Environment\n",
    "    \"\"\"\n",
    "    Environment, putting a random letter on screen.\n",
    "    \"\"\"\n",
    "\n",
    "    def __init__(self):\n",
    "        self.text = {\"bank\": \"0\", \"card\": \"1\", \"dart\": \"2\", \"face\": \"3\", \"game\": \"4\",\n",
    "                \"hand\": \"5\", \"jack\": \"6\", \"king\": \"7\", \"lamb\": \"8\", \"mask\": \"9\",\n",
    "                \"neck\": \"0\", \"pipe\": \"1\", \"quip\": \"2\", \"rope\": \"3\", \"sock\": \"4\",\n",
    "                \"tent\": \"5\", \"vent\": \"6\", \"wall\": \"7\", \"xray\": \"8\", \"zinc\": \"9\"}\n",
    "        self.run_time = 5\n",
    "\n",
    "    def environment_process(self, number_pairs, number_trials, start_time=0):\n",
    "        \"\"\"\n",
    "        Environment process. Random letter appears, model has to press the key corresponding to the letter.\n",
    "        \"\"\"\n",
    "        used_text = {key: self.text[key]\\\n",
    "                     for key in random.sample(list(self.text), number_pairs)}\n",
    "\n",
    "        time = start_time\n",
    "        yield self.Event(time, self._ENV, \"STARTING ENVIRONMENT\")\n",
    "        for _ in range(number_trials):\n",
    "           for word in used_text: \n",
    "                self.output(word, trigger=used_text[word]) #output on environment\n",
    "                time += self.run_time\n",
    "                yield self.Event(time, self._ENV, \"PRINTED WORD %s\" % word)\n",
    "                self.output(used_text[word]) #output on environment\n",
    "                time += self.run_time\n",
    "                yield self.Event(time, self._ENV, \"PRINTED NUMBER %s\" % used_text[word])\n",
    "\n",
    "class Model(object):\n",
    "    \"\"\"\n",
    "    Model pressing the right key.\n",
    "    \"\"\"\n",
    "\n",
    "    def __init__(self, env, **kwargs):\n",
    "        self.m = actr.ACTRModel(environment=env, **kwargs)\n",
    "\n",
    "        actr.chunktype(\"pair\", \"probe answer\")\n",
    "        \n",
    "        actr.chunktype(\"goal\", \"state\")\n",
    "\n",
    "        self.dm = self.m.DecMem()\n",
    "\n",
    "        retrieval = self.m.dmBuffer(\"retrieval\", self.dm)\n",
    "\n",
    "        g = self.m.goal(\"g\")\n",
    "        self.m.goal(\"g2\", set_delay=0.2)\n",
    "        start = actr.makechunk(nameofchunk=\"start\", typename=\"chunk\", value=\"start\")\n",
    "        actr.makechunk(nameofchunk=\"attending\", typename=\"chunk\", value=\"attending\")\n",
    "        actr.makechunk(nameofchunk=\"testing\", typename=\"chunk\", value=\"testing\")\n",
    "        actr.makechunk(nameofchunk=\"response\", typename=\"chunk\", value=\"response\")\n",
    "        actr.makechunk(nameofchunk=\"study\", typename=\"chunk\", value=\"study\")\n",
    "        actr.makechunk(nameofchunk=\"attending_target\", typename=\"chunk\", value=\"attending_target\")\n",
    "        actr.makechunk(nameofchunk=\"done\", typename=\"chunk\", value=\"done\")\n",
    "        g.add(actr.makechunk(typename=\"read\", state=start))\n",
    "\n",
    "        self.m.productionstring(name=\"attend_probe\", string=\"\"\"\n",
    "        =g>\n",
    "        isa     goal\n",
    "        state   start\n",
    "        ?visual>\n",
    "        state   auto_buffering\n",
    "        ==>\n",
    "        =g>\n",
    "        isa     goal\n",
    "        state   attending\n",
    "        +visual>\"\"\")\n",
    "\n",
    "        self.m.productionstring(name=\"read_probe\", string=\"\"\"\n",
    "        =g>\n",
    "        isa     goal\n",
    "        state   attending\n",
    "        =visual>\n",
    "        isa     _visual\n",
    "        object  =word\n",
    "        ==>\n",
    "        =g>\n",
    "        isa     goal\n",
    "        state   testing\n",
    "        +g2>\n",
    "        isa     pair\n",
    "        probe   =word\n",
    "        +retrieval>\n",
    "        isa     pair\n",
    "        probe   =word\"\"\")\n",
    "\n",
    "        self.m.productionstring(name=\"recall\", string=\"\"\"\n",
    "        =g>\n",
    "        isa     goal\n",
    "        state   testing\n",
    "        =retrieval>\n",
    "        isa     pair\n",
    "        answer  =ans\n",
    "        ?manual>\n",
    "        state   free\n",
    "        ?visual>\n",
    "        state   free\n",
    "        ==>\n",
    "        +manual>\n",
    "        isa     _manual\n",
    "        cmd     'presskey'\n",
    "        key     =ans\n",
    "        =g>\n",
    "        isa     goal\n",
    "        state   study\n",
    "        ~visual>\"\"\")\n",
    "\n",
    "        self.m.productionstring(name=\"cannot_recall\", string=\"\"\"\n",
    "        =g>\n",
    "        isa     goal\n",
    "        state   testing\n",
    "        ?retrieval>\n",
    "        state   error\n",
    "        ?visual>\n",
    "        state   free\n",
    "        ==>\n",
    "        =g>\n",
    "        isa     goal\n",
    "        state   study\n",
    "        ~visual>\"\"\")\n",
    "\n",
    "        self.m.productionstring(name=\"study_answer\", string=\"\"\"\n",
    "        =g>\n",
    "        isa     goal\n",
    "        state   study\n",
    "        ?visual>\n",
    "        state   auto_buffering\n",
    "        ==>\n",
    "        =g>\n",
    "        isa     goal\n",
    "        state   attending_target\n",
    "        +visual>\"\"\")\n",
    "\n",
    "        self.m.productionstring(name=\"associate\", string=\"\"\"\n",
    "        =g>\n",
    "        isa     goal\n",
    "        state   attending_target\n",
    "        =visual>\n",
    "        isa     _visual\n",
    "        object  =val\n",
    "        =g2>\n",
    "        isa     pair\n",
    "        probe   =word\n",
    "        ?visual>\n",
    "        state   free\n",
    "        ==>\n",
    "        =g>\n",
    "        isa     goal\n",
    "        state   start\n",
    "        ~visual>\n",
    "        =g2>\n",
    "        isa     pair\n",
    "        answer  =val\n",
    "        ~g2>\"\"\")\n"
   ]
  },
  {
   "cell_type": "markdown",
   "metadata": {},
   "source": [
    "Before going through details of the model, we will show the trace. First, we have to initialize the environment and the model."
   ]
  },
  {
   "cell_type": "code",
   "execution_count": 4,
   "metadata": {
    "collapsed": false
   },
   "outputs": [],
   "source": [
    "environ = Environment()\n",
    "m = Model(environ, subsymbolic=True, latency_factor=0.4, decay=0.5,\\\n",
    "          retrieval_threshold=-2, instantaneous_noise=0)"
   ]
  },
  {
   "cell_type": "markdown",
   "metadata": {},
   "source": [
    "Then, we can run a simulation. We will run the simulation for only one pairand two trials. That means that in the first trial, the model will learn word-number association (and will not do anything). In the second trial, it will see the word and will try to recall the right number. We will run the model for 12s (10s are needed to run the first trial)."
   ]
  },
  {
   "cell_type": "code",
   "execution_count": 5,
   "metadata": {
    "collapsed": false
   },
   "outputs": [
    {
     "name": "stdout",
     "output_type": "stream",
     "text": [
      "(0, 'PROCEDURAL', 'CONFLICT RESOLUTION')\n",
      "(0, 'PROCEDURAL', 'RULE SELECTED: attend_probe')\n",
      "OUTPUT ON SCREEN\n",
      "bank\n",
      "END OF OUTPUT\n",
      "(0.05, 'PROCEDURAL', 'RULE FIRED: attend_probe')\n",
      "(0.05, 'g', 'MODIFIED')\n",
      "(0.05, 'visual', 'CLEARED')\n",
      "(0.05, 'PROCEDURAL', 'CONFLICT RESOLUTION')\n",
      "(0.05, 'PROCEDURAL', 'NO RULE FOUND')\n",
      "(0.1, 'visual', 'ATTENDED TO OBJECT')\n",
      "(0.1, 'PROCEDURAL', 'CONFLICT RESOLUTION')\n",
      "(0.1, 'PROCEDURAL', 'RULE SELECTED: read_probe')\n",
      "(0.15, 'PROCEDURAL', 'RULE FIRED: read_probe')\n",
      "(0.15, 'g', 'MODIFIED')\n",
      "(0.15, 'retrieval', 'START RETRIEVAL')\n",
      "(0.15, 'g2', 'CLEARED')\n",
      "(0.15, 'visual', 'CLEARED')\n",
      "(0.15, 'PROCEDURAL', 'CONFLICT RESOLUTION')\n",
      "(0.15, 'PROCEDURAL', 'NO RULE FOUND')\n",
      "(0.35, 'g2', 'CREATED A CHUNK: pair(answer=None, probe=bank)')\n",
      "(0.35, 'PROCEDURAL', 'CONFLICT RESOLUTION')\n",
      "(0.35, 'PROCEDURAL', 'NO RULE FOUND')\n",
      "(3.1056, 'retrieval', 'RETRIEVED: None')\n",
      "(3.1056, 'PROCEDURAL', 'CONFLICT RESOLUTION')\n",
      "(3.1056, 'PROCEDURAL', 'RULE SELECTED: cannot_recall')\n",
      "(3.1556, 'PROCEDURAL', 'RULE FIRED: cannot_recall')\n",
      "(3.1556, 'g', 'MODIFIED')\n",
      "(3.1556, 'visual', 'CLEARED')\n",
      "(3.1556, 'PROCEDURAL', 'CONFLICT RESOLUTION')\n",
      "(3.1556, 'PROCEDURAL', 'NO RULE FOUND')\n",
      "OUTPUT ON SCREEN\n",
      "0\n",
      "END OF OUTPUT\n",
      "(5, 'PROCEDURAL', 'CONFLICT RESOLUTION')\n",
      "(5, 'PROCEDURAL', 'RULE SELECTED: study_answer')\n",
      "(5.05, 'PROCEDURAL', 'RULE FIRED: study_answer')\n",
      "(5.05, 'g', 'MODIFIED')\n",
      "(5.05, 'visual', 'CLEARED')\n",
      "(5.05, 'PROCEDURAL', 'CONFLICT RESOLUTION')\n",
      "(5.05, 'PROCEDURAL', 'NO RULE FOUND')\n",
      "(5.1, 'visual', 'ATTENDED TO OBJECT')\n",
      "(5.1, 'PROCEDURAL', 'CONFLICT RESOLUTION')\n",
      "(5.1, 'PROCEDURAL', 'RULE SELECTED: associate')\n",
      "(5.15, 'PROCEDURAL', 'RULE FIRED: associate')\n",
      "(5.15, 'g2', 'MODIFIED')\n",
      "(5.15, 'g', 'MODIFIED')\n",
      "(5.15, 'g2', 'CLEARED')\n",
      "(5.15, 'visual', 'CLEARED')\n",
      "(5.15, 'PROCEDURAL', 'CONFLICT RESOLUTION')\n",
      "(5.15, 'PROCEDURAL', 'NO RULE FOUND')\n",
      "OUTPUT ON SCREEN\n",
      "bank\n",
      "END OF OUTPUT\n",
      "(10, 'PROCEDURAL', 'CONFLICT RESOLUTION')\n",
      "(10, 'PROCEDURAL', 'RULE SELECTED: attend_probe')\n",
      "(10.05, 'PROCEDURAL', 'RULE FIRED: attend_probe')\n",
      "(10.05, 'g', 'MODIFIED')\n",
      "(10.05, 'visual', 'CLEARED')\n",
      "(10.05, 'PROCEDURAL', 'CONFLICT RESOLUTION')\n",
      "(10.05, 'PROCEDURAL', 'NO RULE FOUND')\n",
      "(10.1, 'visual', 'ATTENDED TO OBJECT')\n",
      "(10.1, 'PROCEDURAL', 'CONFLICT RESOLUTION')\n",
      "(10.1, 'PROCEDURAL', 'RULE SELECTED: read_probe')\n",
      "(10.15, 'PROCEDURAL', 'RULE FIRED: read_probe')\n",
      "(10.15, 'g', 'MODIFIED')\n",
      "(10.15, 'retrieval', 'START RETRIEVAL')\n",
      "(10.15, 'g2', 'CLEARED')\n",
      "(10.15, 'visual', 'CLEARED')\n",
      "(10.15, 'PROCEDURAL', 'CONFLICT RESOLUTION')\n",
      "(10.15, 'PROCEDURAL', 'NO RULE FOUND')\n",
      "(10.35, 'g2', 'CREATED A CHUNK: pair(answer=None, probe=bank)')\n",
      "(10.35, 'PROCEDURAL', 'CONFLICT RESOLUTION')\n",
      "(10.35, 'PROCEDURAL', 'NO RULE FOUND')\n",
      "(11.0444, 'retrieval', 'CLEARED')\n",
      "(11.0444, 'retrieval', 'RETRIEVED: pair(answer=0, probe=bank)')\n",
      "(11.0444, 'PROCEDURAL', 'CONFLICT RESOLUTION')\n",
      "(11.0444, 'PROCEDURAL', 'RULE SELECTED: recall')\n",
      "(11.0944, 'PROCEDURAL', 'RULE FIRED: recall')\n",
      "(11.0944, 'g', 'MODIFIED')\n",
      "(11.0944, 'visual', 'CLEARED')\n",
      "(11.0944, 'manual', 'COMMAND: presskey')\n",
      "(11.0944, 'retrieval', 'CLEARED')\n",
      "(11.0944, 'PROCEDURAL', 'CONFLICT RESOLUTION')\n",
      "(11.0944, 'PROCEDURAL', 'NO RULE FOUND')\n",
      "(11.3444, 'manual', 'PREPARATION COMPLETE')\n",
      "(11.3444, 'PROCEDURAL', 'CONFLICT RESOLUTION')\n",
      "(11.3444, 'PROCEDURAL', 'NO RULE FOUND')\n",
      "(11.3944, 'manual', 'INITIATION COMPLETE')\n",
      "(11.3944, 'PROCEDURAL', 'CONFLICT RESOLUTION')\n",
      "(11.3944, 'PROCEDURAL', 'NO RULE FOUND')\n",
      "(11.4944, 'manual', 'KEY PRESSED: 0')\n",
      "(11.4944, 'PROCEDURAL', 'CONFLICT RESOLUTION')\n",
      "(11.4944, 'PROCEDURAL', 'NO RULE FOUND')\n",
      "OUTPUT ON SCREEN\n",
      "0\n",
      "END OF OUTPUT\n",
      "(11.5944, 'manual', 'MOVEMENT FINISHED')\n",
      "(11.5944, 'PROCEDURAL', 'CONFLICT RESOLUTION')\n",
      "(11.5944, 'PROCEDURAL', 'RULE SELECTED: study_answer')\n",
      "(11.6444, 'PROCEDURAL', 'RULE FIRED: study_answer')\n",
      "(11.6444, 'g', 'MODIFIED')\n",
      "(11.6444, 'visual', 'CLEARED')\n",
      "(11.6444, 'PROCEDURAL', 'CONFLICT RESOLUTION')\n",
      "(11.6444, 'PROCEDURAL', 'NO RULE FOUND')\n",
      "(11.6944, 'visual', 'ATTENDED TO OBJECT')\n",
      "(11.6944, 'PROCEDURAL', 'CONFLICT RESOLUTION')\n",
      "(11.6944, 'PROCEDURAL', 'RULE SELECTED: associate')\n",
      "(11.7444, 'PROCEDURAL', 'RULE FIRED: associate')\n",
      "(11.7444, 'g2', 'MODIFIED')\n",
      "(11.7444, 'g', 'MODIFIED')\n",
      "(11.7444, 'g2', 'CLEARED')\n",
      "(11.7444, 'visual', 'CLEARED')\n",
      "(11.7444, 'PROCEDURAL', 'CONFLICT RESOLUTION')\n",
      "(11.7444, 'PROCEDURAL', 'NO RULE FOUND')\n"
     ]
    }
   ],
   "source": [
    "sim = m.m.simulation(realtime=True, environment_process=environ.environment_process,\\\n",
    "                     number_pairs=1, number_trials=2, start_time=0)\n",
    "sim.run(12)"
   ]
  },
  {
   "cell_type": "markdown",
   "metadata": {},
   "source": [
    "## Breaking the model into parts"
   ]
  },
  {
   "cell_type": "markdown",
   "metadata": {},
   "source": [
    "We initialize the ACT-R model by stating \"actr.ACTRModel(environment=env, \\*\\*kwargs)\". The keyword arguments are used for the subsymbolic system. We will come back to it in a minute."
   ]
  },
  {
   "cell_type": "markdown",
   "metadata": {},
   "source": [
    "Apart from the special way of initializing, there is nothing new in this model. We specify a dm and its buffer, a goal buffer and an imaginal buffer (called \"g2\"). We also create several chunks used in rules, and we specify production rules."
   ]
  },
  {
   "cell_type": "markdown",
   "metadata": {},
   "source": [
    "The crucial bit happens when initializing our model:"
   ]
  },
  {
   "cell_type": "code",
   "execution_count": 6,
   "metadata": {
    "collapsed": true
   },
   "outputs": [],
   "source": [
    "m = Model(environ, subsymbolic=True, latency_factor=0.4, decay=0.5,\\\n",
    "          retrieval_threshold=-2, instantaneous_noise=0)"
   ]
  },
  {
   "cell_type": "markdown",
   "metadata": {},
   "source": [
    "The model is initialized with the environment \"environ\" and several other arguments. The other arguments are the keyword arguments used by the ACT-R model. These arguments specify parameters in the subsymbolic system. First, the subsymbolic part has to be switched on by setting \"subsymbolic\" to True. Then, we specify latency_factor (lf parameter in LispACT-R), decay (bll parameter in LispACT-R), retrieval threshold (rt parameter in LispACT-R), and noise (ans parameter in LispACT-R). The full list of parameters is present in a separate file, actrparameters."
   ]
  }
 ],
 "metadata": {
  "kernelspec": {
   "display_name": "Python 3",
   "language": "python",
   "name": "python3"
  },
  "language_info": {
   "codemirror_mode": {
    "name": "ipython",
    "version": 3
   },
   "file_extension": ".py",
   "mimetype": "text/x-python",
   "name": "python",
   "nbconvert_exporter": "python",
   "pygments_lexer": "ipython3",
   "version": "3.4.3"
  }
 },
 "nbformat": 4,
 "nbformat_minor": 0
}
