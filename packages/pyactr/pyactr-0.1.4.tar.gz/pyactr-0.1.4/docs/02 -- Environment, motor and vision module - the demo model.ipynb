{
 "cells": [
  {
   "cell_type": "markdown",
   "metadata": {},
   "source": [
    "# The demo model"
   ]
  },
  {
   "cell_type": "markdown",
   "metadata": {},
   "source": [
    "The second documented model comes from unit2 of tutorials in Lisp ACT-R."
   ]
  },
  {
   "cell_type": "code",
   "execution_count": 1,
   "metadata": {
    "collapsed": false
   },
   "outputs": [
    {
     "name": "stdout",
     "output_type": "stream",
     "text": [
      "(0, 'PROCEDURAL', 'CONFLICT RESOLUTION')\n",
      "(0, 'PROCEDURAL', 'RULE SELECTED: find_unattended_letter')\n",
      "OUTPUT ON SCREEN\n",
      "G\n",
      "END OF OUTPUT\n",
      "(0.05, 'PROCEDURAL', 'RULE FIRED: find_unattended_letter')\n",
      "(0.05, 'g', 'MODIFIED')\n",
      "(0.05, 'visual', 'CLEARED')\n",
      "(0.05, 'PROCEDURAL', 'CONFLICT RESOLUTION')\n",
      "(0.05, 'PROCEDURAL', 'NO RULE FOUND')\n",
      "(0.1, 'visual', 'ATTENDED TO OBJECT')\n",
      "(0.1, 'PROCEDURAL', 'CONFLICT RESOLUTION')\n",
      "(0.1, 'PROCEDURAL', 'RULE SELECTED: encode_letter')\n",
      "(0.15, 'PROCEDURAL', 'RULE FIRED: encode_letter')\n",
      "(0.15, 'g', 'MODIFIED')\n",
      "(0.15, 'g2', 'CLEARED')\n",
      "(0.15, 'visual', 'CLEARED')\n",
      "(0.15, 'PROCEDURAL', 'CONFLICT RESOLUTION')\n",
      "(0.15, 'PROCEDURAL', 'NO RULE FOUND')\n",
      "(0.35, 'g2', 'CREATED A CHUNK: image(img=G)')\n",
      "(0.35, 'PROCEDURAL', 'CONFLICT RESOLUTION')\n",
      "(0.35, 'PROCEDURAL', 'RULE SELECTED: respond')\n",
      "(0.4, 'PROCEDURAL', 'RULE FIRED: respond')\n",
      "(0.4, 'g', 'MODIFIED')\n",
      "(0.4, 'manual', 'COMMAND: presskey')\n",
      "(0.4, 'g2', 'CLEARED')\n",
      "(0.4, 'PROCEDURAL', 'CONFLICT RESOLUTION')\n",
      "(0.4, 'PROCEDURAL', 'NO RULE FOUND')\n",
      "(0.65, 'manual', 'PREPARATION COMPLETE')\n",
      "(0.65, 'PROCEDURAL', 'CONFLICT RESOLUTION')\n",
      "(0.65, 'PROCEDURAL', 'NO RULE FOUND')\n",
      "(0.7, 'manual', 'INITIATION COMPLETE')\n",
      "(0.7, 'PROCEDURAL', 'CONFLICT RESOLUTION')\n",
      "(0.7, 'PROCEDURAL', 'NO RULE FOUND')\n",
      "(0.8, 'manual', 'KEY PRESSED: G')\n",
      "(0.8, 'PROCEDURAL', 'CONFLICT RESOLUTION')\n",
      "(0.8, 'PROCEDURAL', 'NO RULE FOUND')\n",
      "(0.9, 'manual', 'MOVEMENT FINISHED')\n",
      "(0.9, 'PROCEDURAL', 'CONFLICT RESOLUTION')\n",
      "(0.9, 'PROCEDURAL', 'NO RULE FOUND')\n"
     ]
    },
    {
     "name": "stderr",
     "output_type": "stream",
     "text": [
      "/home/jakub/Dropbox/Documents/moje/computations and corpora/python/pyactr/pyactr/chunks.py:89: UserWarning: Chunk type undefined0 was not defined; added automatically\n",
      "  warnings.warn(\"Chunk type %s was not defined; added automatically\" % typename)\n"
     ]
    }
   ],
   "source": [
    "import string\n",
    "import random\n",
    "import warnings\n",
    "\n",
    "import pyactr as actr\n",
    "\n",
    "\n",
    "class Environment(actr.Environment): #subclass Environment\n",
    "    \"\"\"\n",
    "    Environment, putting a random letter on screen.\n",
    "    \"\"\"\n",
    "\n",
    "    def __init__(self):\n",
    "        self.text = string.ascii_uppercase\n",
    "        self.run_time = 2\n",
    "\n",
    "    def environment_process(self, start_time):\n",
    "        \"\"\"\n",
    "        Environment process. Random letter appears,\n",
    "        model has to press the key corresponding to the letter.\n",
    "        \"\"\"\n",
    "        time = start_time\n",
    "        yield self.Event(time, self._ENV, \"STARTING ENVIRONMENT\") \n",
    "        letter = random.sample(self.text, 1)[0]\n",
    "        self.output(letter, trigger=letter) #output on environment\n",
    "        time = time + self.run_time\n",
    "        yield self.Event(time, self._ENV, \"PRINTED LETTER %s\" % letter)\n",
    "\n",
    "\n",
    "environ = Environment()\n",
    "\n",
    "m = actr.ACTRModel(environment=environ)\n",
    "\n",
    "g = m.goal(\"g\")\n",
    "g2 = m.goal(\"g2\", set_delay=0.2)\n",
    "actr.chunktype(\"chunk\", \"value\")\n",
    "actr.chunktype(\"read\", \"state\")\n",
    "actr.chunktype(\"image\", \"img\")\n",
    "actr.makechunk(nameofchunk=\"start\", typename=\"chunk\", value=\"start\")\n",
    "actr.makechunk(nameofchunk=\"attend_let\", typename=\"chunk\", value=\"attend_let\")\n",
    "actr.makechunk(nameofchunk=\"response\", typename=\"chunk\", value=\"response\")\n",
    "actr.makechunk(nameofchunk=\"done\", typename=\"chunk\", value=\"done\")\n",
    "g.add(actr.chunkstring(name=\"reading\", string=\"\"\"\n",
    "        isa     read\n",
    "        state   start\"\"\"))\n",
    "\n",
    "t1 = m.productionstring(name=\"find_unattended_letter\", string=\"\"\"\n",
    "        =g>\n",
    "        isa     read\n",
    "        state   start\n",
    "        ?visual>\n",
    "        state   free\n",
    "        ==>\n",
    "        =g>\n",
    "        isa     read\n",
    "        state   attend_let\n",
    "        +visual>\"\"\")\n",
    "\n",
    "t2 = m.productionstring(name=\"encode_letter\", string=\"\"\"\n",
    "        =g>\n",
    "        isa     read\n",
    "        state   attend_let\n",
    "        =visual>\n",
    "        isa     _visual\n",
    "        object  =letter\n",
    "        ==>\n",
    "        =g>\n",
    "        isa     read\n",
    "        state   response\n",
    "        +g2>\n",
    "        isa     image\n",
    "        img     =letter\"\"\")\n",
    "\n",
    "m.productionstring(name=\"respond\", string=\"\"\"\n",
    "        =g>\n",
    "        isa     read\n",
    "        state   response\n",
    "        =g2>\n",
    "        isa     image\n",
    "        img     =letter\n",
    "        ?manual>\n",
    "        state   free\n",
    "        ==>\n",
    "        =g>\n",
    "        isa     read\n",
    "        state   done\n",
    "        +manual>\n",
    "        isa     _manual\n",
    "        cmd     'presskey'\n",
    "        key     =letter\"\"\")\n",
    "\n",
    "sim = m.simulation(realtime=True, environment_process=environ.environment_process,\\\n",
    "                   start_time=0)\n",
    "sim.run(2)\n",
    "\n"
   ]
  },
  {
   "cell_type": "markdown",
   "metadata": {},
   "source": [
    "Compared to the first model (discussed in 01), we are now adding environment and we let our ACT-R model interact with the environment (using vision and motor modules)."
   ]
  },
  {
   "cell_type": "markdown",
   "metadata": {},
   "source": [
    "# ACT-R model"
   ]
  },
  {
   "cell_type": "markdown",
   "metadata": {},
   "source": [
    "We focus on vision and motor module here. Notice that these modules are not instantiated in our ACT-R model. That's because pyactr does that automatically and it reserves the names \"manual\" and \"visual\" for these two modules in production rules. It also reserves chunk types \\_manual and \\_visual that are the only possible chunk types that could be used in these modules."
   ]
  },
  {
   "cell_type": "markdown",
   "metadata": {},
   "source": [
    "## Vision module"
   ]
  },
  {
   "cell_type": "markdown",
   "metadata": {},
   "source": [
    "Vision module allows the information that appears in environment to enter ACT-R models."
   ]
  },
  {
   "cell_type": "markdown",
   "metadata": {},
   "source": [
    "There are two most common processes for vision. You can query it, using \"?\". In particular, you can query whether its buffer is empty or not, or you can query its state (\"free\" or \"busy\")."
   ]
  },
  {
   "cell_type": "markdown",
   "metadata": {},
   "source": [
    "Aside from querying, you can also request something into the visual buffer, using \"+\". Unlike with the retrieval buffer, you don't specify any values for vision (see the request \"+visual>\" in the rule find_unattended_letter). It will put into the value of \"object\" of its chunk whatever is present in environment. "
   ]
  },
  {
   "cell_type": "markdown",
   "metadata": {},
   "source": [
    "The vision module is very simple in this respect. It doesn't care about any details of what is to be seen, it just puts it all in. In this respect, it is currently more primitive than LispACTR. Modifications to this will follow."
   ]
  },
  {
   "cell_type": "markdown",
   "metadata": {},
   "source": [
    "## Motor module"
   ]
  },
  {
   "cell_type": "markdown",
   "metadata": {},
   "source": [
    "Motor module can mainly be queried (\"?\") or a chunk can be requested, using \"+\"."
   ]
  },
  {
   "cell_type": "markdown",
   "metadata": {},
   "source": [
    "### Requesting in motor module (\"+\")"
   ]
  },
  {
   "cell_type": "markdown",
   "metadata": {},
   "source": [
    "Unlike other modules, motor module does not put anything into its buffer. Requesting simply means that the motor module will carry out the given command (right now, only pressing a key is possible)."
   ]
  },
  {
   "cell_type": "markdown",
   "metadata": {},
   "source": [
    "This has one consequence. You cannot request an arbitrary chunk in the motor module. You can only request a special chunk. The chunk is called \"\\_manual\" and it has two slots. \"cmd\" (for command) specifies what should be done - currently, only key pressing is possible. \"key\" specifies what key should be pressed. In other words, this requests that \"a\" is pressed:"
   ]
  },
  {
   "cell_type": "code",
   "execution_count": 2,
   "metadata": {
    "collapsed": false
   },
   "outputs": [
    {
     "data": {
      "text/plain": [
       "\"+manual>  isa _manual cmd 'presskey' key='a'\""
      ]
     },
     "execution_count": 2,
     "metadata": {},
     "output_type": "execute_result"
    }
   ],
   "source": [
    "\"+manual>  isa _manual cmd 'presskey' key='a'\""
   ]
  },
  {
   "cell_type": "markdown",
   "metadata": {},
   "source": [
    "### Querying in motor module (\"?\")"
   ]
  },
  {
   "cell_type": "markdown",
   "metadata": {},
   "source": [
    "You can query the state of the motor module. But motor module has a few more states. According to ACT-R, carrying out a motor command has subphases: preparation phase, processor and execution. You can query any of these states in motor module. Here is a table from the Lisp ACT-R reference manual, summarizing the states:"
   ]
  },
  {
   "cell_type": "markdown",
   "metadata": {},
   "source": [
    "    Preparation state Processor state Execution state When\n",
    "    FREE              FREE            FREE            Before event arrives\n",
    "    BUSY              BUSY            FREE            When event is received\n",
    "    FREE              BUSY            BUSY            After preparation of movement\n",
    "    FREE              FREE            BUSY            After initiation movement\n",
    "    FREE              FREE            FREE            When movement is complete"
   ]
  },
  {
   "cell_type": "markdown",
   "metadata": {},
   "source": [
    "Motor module can be interrupted in preparation state by a new request. After that, it will carry out its process and it will not be interrupted, so it might make sense to query for preparation state."
   ]
  },
  {
   "cell_type": "markdown",
   "metadata": {},
   "source": [
    "Currently, the implemented motor module is very primitive. It does not actually calculate time to carry out a process, it just takes default values from Lisp ACT-R."
   ]
  },
  {
   "cell_type": "markdown",
   "metadata": {},
   "source": [
    "## Imaginal buffer"
   ]
  },
  {
   "cell_type": "markdown",
   "metadata": {},
   "source": [
    "Imaginal buffer is a late comer to ACT-R. It is like goal, in that it specifies the overarching aim in the task. But unlike goal, it takes time to set. Commonly, the set time is 0.2 seconds. There is no separate module for imaginal buffer in pyactr. You simply create it by creating a second goal buffer, with set_delay=0.2."
   ]
  },
  {
   "cell_type": "code",
   "execution_count": 3,
   "metadata": {
    "collapsed": false
   },
   "outputs": [
    {
     "name": "stdout",
     "output_type": "stream",
     "text": [
      "set()\n"
     ]
    }
   ],
   "source": [
    "example = actr.ACTRModel()\n",
    "imaginal = example.goal(\"imaginal\", set_delay=0.2)\n",
    "print(imaginal)"
   ]
  },
  {
   "cell_type": "markdown",
   "metadata": {},
   "source": [
    "## Chunks"
   ]
  },
  {
   "cell_type": "markdown",
   "metadata": {},
   "source": [
    "In contrast to 01 -- Introduction to symbolic system -- the count model, this model does not define chunks using chunkstring, but makechunk. In makechunk, attribute value pairs are keyword arguments of the function, and you can define the name of the chunk and the type of the chunk(both arguments are optional). The name of the chunk has to be filled in if you are going to refer back to the chunk in other chunks or in rules, i.e., if it is a value of some slot (as it is the case here)."
   ]
  },
  {
   "cell_type": "markdown",
   "metadata": {},
   "source": [
    "The following two notations are equivalent."
   ]
  },
  {
   "cell_type": "code",
   "execution_count": 4,
   "metadata": {
    "collapsed": false
   },
   "outputs": [
    {
     "data": {
      "text/plain": [
       "chunk(value=10)"
      ]
     },
     "execution_count": 4,
     "metadata": {},
     "output_type": "execute_result"
    }
   ],
   "source": [
    "actr.makechunk(typename=\"chunk\", value=10)"
   ]
  },
  {
   "cell_type": "code",
   "execution_count": 5,
   "metadata": {
    "collapsed": false
   },
   "outputs": [
    {
     "data": {
      "text/plain": [
       "chunk(value=10)"
      ]
     },
     "execution_count": 5,
     "metadata": {},
     "output_type": "execute_result"
    }
   ],
   "source": [
    "actr.chunkstring(string=\"isa chunk value 10\")"
   ]
  },
  {
   "cell_type": "markdown",
   "metadata": {},
   "source": [
    "# Environment"
   ]
  },
  {
   "cell_type": "markdown",
   "metadata": {},
   "source": [
    "Repeated here:"
   ]
  },
  {
   "cell_type": "code",
   "execution_count": 6,
   "metadata": {
    "collapsed": true
   },
   "outputs": [],
   "source": [
    "class Environment(actr.Environment): #subclass Environment\n",
    "    \"\"\"\n",
    "    Environment, putting a random letter on screen.\n",
    "    \"\"\"\n",
    "\n",
    "    def __init__(self):\n",
    "        self.text = string.ascii_uppercase\n",
    "        self.run_time = 2\n",
    "\n",
    "    def environment_process(self, start_time):\n",
    "        \"\"\"\n",
    "        Environment process. Random letter appears, model has to press the key corresponding to the letter.\n",
    "        \"\"\"\n",
    "        time = start_time\n",
    "        yield self.Event(time, self._ENV, \"STARTING ENVIRONMENT\") \n",
    "        letter = random.sample(self.text, 1)[0]\n",
    "        self.output(letter, trigger=letter) #output on environment\n",
    "        time = time + self.run_time\n",
    "        yield self.Event(time, self._ENV, \"PRINTED LETTER %s\" % letter)\n"
   ]
  },
  {
   "cell_type": "markdown",
   "metadata": {},
   "source": [
    "The environment is a class, subclassing Environment present in the package. When we initalize it, we specify how long the environment will be running in \"run_time\".The default value is 1s."
   ]
  },
  {
   "cell_type": "markdown",
   "metadata": {},
   "source": [
    "The environment class should have a method which will specify an environment process. In this case, the process consists in (i) selecting a letter, (ii) printing on the screen."
   ]
  },
  {
   "cell_type": "markdown",
   "metadata": {},
   "source": [
    "Printing on the screen is taken care of by the superclass. You call the method \"output\" and specify what should be printed and what trigger should the environment have. The trigger is the crucial interaction with the ACT-R model. It says to what action the environment will respond. In this case, a random letter is printed on screen and environment will respond to pressing whatever was printed on the screen. The response means that the current output is closed and the environment process moves to the next step."
   ]
  },
  {
   "cell_type": "markdown",
   "metadata": {},
   "source": [
    "Environment also specifies events taking place in it (self.Event). You have to have the first event to start your environment. The third slot is the name of the action, the second slot is the name of the process. Normally, it's good to use self.\\_ENV for the second slot it's just the name \"ENVIRONMENT\". It doesn't matter what names you use for these two slots. The only crucial part is the first slot, which specifies at what time the event should take place. Most likely, the first event will take place when the whole simulation starts, as it is here."
   ]
  },
  {
   "cell_type": "code",
   "execution_count": 7,
   "metadata": {
    "collapsed": false
   },
   "outputs": [],
   "source": [
    "example = environ.Event(time=0, proc=environ._ENV, action=\"STARTING ENVIRONMENT\")"
   ]
  },
  {
   "cell_type": "markdown",
   "metadata": {},
   "source": [
    "The second event would take place after the amount of time given in the first argument (in this case, it is 10s). However, if trigger is done meanwhile, the second event quietly disappears and the environment process moves on to the next step (in this case, there is none)."
   ]
  },
  {
   "cell_type": "markdown",
   "metadata": {},
   "source": [
    "Some more examples of environments are in the folder examples_environment."
   ]
  },
  {
   "cell_type": "markdown",
   "metadata": {},
   "source": [
    "# Running the model"
   ]
  },
  {
   "cell_type": "markdown",
   "metadata": {},
   "source": [
    "The model and the environment are initialized:"
   ]
  },
  {
   "cell_type": "code",
   "execution_count": 8,
   "metadata": {
    "collapsed": true
   },
   "outputs": [],
   "source": [
    "environ = Environment()\n",
    "m = actr.ACTRModel(environment=environ)"
   ]
  },
  {
   "cell_type": "markdown",
   "metadata": {},
   "source": [
    "Note that the model now specifies one argument, environment. This lets the ACT-R model know that there is an environment it can interact with."
   ]
  },
  {
   "cell_type": "markdown",
   "metadata": {},
   "source": [
    "After that, we added all necessary bits and pieces and started the simulation of the model."
   ]
  },
  {
   "cell_type": "code",
   "execution_count": 9,
   "metadata": {
    "collapsed": false
   },
   "outputs": [],
   "source": [
    "dm = m.DecMem()\n",
    "g = m.goal(\"g\", default_harvest=dm)\n",
    "g2 = m.goal(\"g2\", default_harvest=dm, set_delay=0.2)\n",
    "g.add(actr.chunkstring(name=\"reading\", string=\"\"\"\n",
    "        isa     read\n",
    "        state   start\"\"\"))\n",
    "\n",
    "t1 = m.productionstring(name=\"find_unattended_letter\", string=\"\"\"\n",
    "        =g>\n",
    "        isa     read\n",
    "        state   start\n",
    "        ?visual>\n",
    "        state   free\n",
    "        ==>\n",
    "        =g>\n",
    "        isa     read\n",
    "        state   attend_let\n",
    "        +visual>\"\"\")\n",
    "\n",
    "t2 = m.productionstring(name=\"encode_letter\", string=\"\"\"\n",
    "        =g>\n",
    "        isa     read\n",
    "        state   attend_let\n",
    "        =visual>\n",
    "        isa     _visual\n",
    "        object  =letter\n",
    "        ==>\n",
    "        =g>\n",
    "        isa     read\n",
    "        state   response\n",
    "        +g2>\n",
    "        isa     image\n",
    "        img     =letter\"\"\")\n",
    "\n",
    "m.productionstring(name=\"respond\", string=\"\"\"\n",
    "        =g>\n",
    "        isa     read\n",
    "        state   response\n",
    "        =g2>\n",
    "        isa     image\n",
    "        img     =letter\n",
    "        ?manual>\n",
    "        state   free\n",
    "        ==>\n",
    "        =g>\n",
    "        isa     read\n",
    "        state   done\n",
    "        +manual>\n",
    "        isa     _manual\n",
    "        cmd     'presskey'\n",
    "        key     =letter\"\"\")\n",
    "\n",
    "\n",
    "sim = m.simulation(realtime=True, environment_process=environ.environment_process,\\\n",
    "                   start_time=0)\n"
   ]
  },
  {
   "cell_type": "markdown",
   "metadata": {},
   "source": [
    "A few new things are present in the last variable assignment. First, we state realtime as True. This ensures that the simulation will be run in real time."
   ]
  },
  {
   "cell_type": "markdown",
   "metadata": {},
   "source": [
    "The next bit specifies what process we will use in our environment. We use \"environment_process\", which consists in (i) printing a random letter on screen, (ii) waiting for the model to press the same key (see above). After that we have to supply keyword arguments that the selected environment process takes (apart from self)."
   ]
  },
  {
   "cell_type": "markdown",
   "metadata": {},
   "source": [
    "The next step is running the simulation."
   ]
  },
  {
   "cell_type": "code",
   "execution_count": 10,
   "metadata": {
    "collapsed": false
   },
   "outputs": [
    {
     "name": "stdout",
     "output_type": "stream",
     "text": [
      "(0, 'PROCEDURAL', 'CONFLICT RESOLUTION')\n",
      "(0, 'PROCEDURAL', 'RULE SELECTED: find_unattended_letter')\n",
      "OUTPUT ON SCREEN\n",
      "X\n",
      "END OF OUTPUT\n",
      "(0.05, 'PROCEDURAL', 'RULE FIRED: find_unattended_letter')\n",
      "(0.05, 'g', 'MODIFIED')\n",
      "(0.05, 'visual', 'CLEARED')\n",
      "(0.05, 'PROCEDURAL', 'CONFLICT RESOLUTION')\n",
      "(0.05, 'PROCEDURAL', 'NO RULE FOUND')\n",
      "(0.1, 'visual', 'ATTENDED TO OBJECT')\n",
      "(0.1, 'PROCEDURAL', 'CONFLICT RESOLUTION')\n",
      "(0.1, 'PROCEDURAL', 'RULE SELECTED: encode_letter')\n",
      "(0.15, 'PROCEDURAL', 'RULE FIRED: encode_letter')\n",
      "(0.15, 'g', 'MODIFIED')\n",
      "(0.15, 'g2', 'CLEARED')\n",
      "(0.15, 'visual', 'CLEARED')\n",
      "(0.15, 'PROCEDURAL', 'CONFLICT RESOLUTION')\n",
      "(0.15, 'PROCEDURAL', 'NO RULE FOUND')\n",
      "(0.35, 'g2', 'CREATED A CHUNK: image(img=X)')\n",
      "(0.35, 'PROCEDURAL', 'CONFLICT RESOLUTION')\n",
      "(0.35, 'PROCEDURAL', 'RULE SELECTED: respond')\n",
      "(0.4, 'PROCEDURAL', 'RULE FIRED: respond')\n",
      "(0.4, 'g', 'MODIFIED')\n",
      "(0.4, 'manual', 'COMMAND: presskey')\n",
      "(0.4, 'g2', 'CLEARED')\n",
      "(0.4, 'PROCEDURAL', 'CONFLICT RESOLUTION')\n",
      "(0.4, 'PROCEDURAL', 'NO RULE FOUND')\n",
      "(0.65, 'manual', 'PREPARATION COMPLETE')\n",
      "(0.65, 'PROCEDURAL', 'CONFLICT RESOLUTION')\n",
      "(0.65, 'PROCEDURAL', 'NO RULE FOUND')\n",
      "(0.7, 'manual', 'INITIATION COMPLETE')\n",
      "(0.7, 'PROCEDURAL', 'CONFLICT RESOLUTION')\n",
      "(0.7, 'PROCEDURAL', 'NO RULE FOUND')\n",
      "(0.8, 'manual', 'KEY PRESSED: X')\n",
      "(0.8, 'PROCEDURAL', 'CONFLICT RESOLUTION')\n",
      "(0.8, 'PROCEDURAL', 'NO RULE FOUND')\n",
      "(0.9, 'manual', 'MOVEMENT FINISHED')\n",
      "(0.9, 'PROCEDURAL', 'CONFLICT RESOLUTION')\n",
      "(0.9, 'PROCEDURAL', 'NO RULE FOUND')\n"
     ]
    },
    {
     "name": "stderr",
     "output_type": "stream",
     "text": [
      "/home/jakub/Dropbox/Documents/moje/computations and corpora/python/pyactr/pyactr/chunks.py:89: UserWarning: Chunk type undefined1 was not defined; added automatically\n",
      "  warnings.warn(\"Chunk type %s was not defined; added automatically\" % typename)\n"
     ]
    }
   ],
   "source": [
    "sim.run(2)"
   ]
  },
  {
   "cell_type": "markdown",
   "metadata": {},
   "source": [
    "And we can check various buffers or declarative memory (added here)."
   ]
  },
  {
   "cell_type": "code",
   "execution_count": 11,
   "metadata": {
    "collapsed": false
   },
   "outputs": [
    {
     "name": "stdout",
     "output_type": "stream",
     "text": [
      "set()\n"
     ]
    }
   ],
   "source": [
    "print(g2)"
   ]
  },
  {
   "cell_type": "code",
   "execution_count": 12,
   "metadata": {
    "collapsed": false
   },
   "outputs": [
    {
     "name": "stdout",
     "output_type": "stream",
     "text": [
      "{read(state=chunk(value=done))}\n"
     ]
    }
   ],
   "source": [
    "print(g)"
   ]
  },
  {
   "cell_type": "code",
   "execution_count": 13,
   "metadata": {
    "collapsed": false
   },
   "outputs": [
    {
     "name": "stdout",
     "output_type": "stream",
     "text": [
      "{image(img=X): {0.4}, _visual(object=X): {0.15}}\n"
     ]
    }
   ],
   "source": [
    "print(dm)"
   ]
  },
  {
   "cell_type": "markdown",
   "metadata": {},
   "source": [
    "Notice that the declarative memory is not empty! Why not? Because the visual and g2 module were cleared at some point in our rules. And every module, when cleared, sends chunks off into the declarative memory it is associated with. The memory is specified by default_harvest in case of goal and visual buffers and by declarative\\_memory in case of retrieval buffers. If there is only one declarative memory, it is enough to specify it once, other buffers will be associated with it automatically."
   ]
  },
  {
   "cell_type": "markdown",
   "metadata": {},
   "source": [
    "Notice that the declarative memory also specifies when buffer clearing happened. E.g., we see that the memory received a chunk at 0.15 and 0.4s."
   ]
  }
 ],
 "metadata": {
  "kernelspec": {
   "display_name": "Python 3",
   "language": "python",
   "name": "python3"
  },
  "language_info": {
   "codemirror_mode": {
    "name": "ipython",
    "version": 3
   },
   "file_extension": ".py",
   "mimetype": "text/x-python",
   "name": "python",
   "nbconvert_exporter": "python",
   "pygments_lexer": "ipython3",
   "version": "3.4.3"
  }
 },
 "nbformat": 4,
 "nbformat_minor": 0
}
