{
 "cells": [
  {
   "cell_type": "markdown",
   "metadata": {},
   "source": [
    "> Register the package on pypi."
   ]
  },
  {
   "cell_type": "code",
   "execution_count": 1,
   "metadata": {
    "collapsed": false
   },
   "outputs": [
    {
     "name": "stdout",
     "output_type": "stream",
     "text": [
      "running register\n",
      "running egg_info\n",
      "writing dependency_links to magical_magic.egg-info/dependency_links.txt\n",
      "writing requirements to magical_magic.egg-info/requires.txt\n",
      "writing magical_magic.egg-info/PKG-INFO\n",
      "writing top-level names to magical_magic.egg-info/top_level.txt\n",
      "reading manifest file 'magical_magic.egg-info/SOURCES.txt'\n",
      "reading manifest template 'MANIFEST.in'\n",
      "warning: no files found matching '*.ipynb' under directory 'tests/'\n",
      "writing manifest file 'magical_magic.egg-info/SOURCES.txt'\n",
      "running check\n",
      "Registering magical-magic to https://pypi.python.org/pypi\n",
      "Server response (200): OK\n"
     ]
    }
   ],
   "source": [
    "!python setup.py register -r pypi"
   ]
  },
  {
   "cell_type": "code",
   "execution_count": null,
   "metadata": {
    "collapsed": true
   },
   "outputs": [],
   "source": []
  }
 ],
 "metadata": {
  "anaconda-cloud": {},
  "kernelspec": {
   "display_name": "Python [Root]",
   "language": "python",
   "name": "Python [Root]"
  },
  "language_info": {
   "codemirror_mode": {
    "name": "ipython",
    "version": 3
   },
   "file_extension": ".py",
   "mimetype": "text/x-python",
   "name": "python",
   "nbconvert_exporter": "python",
   "pygments_lexer": "ipython3",
   "version": "3.5.2"
  }
 },
 "nbformat": 4,
 "nbformat_minor": 0
}
