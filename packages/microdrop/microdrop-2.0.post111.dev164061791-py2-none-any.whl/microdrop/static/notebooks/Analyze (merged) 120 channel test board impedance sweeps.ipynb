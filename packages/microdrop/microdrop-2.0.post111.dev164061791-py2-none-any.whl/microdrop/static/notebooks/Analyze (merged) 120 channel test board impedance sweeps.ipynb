{
 "cells": [
  {
   "cell_type": "code",
   "execution_count": 1,
   "metadata": {
    "collapsed": true
   },
   "outputs": [],
   "source": [
    "import os\n",
    "import re\n",
    "\n",
    "from dmf_control_board_firmware.calibrate.impedance import TEST_LOADS\n",
    "from dmf_control_board_firmware.chip_test.plot import plot_capacitance_summary\n",
    "from ipywidgets import SelectMultiple\n",
    "from path_helpers import path\n",
    "import matplotlib.pyplot as plt\n",
    "import matplotlib as mpl\n",
    "import numpy as np\n",
    "import pandas as pd"
   ]
  },
  {
   "cell_type": "markdown",
   "metadata": {},
   "source": [
    "## Choose data files to merge data from"
   ]
  },
  {
   "cell_type": "code",
   "execution_count": 2,
   "metadata": {
    "collapsed": true
   },
   "outputs": [],
   "source": [
    "# Get current working directory.\n",
    "pwd = path(os.getcwd())\n",
    "\n",
    "start_name_i = len('channel-impedances-')\n",
    "data_paths = [(f.name[start_name_i:], f)\n",
    "              for f in\n",
    "              sorted(pwd.parent.walkfiles('channel-impedances*.h5'),\n",
    "                     key=lambda v: -v.mtime)]\n",
    "selection = SelectMultiple(options=data_paths,\n",
    "                           selected_labels=[data_paths[0][0]])\n",
    "selection"
   ]
  },
  {
   "cell_type": "markdown",
   "metadata": {},
   "source": [
    "## Merge impedance data frames from selected files"
   ]
  },
  {
   "cell_type": "code",
   "execution_count": 3,
   "metadata": {
    "collapsed": false
   },
   "outputs": [],
   "source": [
    "frames = []\n",
    "\n",
    "# Load `channel_impedances` frame from selected files.\n",
    "for hdf_path_i in selection.value:\n",
    "    match = re.search(r'\\[(?P<tag>.*)\\]', hdf_path_i)\n",
    "    if not match:\n",
    "        continue\n",
    "    df_channel_impedances_i = pd.read_hdf(str(hdf_path_i),\n",
    "                                          '/channel_impedances')\n",
    "    df_channel_impedances_i.insert(0, 'tag', match.group('tag'))\n",
    "    frames.append(df_channel_impedances_i)\n",
    "    \n",
    "# Merge frames.\n",
    "df_channel_impedances = pd.concat(frames)\n",
    "\n",
    "# Load electrode/channel mapping and device geometry information\n",
    "# (e.g., electrode shapes).\n",
    "hdf_store = pd.HDFStore(str(hdf_path_i), 'r')\n",
    "data = {k[1:]: hdf_store[k] for k in ['/shapes',\n",
    "                                      '/device/electrodes_by_channel',\n",
    "                                      '/device/channels_by_electrode']}\n",
    "hdf_store.close()\n",
    "data['channel_impedances'] = df_channel_impedances"
   ]
  },
  {
   "cell_type": "markdown",
   "metadata": {},
   "source": [
    "--------------------------------------------------"
   ]
  },
  {
   "cell_type": "markdown",
   "metadata": {},
   "source": [
    "## Compare to loads on test board"
   ]
  },
  {
   "cell_type": "code",
   "execution_count": 4,
   "metadata": {
    "collapsed": true
   },
   "outputs": [],
   "source": [
    "%matplotlib inline"
   ]
  },
  {
   "cell_type": "code",
   "execution_count": 5,
   "metadata": {
    "collapsed": false
   },
   "outputs": [],
   "source": [
    "TEST_LOADS_40 = TEST_LOADS\n",
    "TEST_LOADS_120 = pd.Series(np.tile(TEST_LOADS_40[::2], 6),\n",
    "                           index=range(3 * TEST_LOADS_40.shape[0]))"
   ]
  },
  {
   "cell_type": "code",
   "execution_count": 6,
   "metadata": {
    "collapsed": false
   },
   "outputs": [
    {
     "data": {
      "image/png": "[encoded data removed]",
      "text/plain": [
       "<matplotlib.figure.Figure at 0x1369b870>"
      ]
     },
     "metadata": {},
     "output_type": "display_data"
    }
   ],
   "source": [
    "channel_capacitance = (df_channel_impedances.groupby('channel_i')\n",
    "                       ['capacitance'].mean()) / TEST_LOADS_120\n",
    "fig, axis_bar = plt.subplots(figsize=(15, 6))\n",
    "\n",
    "with mpl.style.context(['ggplot']):\n",
    "    axis = channel_capacitance.plot(kind='bar')"
   ]
  }
 ],
 "metadata": {
  "kernelspec": {
   "display_name": "Python 2",
   "language": "python",
   "name": "python2"
  },
  "language_info": {
   "codemirror_mode": {
    "name": "ipython",
    "version": 2
   },
   "file_extension": ".py",
   "mimetype": "text/x-python",
   "name": "python",
   "nbconvert_exporter": "python",
   "pygments_lexer": "ipython2",
   "version": "2.7.9"
  }
 },
 "nbformat": 4,
 "nbformat_minor": 0
}
