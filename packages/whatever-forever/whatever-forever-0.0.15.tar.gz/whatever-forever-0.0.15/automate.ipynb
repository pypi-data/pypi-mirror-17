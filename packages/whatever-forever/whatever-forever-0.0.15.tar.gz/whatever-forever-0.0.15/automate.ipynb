{
 "cells": [
  {
   "cell_type": "markdown",
   "metadata": {},
   "source": [
    "## Automation\n",
    "Nothing too fancy here."
   ]
  },
  {
   "cell_type": "code",
   "execution_count": 16,
   "metadata": {
    "collapsed": false
   },
   "outputs": [],
   "source": [
    "!python setup.py register -r pypi\n",
    "!python setup.py sdist\n",
    "!python setup.py bdist_wheel\n",
    "!python setup.py sdist upload -r pypi\n",
    "!python setup.py bdist_wheel upload -r pypi"
   ]
  },
  {
   "cell_type": "code",
   "execution_count": null,
   "metadata": {
    "collapsed": true
   },
   "outputs": [],
   "source": [
    "import os\n",
    "from glob import glob\n",
    "from pyquery import PyQuery as pq\n",
    "from nbconvert import export_html, export_rst"
   ]
  },
  {
   "cell_type": "code",
   "execution_count": null,
   "metadata": {
    "collapsed": true
   },
   "outputs": [],
   "source": [
    "for the_docs in [\n",
    "    *glob('whatever/*.ipynb'),\n",
    "    *glob('docs/*.ipynb'), *glob('docs/**/*.ipynb')\n",
    "]:\n",
    "    with open(the_docs) as f:\n",
    "        q = pq(export_html(the_docs)[0])\n",
    "    path = the_docs.split('/')\n",
    "    fn = path[-1]\n",
    "    if path[0] == 'readme.ipynb':\n",
    "        path[0] = 'docs'\n",
    "    if path[0] == 'whatever':\n",
    "        path[0] = 'docs/source'\n",
    "    directory = '/'.join(path[:-1])\n",
    "    if not os.path.isdir(directory):\n",
    "        makedirs(directory)\n",
    "    with open(directory+'/'+fn.replace('.ipynb','.html'), 'w') as f:\n",
    "        f.write(\n",
    "            \"\"\"---\n",
    "layout: index\n",
    "---\n",
    "\"\"\" + (\"{}\" if 'index.ipynb' == fn else \"\"\"{{% raw %}}{}{{% endraw %}}\"\"\").format(\n",
    "                    q('body').html(method='html'))\n",
    "            )"
   ]
  },
  {
   "cell_type": "code",
   "execution_count": 10,
   "metadata": {
    "collapsed": false
   },
   "outputs": [],
   "source": [
    "directory = 'docs/_layouts'\n",
    "if not os.path.isdir(directory):\n",
    "    makedirs(directory)\n",
    "\n",
    "with open('docs/_layouts/index.html', 'w') as f:\n",
    "    q('body').html('{{content}}', method='html')\n",
    "    f.write(\n",
    "        \"\"\"<!doctype html><html>\"\"\"+q.html(method='html').strip()+\"\"\"</html>\"\"\"\n",
    "    )"
   ]
  },
  {
   "cell_type": "markdown",
   "metadata": {},
   "source": [
    "### Run tests"
   ]
  },
  {
   "cell_type": "code",
   "execution_count": 25,
   "metadata": {
    "collapsed": false
   },
   "outputs": [],
   "source": [
    "# !flake8"
   ]
  },
  {
   "cell_type": "markdown",
   "metadata": {},
   "source": [
    "## Test Release for PyPi"
   ]
  }
 ],
 "metadata": {
  "anaconda-cloud": {},
  "kernelspec": {
   "display_name": "Python [Root]",
   "language": "python",
   "name": "Python [Root]"
  },
  "language_info": {
   "codemirror_mode": {
    "name": "ipython",
    "version": 3
   },
   "file_extension": ".py",
   "mimetype": "text/x-python",
   "name": "python",
   "nbconvert_exporter": "python",
   "pygments_lexer": "ipython3",
   "version": "3.5.2"
  }
 },
 "nbformat": 4,
 "nbformat_minor": 0
}
