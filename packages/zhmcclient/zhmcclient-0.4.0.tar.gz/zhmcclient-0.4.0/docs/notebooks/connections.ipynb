{
 "cells": [
  {
   "cell_type": "markdown",
   "metadata": {},
   "source": [
    "# Making Connections"
   ]
  },
  {
   "cell_type": "markdown",
   "metadata": {},
   "source": [
    "<a href=\"#\" onclick=\"history.back()\">&lt;--- Back</a>"
   ]
  },
  {
   "cell_type": "markdown",
   "metadata": {},
   "source": [
    "Once the zhmcclient package has been installed, the next stage is to learn how to make connections to an HMC. A client's connection to an HMC is represented by an instance of the `zhmcclient.Session` Python class.\n",
    "\n",
    "Creating a connection is quite simple. All that is required is a URL for the HMC, and a set of credentials. The following code creates an SSL-encrypted connection to an HMC:"
   ]
  },
  {
   "cell_type": "code",
   "execution_count": null,
   "metadata": {
    "collapsed": false
   },
   "outputs": [],
   "source": [
    "import zhmcclient\n",
    "\n",
    "hmc = 'https://myhmc.acme.com'\n",
    "user = 'user'\n",
    "password = 'password'\n",
    "\n",
    "session = zhmcclient.Session(hmc, (user, password))"
   ]
  },
  {
   "cell_type": "markdown",
   "metadata": {},
   "source": [
    "After creating a session, various methods may be called on the `zhmcclient.Session` object ...\n",
    "TODO: Complete."
   ]
  },
  {
   "cell_type": "markdown",
   "metadata": {},
   "source": [
    "<a href=\"#\" onclick=\"history.back()\">&lt;--- Back</a>"
   ]
  }
 ],
 "metadata": {
  "kernelspec": {
   "display_name": "Python 2",
   "language": "python",
   "name": "python2"
  },
  "language_info": {
   "codemirror_mode": {
    "name": "ipython",
    "version": 2
   },
   "file_extension": ".py",
   "mimetype": "text/x-python",
   "name": "python",
   "nbconvert_exporter": "python",
   "pygments_lexer": "ipython2",
   "version": "2.7.11"
  }
 },
 "nbformat": 4,
 "nbformat_minor": 0
}
