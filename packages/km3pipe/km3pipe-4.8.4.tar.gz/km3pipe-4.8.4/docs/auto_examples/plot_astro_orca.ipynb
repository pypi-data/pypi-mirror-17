{
  "nbformat_minor": 0,
  "cells": [
    {
      "execution_count": null,
      "source": [
        "%matplotlib inline"
      ],
      "cell_type": "code",
      "metadata": {
        "collapsed": false
      },
      "outputs": []
    },
    {
      "source": [
        "\n================\nOrca Astro Test.\n================\n\nThis example needs Astropy: `pip install astropy`.\n\nTake some events in the detector and transform them\nto galactic coordinates.\n\n"
      ],
      "cell_type": "markdown",
      "metadata": {}
    },
    {
      "execution_count": null,
      "source": [
        "from astropy.coordinates import (Angle, Latitude, Longitude, Galactic, # noqa\n                                 EarthLocation, AltAz, SkyCoord)  # noqa\nfrom astropy.units import degree, minute, meter     # noqa\nfrom astropy.time import Time\nimport matplotlib.pyplot as plt\nimport numpy as np\n\nimport km3pipe as kp\nfrom km3pipe.constants import orca_longitude, orca_latitude, orca_height\n\nplt.style.use(kp.mplstyle)\n\n# load orca coordinates\norca_loc = EarthLocation.from_geodetic(\n    Longitude(orca_longitude * degree),\n    Latitude(orca_latitude * degree),\n    height=orca_height\n)\norca_frame = AltAz(obstime=Time.now(), location=orca_loc)\n\n# prepare canvases\nfig = plt.figure(figsize=(10, 4))\nax = fig.add_subplot(111, projection='aitoff')\n\n# generate some zenith + azimuth pairs\naz = np.random.rand(100)*360.0 * degree\nalt = (np.random.rand(100)*180.0-90.0) * degree\n\norca_event = SkyCoord(alt=alt, az=az, frame=orca_frame)\norca_event_origin = orca_event.galactic\nax.plot(orca_event_origin.l, orca_event_origin.b, 'o',\n        markersize=10, alpha=0.3, color='k')\nplt.show()"
      ],
      "cell_type": "code",
      "metadata": {
        "collapsed": false
      },
      "outputs": []
    }
  ],
  "nbformat": 4,
  "metadata": {
    "kernelspec": {
      "display_name": "Python 3",
      "language": "python",
      "name": "python3"
    },
    "language_info": {
      "mimetype": "text/x-python",
      "pygments_lexer": "ipython3",
      "nbconvert_exporter": "python",
      "name": "python",
      "file_extension": ".py",
      "codemirror_mode": {
        "version": 3,
        "name": "ipython"
      },
      "version": "3.5.2"
    }
  }
}