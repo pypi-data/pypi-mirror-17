{
  "nbformat_minor": 0,
  "cells": [
    {
      "execution_count": null,
      "source": [
        "%matplotlib inline"
      ],
      "cell_type": "code",
      "metadata": {
        "collapsed": false
      },
      "outputs": []
    },
    {
      "source": [
        "\n==================\nColormap pitfalls.\n==================\n\nChoosing the right colormap is important. A bad colormap like ``jet``\n(standard in ROOT and matplotlib < 2.0) fools you into seeing structure\nwhere there isn't any.\n\n"
      ],
      "cell_type": "markdown",
      "metadata": {}
    },
    {
      "execution_count": null,
      "source": [
        "import numpy as np\nimport matplotlib.pyplot as plt\nfrom mpl_toolkits.axes_grid1 import make_axes_locatable\nimport km3pipe as kp\n\nplt.style.use(kp.mplstyle)\n\nx = np.linspace(-np.pi, np.pi, 300)\nxx, yy = np.meshgrid(x, x)\nz = np.cos(xx) + np.cos(yy)\n\nfig, axes = plt.subplots(2, 2)\n\nfor ax, colourmap in zip(axes.flatten(),\n                         ['gray', 'jet', 'cubehelix', 'viridis']):\n    ax.set_title(colourmap)\n    im = ax.imshow(z, cmap=plt.get_cmap(colourmap))\n    divider = make_axes_locatable(ax)\n    cax = divider.append_axes('right', size='20%', pad=0.05)\n    cbar = plt.colorbar(im, cax=cax)"
      ],
      "cell_type": "code",
      "metadata": {
        "collapsed": false
      },
      "outputs": []
    }
  ],
  "nbformat": 4,
  "metadata": {
    "kernelspec": {
      "display_name": "Python 3",
      "language": "python",
      "name": "python3"
    },
    "language_info": {
      "mimetype": "text/x-python",
      "pygments_lexer": "ipython3",
      "nbconvert_exporter": "python",
      "name": "python",
      "file_extension": ".py",
      "codemirror_mode": {
        "version": 3,
        "name": "ipython"
      },
      "version": "3.5.2"
    }
  }
}