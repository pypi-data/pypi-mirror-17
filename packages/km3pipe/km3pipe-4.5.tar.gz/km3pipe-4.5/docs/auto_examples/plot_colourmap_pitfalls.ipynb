{
  "metadata": {
    "language_info": {
      "codemirror_mode": {
        "name": "ipython",
        "version": 3
      },
      "name": "python",
      "file_extension": ".py",
      "nbconvert_exporter": "python",
      "pygments_lexer": "ipython3",
      "mimetype": "text/x-python",
      "version": "3.5.2"
    },
    "kernelspec": {
      "name": "python3",
      "language": "python",
      "display_name": "Python 3"
    }
  },
  "cells": [
    {
      "metadata": {
        "collapsed": false
      },
      "source": [
        "%matplotlib inline"
      ],
      "cell_type": "code",
      "outputs": [],
      "execution_count": null
    },
    {
      "metadata": {},
      "cell_type": "markdown",
      "source": [
        "\n==================\nColormap pitfalls.\n==================\n\nChoosing the right colormap is important. A bad colormap like ``jet``\n(standard in ROOT and matplotlib < 2.0) fools you into seeing structure\nwhere there isn't any.\n\n"
      ]
    },
    {
      "metadata": {
        "collapsed": false
      },
      "source": [
        "import numpy as np\nimport matplotlib.pyplot as plt\nfrom mpl_toolkits.axes_grid1 import make_axes_locatable\nimport km3pipe.style\n\nx = np.linspace(-np.pi, np.pi, 300)\nxx, yy = np.meshgrid(x, x)\nz = np.cos(xx) + np.cos(yy)\n\nfig, axes = plt.subplots(2, 2)\n\nfor ax, colourmap in zip(axes.flatten(),\n                         ['gray', 'jet', 'cubehelix', 'viridis']):\n    ax.set_title(colourmap)\n    im = ax.imshow(z, cmap=plt.get_cmap(colourmap))\n    divider = make_axes_locatable(ax)\n    cax = divider.append_axes('right', size='20%', pad=0.05)\n    cbar = plt.colorbar(im, cax=cax)"
      ],
      "cell_type": "code",
      "outputs": [],
      "execution_count": null
    }
  ],
  "nbformat_minor": 0,
  "nbformat": 4
}