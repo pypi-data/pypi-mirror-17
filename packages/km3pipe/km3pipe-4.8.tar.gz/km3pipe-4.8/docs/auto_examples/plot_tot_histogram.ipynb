{
  "nbformat": 4,
  "nbformat_minor": 0,
  "cells": [
    {
      "outputs": [],
      "source": [
        "%matplotlib inline"
      ],
      "metadata": {
        "collapsed": false
      },
      "cell_type": "code",
      "execution_count": null
    },
    {
      "source": [
        "\n==================\nToT histogram.\n==================\n\nThis example shows how to create a simple histogram of the PMT signals.\n\n"
      ],
      "metadata": {},
      "cell_type": "markdown"
    },
    {
      "outputs": [],
      "source": [
        "import pandas as pd\nimport matplotlib.pyplot as plt\nimport km3pipe.style\n\nfilename = \"data/km3net_jul13_90m_muatm50T655.km3_v5r1.JTE_r2356.root.0-499.h5\"\n\nhits = pd.read_hdf(filename, 'hits')\nhits.hist(\"tot\", bins=254, log=True, edgecolor='none')\nplt.title(\"ToT distribution\")\nplt.xlabel(\"ToT [ns]\")"
      ],
      "metadata": {
        "collapsed": false
      },
      "cell_type": "code",
      "execution_count": null
    }
  ],
  "metadata": {
    "kernelspec": {
      "name": "python3",
      "language": "python",
      "display_name": "Python 3"
    },
    "language_info": {
      "mimetype": "text/x-python",
      "name": "python",
      "version": "3.5.2",
      "pygments_lexer": "ipython3",
      "codemirror_mode": {
        "name": "ipython",
        "version": 3
      },
      "file_extension": ".py",
      "nbconvert_exporter": "python"
    }
  }
}