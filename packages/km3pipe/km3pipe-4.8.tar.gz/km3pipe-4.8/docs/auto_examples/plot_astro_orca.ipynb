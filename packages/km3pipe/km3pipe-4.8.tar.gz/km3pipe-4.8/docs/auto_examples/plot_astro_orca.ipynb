{
  "nbformat": 4,
  "nbformat_minor": 0,
  "cells": [
    {
      "outputs": [],
      "source": [
        "%matplotlib inline"
      ],
      "metadata": {
        "collapsed": false
      },
      "cell_type": "code",
      "execution_count": null
    },
    {
      "source": [
        "\n================\nOrca Astro Test.\n================\n\nThis example needs Astropy: `pip install astropy`.\n\nTake some events in the detector and transform them\nto galactic coordinates.\n\n"
      ],
      "metadata": {},
      "cell_type": "markdown"
    },
    {
      "outputs": [],
      "source": [
        "from astropy.coordinates import (Angle, Latitude, Longitude, Galactic, # noqa\n                                 EarthLocation, AltAz, SkyCoord)  # noqa\nfrom astropy.units import degree, minute, meter     # noqa\nfrom astropy.time import Time\nimport matplotlib.pyplot as plt\nimport numpy as np\n\nimport km3pipe.style\nfrom km3pipe.constants import orca_longitude, orca_latitude, orca_height\n\n# load orca coordinates\norca_loc = EarthLocation.from_geodetic(\n    Longitude(orca_longitude * degree),\n    Latitude(orca_latitude * degree),\n    height=orca_height\n)\norca_frame = AltAz(obstime=Time.now(), location=orca_loc)\n\n# prepare canvases\nfig = plt.figure(figsize=(10, 4))\nax = fig.add_subplot(111, projection='aitoff')\n\n# generate some zenith + azimuth pairs\naz = np.random.rand(100)*360.0 * degree\nalt = (np.random.rand(100)*180.0-90.0) * degree\n\norca_event = SkyCoord(alt=alt, az=az, frame=orca_frame)\norca_event_origin = orca_event.galactic\nax.plot(orca_event_origin.l, orca_event_origin.b, 'o',\n        markersize=10, alpha=0.3, color='k')\nplt.savefig('foo.pdf')"
      ],
      "metadata": {
        "collapsed": false
      },
      "cell_type": "code",
      "execution_count": null
    }
  ],
  "metadata": {
    "kernelspec": {
      "name": "python3",
      "language": "python",
      "display_name": "Python 3"
    },
    "language_info": {
      "mimetype": "text/x-python",
      "name": "python",
      "version": "3.5.2",
      "pygments_lexer": "ipython3",
      "codemirror_mode": {
        "name": "ipython",
        "version": 3
      },
      "file_extension": ".py",
      "nbconvert_exporter": "python"
    }
  }
}