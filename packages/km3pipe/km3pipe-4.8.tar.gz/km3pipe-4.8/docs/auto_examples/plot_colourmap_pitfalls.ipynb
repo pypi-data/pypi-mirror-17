{
  "nbformat": 4,
  "nbformat_minor": 0,
  "cells": [
    {
      "outputs": [],
      "source": [
        "%matplotlib inline"
      ],
      "metadata": {
        "collapsed": false
      },
      "cell_type": "code",
      "execution_count": null
    },
    {
      "source": [
        "\n==================\nColormap pitfalls.\n==================\n\nChoosing the right colormap is important. A bad colormap like ``jet``\n(standard in ROOT and matplotlib < 2.0) fools you into seeing structure\nwhere there isn't any.\n\n"
      ],
      "metadata": {},
      "cell_type": "markdown"
    },
    {
      "outputs": [],
      "source": [
        "import numpy as np\nimport matplotlib.pyplot as plt\nfrom mpl_toolkits.axes_grid1 import make_axes_locatable\nimport km3pipe.style\n\nx = np.linspace(-np.pi, np.pi, 300)\nxx, yy = np.meshgrid(x, x)\nz = np.cos(xx) + np.cos(yy)\n\nfig, axes = plt.subplots(2, 2)\n\nfor ax, colourmap in zip(axes.flatten(),\n                         ['gray', 'jet', 'cubehelix', 'viridis']):\n    ax.set_title(colourmap)\n    im = ax.imshow(z, cmap=plt.get_cmap(colourmap))\n    divider = make_axes_locatable(ax)\n    cax = divider.append_axes('right', size='20%', pad=0.05)\n    cbar = plt.colorbar(im, cax=cax)"
      ],
      "metadata": {
        "collapsed": false
      },
      "cell_type": "code",
      "execution_count": null
    }
  ],
  "metadata": {
    "kernelspec": {
      "name": "python3",
      "language": "python",
      "display_name": "Python 3"
    },
    "language_info": {
      "mimetype": "text/x-python",
      "name": "python",
      "version": "3.5.2",
      "pygments_lexer": "ipython3",
      "codemirror_mode": {
        "name": "ipython",
        "version": 3
      },
      "file_extension": ".py",
      "nbconvert_exporter": "python"
    }
  }
}