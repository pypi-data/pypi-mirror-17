{
  "nbformat_minor": 0,
  "cells": [
    {
      "execution_count": null,
      "source": [
        "%matplotlib inline"
      ],
      "cell_type": "code",
      "metadata": {
        "collapsed": false
      },
      "outputs": []
    },
    {
      "source": [
        "\n==================\nzt-plots.\n==================\n\nThis example shows how to create a zt-plot of a given DU and event ID.\n\n"
      ],
      "cell_type": "markdown",
      "metadata": {}
    },
    {
      "execution_count": null,
      "source": [
        "import pandas as pd\nimport matplotlib.pyplot as plt\nimport km3pipe as kp\n\nplt.style.use(kp.mplstyle)\n\nDU = 26\nEVENT_ID = 23\nfilename = \"data/km3net_jul13_90m_muatm50T655.km3_v5r1.JTE_r2356.root.0-499.h5\"\ngeometry = kp.Geometry(filename=\"data/km3net_jul13_90m_r1494_corrected.detx\")\n\nall_hits = pd.read_hdf(filename, 'hits')\nhits = all_hits[all_hits.event_id == EVENT_ID].copy()\ngeometry.apply(hits)\n\nfig, ax = plt.subplots()\n\nhits[hits['du'] == DU].plot('time', 'z', style='.', ax=ax)\ntriggered_hits = hits[(hits['du'] == DU) & (hits['triggered'] == True)]\ntriggered_hits.plot('time', 'z', style='.', ax=ax)\n\ntry:\n    ax.legend_.remove()\nexcept AttributeError:\n    pass\nax.set_title(\"zt-plot of event {0} on DU{1}\".format(EVENT_ID, DU))\nax.set_xlabel(\"time [ns]\")\nax.set_ylabel(\"z [m]\")"
      ],
      "cell_type": "code",
      "metadata": {
        "collapsed": false
      },
      "outputs": []
    }
  ],
  "nbformat": 4,
  "metadata": {
    "kernelspec": {
      "display_name": "Python 3",
      "language": "python",
      "name": "python3"
    },
    "language_info": {
      "mimetype": "text/x-python",
      "pygments_lexer": "ipython3",
      "nbconvert_exporter": "python",
      "name": "python",
      "file_extension": ".py",
      "codemirror_mode": {
        "version": 3,
        "name": "ipython"
      },
      "version": "3.5.2"
    }
  }
}