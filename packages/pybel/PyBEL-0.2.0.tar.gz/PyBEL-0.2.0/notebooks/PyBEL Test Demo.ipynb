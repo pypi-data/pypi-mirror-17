{
 "cells": [
  {
   "cell_type": "code",
   "execution_count": 1,
   "metadata": {
    "collapsed": true
   },
   "outputs": [],
   "source": [
    "import pybel\n",
    "import os\n",
    "import logging\n",
    "import nx2d3\n",
    "import py2neo\n",
    "import json\n",
    "import time"
   ]
  },
  {
   "cell_type": "code",
   "execution_count": 2,
   "metadata": {
    "collapsed": true
   },
   "outputs": [],
   "source": [
    "logging.basicConfig(level=logging.INFO)\n",
    "logging.getLogger(\"requests\").setLevel(logging.WARNING)\n",
    "logging.getLogger('neo4j.bolt').setLevel(logging.WARNING)"
   ]
  },
  {
   "cell_type": "code",
   "execution_count": 3,
   "metadata": {
    "collapsed": false
   },
   "outputs": [
    {
     "data": {
      "text/plain": [
       "'Wed Oct 12 21:52:55 2016'"
      ]
     },
     "execution_count": 3,
     "metadata": {},
     "output_type": "execute_result"
    }
   ],
   "source": [
    "time.asctime()"
   ]
  },
  {
   "cell_type": "code",
   "execution_count": 4,
   "metadata": {
    "collapsed": true
   },
   "outputs": [],
   "source": [
    "base = os.environ['PYBEL_BASE']\n",
    "path = os.path.join(base, 'tests', 'bel', 'test_bel_1.bel')"
   ]
  },
  {
   "cell_type": "code",
   "execution_count": 5,
   "metadata": {
    "collapsed": false
   },
   "outputs": [
    {
     "name": "stderr",
     "output_type": "stream",
     "text": [
      "INFO:pybel:Loading from path: /Users/cthoyt/dev/pybel/tests/bel/test_bel_1.bel\n",
      "INFO:pybel:File length: 26 lines\n",
      "INFO:pybel:Finished parsing document section in 0.01 seconds\n",
      "ERROR:pybel:Line 00016 - general failure: DEFINE NAMESPACE CHEBI AS URL \"http://resource.belframework.org/belframework/1.0/namespace/chebi-names.belns\"\n",
      "ERROR:pybel:Line 00018 - general failure: DEFINE ANNOTATION CellStructure AS URL \"http://resource.belframework.org/belframework/1.0/annotation/mesh-cell-structure.belanno\"\n",
      "INFO:pybel:Finished parsing definitions section in 60.15 seconds\n",
      "INFO:pybel:Finished parsing statements section in 44.97 seconds\n"
     ]
    }
   ],
   "source": [
    "g1 = pybel.from_path(path)"
   ]
  },
  {
   "cell_type": "code",
   "execution_count": 6,
   "metadata": {
    "collapsed": true
   },
   "outputs": [],
   "source": [
    "g1.to_graphml(os.path.expanduser('~/Desktop/graph.gml'))"
   ]
  },
  {
   "cell_type": "code",
   "execution_count": 7,
   "metadata": {
    "collapsed": false
   },
   "outputs": [
    {
     "data": {
      "application/javascript": [
       "var chart_idx='vkcmeqbfqztpxsgj', graphx={\"multigraph\": true, \"directed\": true, \"graph\": {}, \"links\": [{\"citation_type\": \"Pubmed\", \"target\": 8, \"key\": 0, \"source\": 0, \"relation\": \"increases\", \"citation_name\": \"That one article from last week\", \"Evidence\": \"Evidence 1 w extra notes\", \"citation_reference\": \"123455\"}, {\"target\": 9, \"key\": \"transcribedTo\", \"source\": 1, \"relation\": \"transcribedTo\"}, {\"target\": 13, \"key\": \"translatedTo\", \"source\": 2, \"relation\": \"translatedTo\"}, {\"target\": 11, \"key\": \"translatedTo\", \"source\": 3, \"relation\": \"translatedTo\"}, {\"target\": 0, \"key\": \"translatedTo\", \"source\": 4, \"relation\": \"translatedTo\"}, {\"citation_type\": \"Pubmed\", \"target\": 13, \"key\": 0, \"source\": 5, \"relation\": \"association\", \"object\": {\"effect\": {\"fromLoc\": {\"name\": \"intracellular\", \"namespace\": \"GOCC\"}, \"toLoc\": {\"name\": \"cell surface\", \"namespace\": \"GOCC\"}}, \"modifier\": \"Translocation\"}, \"TESTAN1\": \"2\", \"citation_reference\": \"123456\", \"Evidence\": \"Evidence 3\", \"citation_name\": \"That other article from last week\", \"subject\": {\"effect\": {\"MolecularActivity\": \"KinaseActivity\"}, \"modifier\": \"Activity\"}}, {\"target\": 3, \"key\": \"transcribedTo\", \"source\": 6, \"relation\": \"transcribedTo\"}, {\"target\": 2, \"key\": \"transcribedTo\", \"source\": 7, \"relation\": \"transcribedTo\"}, {\"citation_type\": \"Pubmed\", \"target\": 5, \"key\": 0, \"source\": 8, \"relation\": \"directlyDecreases\", \"TESTAN2\": \"3\", \"citation_name\": \"That one article from last week\", \"Evidence\": \"Evidence 2\", \"citation_reference\": \"123455\"}, {\"citation_type\": \"Pubmed\", \"target\": 11, \"key\": 0, \"source\": 8, \"relation\": \"decreases\", \"TESTAN2\": \"3\", \"citation_name\": \"That one article from last week\", \"Evidence\": \"Evidence 2\", \"citation_reference\": \"123455\"}, {\"target\": 5, \"key\": \"translatedTo\", \"source\": 9, \"relation\": \"translatedTo\"}, {\"target\": 4, \"key\": \"transcribedTo\", \"source\": 10, \"relation\": \"transcribedTo\"}, {\"target\": 8, \"key\": \"translatedTo\", \"source\": 12, \"relation\": \"translatedTo\"}, {\"citation_type\": \"Pubmed\", \"target\": 5, \"key\": 0, \"source\": 13, \"relation\": \"association\", \"object\": {\"effect\": {\"fromLoc\": {\"name\": \"intracellular\", \"namespace\": \"GOCC\"}, \"toLoc\": {\"name\": \"cell surface\", \"namespace\": \"GOCC\"}}, \"modifier\": \"Translocation\"}, \"TESTAN1\": \"2\", \"citation_reference\": \"123456\", \"Evidence\": \"Evidence 3\", \"citation_name\": \"That other article from last week\", \"subject\": {\"effect\": {\"MolecularActivity\": \"KinaseActivity\"}, \"modifier\": \"Activity\"}}, {\"target\": 12, \"key\": \"transcribedTo\", \"source\": 14, \"relation\": \"transcribedTo\"}], \"nodes\": [{\"type\": \"Protein\", \"name\": \"A\", \"id\": [\"Protein\", \"ALPHABET\", \"A\"], \"namespace\": \"ALPHABET\"}, {\"type\": \"Gene\", \"name\": \"D\", \"id\": [\"Gene\", \"ALPHABET\", \"D\"], \"namespace\": \"ALPHABET\"}, {\"type\": \"RNA\", \"name\": \"E\", \"id\": [\"RNA\", \"ALPHABET\", \"E\"], \"namespace\": \"ALPHABET\"}, {\"type\": \"RNA\", \"name\": \"C\", \"id\": [\"RNA\", \"ALPHABET\", \"C\"], \"namespace\": \"ALPHABET\"}, {\"type\": \"RNA\", \"name\": \"A\", \"id\": [\"RNA\", \"ALPHABET\", \"A\"], \"namespace\": \"ALPHABET\"}, {\"type\": \"Protein\", \"name\": \"D\", \"id\": [\"Protein\", \"ALPHABET\", \"D\"], \"namespace\": \"ALPHABET\"}, {\"type\": \"Gene\", \"name\": \"C\", \"id\": [\"Gene\", \"ALPHABET\", \"C\"], \"namespace\": \"ALPHABET\"}, {\"type\": \"Gene\", \"name\": \"E\", \"id\": [\"Gene\", \"ALPHABET\", \"E\"], \"namespace\": \"ALPHABET\"}, {\"type\": \"Protein\", \"name\": \"B\", \"id\": [\"Protein\", \"ALPHABET\", \"B\"], \"namespace\": \"ALPHABET\"}, {\"type\": \"RNA\", \"name\": \"D\", \"id\": [\"RNA\", \"ALPHABET\", \"D\"], \"namespace\": \"ALPHABET\"}, {\"type\": \"Gene\", \"name\": \"A\", \"id\": [\"Gene\", \"ALPHABET\", \"A\"], \"namespace\": \"ALPHABET\"}, {\"type\": \"Protein\", \"name\": \"C\", \"id\": [\"Protein\", \"ALPHABET\", \"C\"], \"namespace\": \"ALPHABET\"}, {\"type\": \"RNA\", \"name\": \"B\", \"id\": [\"RNA\", \"ALPHABET\", \"B\"], \"namespace\": \"ALPHABET\"}, {\"type\": \"Protein\", \"name\": \"E\", \"id\": [\"Protein\", \"ALPHABET\", \"E\"], \"namespace\": \"ALPHABET\"}, {\"type\": \"Gene\", \"name\": \"B\", \"id\": [\"Gene\", \"ALPHABET\", \"B\"], \"namespace\": \"ALPHABET\"}]}, widthx=800, heightx=400;\n",
       "var process_nx = function(d3, chart_id, graph, width, height) {\n",
       "    var color = d3.scale.category20();\n",
       "\n",
       "    var force = d3.layout.force()\n",
       "        .charge(-200)\n",
       "        .linkDistance(40)\n",
       "        .size([width, height]);\n",
       "\n",
       "    var svg = d3.select('#' + chart_id).append(\"svg\")\n",
       "        .attr(\"width\", width)\n",
       "        .attr(\"height\", height);\n",
       "\n",
       "    force\n",
       "      .nodes(graph.nodes)\n",
       "      .links(graph.links)\n",
       "      .start();\n",
       "\n",
       "    var link = svg.selectAll(\".link\")\n",
       "        .data(graph.links)\n",
       "        .enter().append(\"line\")\n",
       "        .attr(\"class\", \"link\")\n",
       "        .attr(\"stroke\", \"#999\")\n",
       "        .attr(\"stroke-width\", 1.5);\n",
       "\n",
       "    var node = svg.selectAll(\".node\")\n",
       "        .data(graph.nodes)\n",
       "        .enter().append(\"g\")\n",
       "        .attr(\"class\", \"node\")\n",
       "        .call(force.drag);\n",
       "\n",
       "    node.append(\"circle\")\n",
       "        .attr(\"r\", 6)\n",
       "        .style(\"fill\", function(d) {\n",
       "            return color(d.color);\n",
       "        });\n",
       "\n",
       "    node.append(\"text\")\n",
       "        .attr(\"dx\", 12)\n",
       "        .attr(\"dy\", \".35em\")\n",
       "        .text(function(d) {\n",
       "            return d.id;\n",
       "        });\n",
       "\n",
       "    force.on(\"tick\", function() {\n",
       "        link.attr(\"x1\", function(d) { return d.source.x; })\n",
       "            .attr(\"y1\", function(d) { return d.source.y; })\n",
       "            .attr(\"x2\", function(d) { return d.target.x; })\n",
       "            .attr(\"y2\", function(d) { return d.target.y; });\n",
       "\n",
       "        node.attr(\"transform\", function(d) {\n",
       "            return \"translate(\" + d.x + \",\" + d.y + \")\";\n",
       "        });\n",
       "    });\n",
       "}\n",
       "\n",
       "        require.config({\n",
       "          paths: {\n",
       "              d3: '//cdnjs.cloudflare.com/ajax/libs/d3/3.4.8/d3.min'\n",
       "          }\n",
       "        });\n",
       "\n",
       "        element.append(\"<div id='\" + chart_idx + \"'></div>\");\n",
       "\n",
       "        require(['d3'], function(d3) {\n",
       "            return process_nx(d3, chart_idx, graphx, widthx, heightx)\n",
       "        })\n",
       "    "
      ],
      "text/plain": [
       "<IPython.core.display.Javascript object>"
      ]
     },
     "execution_count": 7,
     "metadata": {},
     "output_type": "execute_result"
    }
   ],
   "source": [
    "nx2d3.embed_networkx(g1, height=400, width=800)"
   ]
  },
  {
   "cell_type": "code",
   "execution_count": 9,
   "metadata": {
    "collapsed": false
   },
   "outputs": [
    {
     "data": {
      "text/plain": [
       "15"
      ]
     },
     "execution_count": 9,
     "metadata": {},
     "output_type": "execute_result"
    }
   ],
   "source": [
    "g1.number_of_edges()"
   ]
  },
  {
   "cell_type": "code",
   "execution_count": 10,
   "metadata": {
    "collapsed": false
   },
   "outputs": [
    {
     "name": "stderr",
     "output_type": "stream",
     "text": [
      "INFO:httpstream:> GET http://localhost:7474/db/data/\n",
      "INFO:httpstream:< 200 OK [795]\n"
     ]
    }
   ],
   "source": [
    "neo_path = os.environ['NEO_PATH']\n",
    "neo = py2neo.Graph(neo_path)\n",
    "context = 'R{}'.format(int(time.time()))\n",
    "g1.to_neo4j(neo, context)"
   ]
  },
  {
   "cell_type": "code",
   "execution_count": 11,
   "metadata": {
    "collapsed": false
   },
   "outputs": [],
   "source": [
    "res = neo.data('match (n)-[k]->() where k.pybel_context = \"{}\" return n, k'.format(context))"
   ]
  },
  {
   "cell_type": "code",
   "execution_count": 12,
   "metadata": {
    "collapsed": false
   },
   "outputs": [
    {
     "data": {
      "text/plain": [
       "15"
      ]
     },
     "execution_count": 12,
     "metadata": {},
     "output_type": "execute_result"
    }
   ],
   "source": [
    "len({(l['n'],l['k']) for l in res})"
   ]
  }
 ],
 "metadata": {
  "kernelspec": {
   "display_name": "Python 3",
   "language": "python",
   "name": "python3"
  },
  "language_info": {
   "codemirror_mode": {
    "name": "ipython",
    "version": 3
   },
   "file_extension": ".py",
   "mimetype": "text/x-python",
   "name": "python",
   "nbconvert_exporter": "python",
   "pygments_lexer": "ipython3",
   "version": "3.5.2"
  }
 },
 "nbformat": 4,
 "nbformat_minor": 1
}
