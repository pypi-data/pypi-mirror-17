{
 "cells": [
  {
   "cell_type": "code",
   "execution_count": 1,
   "metadata": {
    "collapsed": false
   },
   "outputs": [
    {
     "data": {
      "text/plain": [
       "'0.20.3'"
      ]
     },
     "execution_count": 1,
     "metadata": {},
     "output_type": "execute_result"
    }
   ],
   "source": [
    "import numpy as np\n",
    "import bcolz\n",
    "import h5py\n",
    "import os\n",
    "os.chdir('../..')\n",
    "import allel\n",
    "allel.__version__"
   ]
  },
  {
   "cell_type": "code",
   "execution_count": 2,
   "metadata": {
    "collapsed": false
   },
   "outputs": [
    {
     "data": {
      "text/plain": [
       "array([       0,        1,        2, ..., 19999997, 19999998, 19999999])"
      ]
     },
     "execution_count": 2,
     "metadata": {},
     "output_type": "execute_result"
    }
   ],
   "source": [
    "a = np.arange(20000000)\n",
    "a"
   ]
  },
  {
   "cell_type": "code",
   "execution_count": 3,
   "metadata": {
    "collapsed": false
   },
   "outputs": [
    {
     "data": {
      "text/plain": [
       "carray((20000000,), int64)\n",
       "  nbytes := 152.59 MB; cbytes := 2.41 MB; ratio: 63.28\n",
       "  cparams := cparams(clevel=1, shuffle=True, cname='zlib', quantize=0)\n",
       "  chunklen := 131072; chunksize: 1048576; blocksize: 131072\n",
       "  rootdir := '/tmp/scikit_allel_znyqdfcp.bcolz'\n",
       "  mode    := 'w'\n",
       "[       0        1        2 ..., 19999997 19999998 19999999]"
      ]
     },
     "execution_count": 3,
     "metadata": {},
     "output_type": "execute_result"
    }
   ],
   "source": [
    "c = allel.chunked.bcolztmp_storage.array(a, cparams=bcolz.cparams(cname='zlib', clevel=1, shuffle=True))\n",
    "c.flush()\n",
    "c"
   ]
  },
  {
   "cell_type": "code",
   "execution_count": 4,
   "metadata": {
    "collapsed": false
   },
   "outputs": [
    {
     "name": "stdout",
     "output_type": "stream",
     "text": [
      "1.9M\t/tmp/scikit_allel_znyqdfcp.bcolz\r\n"
     ]
    }
   ],
   "source": [
    "!du -hs {c.rootdir}"
   ]
  },
  {
   "cell_type": "code",
   "execution_count": 5,
   "metadata": {
    "collapsed": false
   },
   "outputs": [
    {
     "data": {
      "text/plain": [
       "ChunkedArray((20000000,), int64, chunks=(131072,))\n",
       "  nbytes: 152.6M; cbytes: 2.4M; cratio: 63.3;\n",
       "  compression: blosc; compression_opts: cparams(clevel=1, shuffle=True, cname='zlib', quantize=0);\n",
       "  data: bcolz.carray_ext.carray"
      ]
     },
     "execution_count": 5,
     "metadata": {},
     "output_type": "execute_result"
    }
   ],
   "source": [
    "allel.chunked.ChunkedArray(c)"
   ]
  },
  {
   "cell_type": "code",
   "execution_count": 6,
   "metadata": {
    "collapsed": false
   },
   "outputs": [
    {
     "data": {
      "text/plain": [
       "<HDF5 dataset \"data\": shape (20000000,), type \"<i8\">"
      ]
     },
     "execution_count": 6,
     "metadata": {},
     "output_type": "execute_result"
    }
   ],
   "source": [
    "h = allel.chunked.hdf5tmp_storage.array(a, compression='gzip', compression_opts=1, shuffle=True, chunks=(c.chunklen,))\n",
    "h.file.flush()\n",
    "h"
   ]
  },
  {
   "cell_type": "code",
   "execution_count": 7,
   "metadata": {
    "collapsed": false
   },
   "outputs": [
    {
     "name": "stdout",
     "output_type": "stream",
     "text": [
      "932K\t/tmp/scikit_allel_s60rnepu.h5\r\n"
     ]
    }
   ],
   "source": [
    "!du -h {h.file.filename}"
   ]
  },
  {
   "cell_type": "code",
   "execution_count": 8,
   "metadata": {
    "collapsed": false
   },
   "outputs": [
    {
     "data": {
      "text/plain": [
       "ChunkedArray((20000000,), int64, chunks=(131072,))\n",
       "  nbytes: 152.6M; cbytes: 920.4K; cratio: 169.8;\n",
       "  compression: gzip; compression_opts: 1;\n",
       "  data: h5py._hl.dataset.Dataset"
      ]
     },
     "execution_count": 8,
     "metadata": {},
     "output_type": "execute_result"
    }
   ],
   "source": [
    "allel.chunked.ChunkedArray(h)"
   ]
  },
  {
   "cell_type": "code",
   "execution_count": 9,
   "metadata": {
    "collapsed": false
   },
   "outputs": [
    {
     "data": {
      "text/plain": [
       "zarr.core.Array((20000000,), int64, chunks=(131072,), order=C)\n",
       "  compression: blosc; compression_opts: {'clevel': 5, 'shuffle': 1, 'cname': 'blosclz'}\n",
       "  nbytes: 152.6M; nbytes_stored: 2.7M; ratio: 57.0; initialized: 153/153\n",
       "  store: builtins.dict"
      ]
     },
     "execution_count": 9,
     "metadata": {},
     "output_type": "execute_result"
    }
   ],
   "source": [
    "z = allel.chunked.copy(a, storage='zarrmem')\n",
    "z"
   ]
  },
  {
   "cell_type": "code",
   "execution_count": 10,
   "metadata": {
    "collapsed": false
   },
   "outputs": [
    {
     "data": {
      "text/plain": [
       "zarr.core.Array((20000000,), int64, chunks=(131072,), order=C)\n",
       "  compression: blosc; compression_opts: {'clevel': 5, 'shuffle': 1, 'cname': 'blosclz'}\n",
       "  nbytes: 152.6M; nbytes_stored: 2.7M; ratio: 57.0; initialized: 153/153\n",
       "  store: zarr.storage.DirectoryStore"
      ]
     },
     "execution_count": 10,
     "metadata": {},
     "output_type": "execute_result"
    }
   ],
   "source": [
    "z = allel.chunked.copy(a, storage='zarrtmp')\n",
    "z"
   ]
  },
  {
   "cell_type": "code",
   "execution_count": 11,
   "metadata": {
    "collapsed": false
   },
   "outputs": [
    {
     "data": {
      "text/plain": [
       "'/tmp/scikit_allel_jclr1o41.zarr'"
      ]
     },
     "execution_count": 11,
     "metadata": {},
     "output_type": "execute_result"
    }
   ],
   "source": [
    "z.store.path"
   ]
  },
  {
   "cell_type": "code",
   "execution_count": 12,
   "metadata": {
    "collapsed": false
   },
   "outputs": [
    {
     "data": {
      "text/plain": [
       "zarr.core.Array((20000000,), int64, chunks=(131072,), order=C)\n",
       "  compression: blosc; compression_opts: {'clevel': 5, 'shuffle': 1, 'cname': 'blosclz'}\n",
       "  nbytes: 152.6M; nbytes_stored: 2.7M; ratio: 57.0; initialized: 153/153\n",
       "  store: zarr.storage.DirectoryStore"
      ]
     },
     "execution_count": 12,
     "metadata": {},
     "output_type": "execute_result"
    }
   ],
   "source": [
    "z = allel.chunked.copy(a, storage='zarr', path='array.zarr')\n",
    "z"
   ]
  },
  {
   "cell_type": "code",
   "execution_count": 13,
   "metadata": {
    "collapsed": false
   },
   "outputs": [
    {
     "data": {
      "text/plain": [
       "'/home/aliman/src/github/cggh/scikit-allel/array.zarr'"
      ]
     },
     "execution_count": 13,
     "metadata": {},
     "output_type": "execute_result"
    }
   ],
   "source": [
    "z.store.path"
   ]
  },
  {
   "cell_type": "code",
   "execution_count": 14,
   "metadata": {
    "collapsed": false
   },
   "outputs": [
    {
     "data": {
      "text/plain": [
       "<HDF5 file \"scikit_allel_hyd2kn7g.h5\" (mode r+)>"
      ]
     },
     "execution_count": 14,
     "metadata": {},
     "output_type": "execute_result"
    }
   ],
   "source": [
    "g = allel.chunked.hdf5tmp_storage.table([a, a], compression='gzip', compression_opts=1, shuffle=True)\n",
    "g"
   ]
  },
  {
   "cell_type": "code",
   "execution_count": 15,
   "metadata": {
    "collapsed": false
   },
   "outputs": [
    {
     "data": {
      "text/html": [
       "<table class='petl'>\n",
       "<caption>ChunkedTable(20000000)<br/>  nbytes: 305.2M; cbytes: 1.8M; cratio: 169.8;<br/>  data: h5py._hl.files.File</caption>\n",
       "<thead>\n",
       "<tr>\n",
       "<th>f0</th>\n",
       "<th>f1</th>\n",
       "</tr>\n",
       "</thead>\n",
       "<tbody>\n",
       "<tr>\n",
       "<td>0</td>\n",
       "<td>0</td>\n",
       "</tr>\n",
       "<tr>\n",
       "<td>1</td>\n",
       "<td>1</td>\n",
       "</tr>\n",
       "<tr>\n",
       "<td>2</td>\n",
       "<td>2</td>\n",
       "</tr>\n",
       "<tr>\n",
       "<td>3</td>\n",
       "<td>3</td>\n",
       "</tr>\n",
       "<tr>\n",
       "<td>4</td>\n",
       "<td>4</td>\n",
       "</tr>\n",
       "</tbody>\n",
       "</table>\n",
       "<p><strong>...</strong></p>"
      ],
      "text/plain": [
       "ChunkedTable(20000000)\n",
       "  nbytes: 305.2M; cbytes: 1.8M; cratio: 169.8;\n",
       "  data: h5py._hl.files.File"
      ]
     },
     "execution_count": 15,
     "metadata": {},
     "output_type": "execute_result"
    }
   ],
   "source": [
    "allel.chunked.ChunkedTable(g)"
   ]
  },
  {
   "cell_type": "code",
   "execution_count": 18,
   "metadata": {
    "collapsed": false
   },
   "outputs": [
    {
     "data": {
      "text/plain": [
       "ctable((20000000,), [('f0', '<i8'), ('f1', '<i8')])\n",
       "  nbytes: 305.18 MB; cbytes: 7.19 MB; ratio: 42.44\n",
       "  cparams := cparams(clevel=5, shuffle=1, cname='lz4', quantize=0)\n",
       "[(0, 0) (1, 1) (2, 2) ..., (19999997, 19999997) (19999998, 19999998)\n",
       " (19999999, 19999999)]"
      ]
     },
     "execution_count": 18,
     "metadata": {},
     "output_type": "execute_result"
    }
   ],
   "source": [
    "allel.chunked.copy_table(g, storage='bcolz')"
   ]
  },
  {
   "cell_type": "code",
   "execution_count": 19,
   "metadata": {
    "collapsed": false
   },
   "outputs": [
    {
     "data": {
      "text/plain": [
       "(['f0', 'f1'], [zarr.core.Array((20000000,), int64, chunks=(131072,), order=C)\n",
       "    compression: blosc; compression_opts: {'clevel': 5, 'shuffle': 1, 'cname': 'blosclz'}\n",
       "    nbytes: 152.6M; nbytes_stored: 2.7M; ratio: 57.0; initialized: 153/153\n",
       "    store: builtins.dict,\n",
       "  zarr.core.Array((20000000,), int64, chunks=(131072,), order=C)\n",
       "    compression: blosc; compression_opts: {'clevel': 5, 'shuffle': 1, 'cname': 'blosclz'}\n",
       "    nbytes: 152.6M; nbytes_stored: 2.7M; ratio: 57.0; initialized: 153/153\n",
       "    store: builtins.dict])"
      ]
     },
     "execution_count": 19,
     "metadata": {},
     "output_type": "execute_result"
    }
   ],
   "source": [
    "z = allel.chunked.copy_table(g, storage='zarr')\n",
    "z.names, z.columns"
   ]
  },
  {
   "cell_type": "code",
   "execution_count": 20,
   "metadata": {
    "collapsed": false
   },
   "outputs": [
    {
     "data": {
      "text/plain": [
       "(['f0', 'f1'], [zarr.core.Array((20000000,), int64, chunks=(131072,), order=C)\n",
       "    compression: blosc; compression_opts: {'clevel': 5, 'shuffle': 1, 'cname': 'blosclz'}\n",
       "    nbytes: 152.6M; nbytes_stored: 2.7M; ratio: 57.0; initialized: 153/153\n",
       "    store: zarr.storage.DirectoryStore,\n",
       "  zarr.core.Array((20000000,), int64, chunks=(131072,), order=C)\n",
       "    compression: blosc; compression_opts: {'clevel': 5, 'shuffle': 1, 'cname': 'blosclz'}\n",
       "    nbytes: 152.6M; nbytes_stored: 2.7M; ratio: 57.0; initialized: 153/153\n",
       "    store: zarr.storage.DirectoryStore])"
      ]
     },
     "execution_count": 20,
     "metadata": {},
     "output_type": "execute_result"
    }
   ],
   "source": [
    "z = allel.chunked.copy_table(g, storage='zarr', path='test.zarr')\n",
    "z.names, z.columns"
   ]
  },
  {
   "cell_type": "code",
   "execution_count": 21,
   "metadata": {
    "collapsed": false
   },
   "outputs": [
    {
     "name": "stdout",
     "output_type": "stream",
     "text": [
      "total 8.0K\r\n",
      "drwxrwxr-x 2 aliman aliman 4.0K Jul 13 23:18 f0\r\n",
      "drwxrwxr-x 2 aliman aliman 4.0K Jul 13 23:18 f1\r\n"
     ]
    }
   ],
   "source": [
    "!ls -lh test.zarr/"
   ]
  },
  {
   "cell_type": "code",
   "execution_count": 22,
   "metadata": {
    "collapsed": false
   },
   "outputs": [
    {
     "name": "stdout",
     "output_type": "stream",
     "text": [
      "total 3.0M\r\n",
      "-rw------- 1 aliman aliman 18K Jul 13 23:18 0\r\n",
      "-rw------- 1 aliman aliman 18K Jul 13 23:18 1\r\n",
      "-rw------- 1 aliman aliman 18K Jul 13 23:18 10\r\n",
      "-rw------- 1 aliman aliman 18K Jul 13 23:18 100\r\n",
      "-rw------- 1 aliman aliman 18K Jul 13 23:18 101\r\n",
      "-rw------- 1 aliman aliman 18K Jul 13 23:18 102\r\n",
      "-rw------- 1 aliman aliman 18K Jul 13 23:18 103\r\n",
      "-rw------- 1 aliman aliman 18K Jul 13 23:18 104\r\n",
      "-rw------- 1 aliman aliman 18K Jul 13 23:18 105\r\n"
     ]
    }
   ],
   "source": [
    "!ls -lh test.zarr/f0 | head -n10"
   ]
  },
  {
   "cell_type": "code",
   "execution_count": 23,
   "metadata": {
    "collapsed": false
   },
   "outputs": [
    {
     "data": {
      "text/plain": [
       "(['f0', 'f1'], [zarr.core.Array((20000000,), int64, chunks=(131072,), order=C)\n",
       "    compression: blosc; compression_opts: {'clevel': 5, 'shuffle': 1, 'cname': 'blosclz'}\n",
       "    nbytes: 152.6M; nbytes_stored: 2.7M; ratio: 57.0; initialized: 153/153\n",
       "    store: zarr.storage.DirectoryStore,\n",
       "  zarr.core.Array((20000000,), int64, chunks=(131072,), order=C)\n",
       "    compression: blosc; compression_opts: {'clevel': 5, 'shuffle': 1, 'cname': 'blosclz'}\n",
       "    nbytes: 152.6M; nbytes_stored: 2.7M; ratio: 57.0; initialized: 153/153\n",
       "    store: zarr.storage.DirectoryStore])"
      ]
     },
     "execution_count": 23,
     "metadata": {},
     "output_type": "execute_result"
    }
   ],
   "source": [
    "z = allel.chunked.copy_table(g, storage='zarrtmp')\n",
    "z.names, z.columns"
   ]
  },
  {
   "cell_type": "code",
   "execution_count": 24,
   "metadata": {
    "collapsed": false
   },
   "outputs": [
    {
     "data": {
      "text/plain": [
       "'/tmp/scikit_allel_42hpnru_.zarr/f0'"
      ]
     },
     "execution_count": 24,
     "metadata": {},
     "output_type": "execute_result"
    }
   ],
   "source": [
    "z['f0'].store.path"
   ]
  },
  {
   "cell_type": "code",
   "execution_count": 25,
   "metadata": {
    "collapsed": false
   },
   "outputs": [
    {
     "data": {
      "text/html": [
       "<table class='petl'>\n",
       "<caption>ChunkedTable(20000000)<br/>  nbytes: 305.2M; cbytes: 5.4M; cratio: 57.0;<br/>  data: allel.chunked.storage_zarr.ZarrTable</caption>\n",
       "<thead>\n",
       "<tr>\n",
       "<th>f0</th>\n",
       "<th>f1</th>\n",
       "</tr>\n",
       "</thead>\n",
       "<tbody>\n",
       "<tr>\n",
       "<td>0</td>\n",
       "<td>0</td>\n",
       "</tr>\n",
       "<tr>\n",
       "<td>1</td>\n",
       "<td>1</td>\n",
       "</tr>\n",
       "<tr>\n",
       "<td>2</td>\n",
       "<td>2</td>\n",
       "</tr>\n",
       "<tr>\n",
       "<td>3</td>\n",
       "<td>3</td>\n",
       "</tr>\n",
       "<tr>\n",
       "<td>4</td>\n",
       "<td>4</td>\n",
       "</tr>\n",
       "</tbody>\n",
       "</table>\n",
       "<p><strong>...</strong></p>"
      ],
      "text/plain": [
       "ChunkedTable(20000000)\n",
       "  nbytes: 305.2M; cbytes: 5.4M; cratio: 57.0;\n",
       "  data: allel.chunked.storage_zarr.ZarrTable"
      ]
     },
     "execution_count": 25,
     "metadata": {},
     "output_type": "execute_result"
    }
   ],
   "source": [
    "allel.chunked.ChunkedTable(z)"
   ]
  },
  {
   "cell_type": "code",
   "execution_count": null,
   "metadata": {
    "collapsed": true
   },
   "outputs": [],
   "source": []
  }
 ],
 "metadata": {
  "kernelspec": {
   "display_name": "Python 3",
   "language": "python",
   "name": "python3"
  },
  "language_info": {
   "codemirror_mode": {
    "name": "ipython",
    "version": 3
   },
   "file_extension": ".py",
   "mimetype": "text/x-python",
   "name": "python",
   "nbconvert_exporter": "python",
   "pygments_lexer": "ipython3",
   "version": "3.5.1"
  }
 },
 "nbformat": 4,
 "nbformat_minor": 0
}
