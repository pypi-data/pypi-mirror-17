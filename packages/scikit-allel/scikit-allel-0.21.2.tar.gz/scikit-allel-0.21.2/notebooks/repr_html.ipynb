{
 "cells": [
  {
   "cell_type": "code",
   "execution_count": 1,
   "metadata": {
    "collapsed": false
   },
   "outputs": [
    {
     "data": {
      "text/plain": [
       "'0.20.2'"
      ]
     },
     "execution_count": 1,
     "metadata": {},
     "output_type": "execute_result"
    }
   ],
   "source": [
    "import sys\n",
    "sys.path.insert(0, '../')\n",
    "import numpy as np\n",
    "%reload_ext autoreload\n",
    "%autoreload 1\n",
    "%aimport allel\n",
    "%aimport allel.model\n",
    "%aimport allel.model.ndarray\n",
    "%aimport allel.model.chunked\n",
    "allel.__version__"
   ]
  },
  {
   "cell_type": "code",
   "execution_count": 2,
   "metadata": {
    "collapsed": true
   },
   "outputs": [],
   "source": [
    "# setup an array of genotype calls\n",
    "shape = n_variants, n_samples, ploidy = 50000, 1000, 2\n",
    "data = np.zeros(shape, dtype='i1')\n",
    "# simulate some mutations\n",
    "n_alleles = n_variants * n_samples * ploidy\n",
    "idx = np.random.randint(0, (n_alleles//2)-1, size=n_alleles//20)\n",
    "data[:, :, 1].reshape((-1))[idx] = 1\n",
    "data[:, :, 0].reshape((-1))[idx[:n_alleles//200]] = 1\n",
    "g = allel.GenotypeArray(data, copy=False)"
   ]
  },
  {
   "cell_type": "code",
   "execution_count": 3,
   "metadata": {
    "collapsed": false
   },
   "outputs": [
    {
     "data": {
      "text/html": [
       "<table class='petl'>\n",
       "<caption>GenotypeArray((50000, 1000, 2), dtype=int8)</caption>\n",
       "<thead>\n",
       "<tr>\n",
       "<th></th>\n",
       "<th>0</th>\n",
       "<th>1</th>\n",
       "<th>2</th>\n",
       "<th>3</th>\n",
       "<th>4</th>\n",
       "<th>...</th>\n",
       "<th>995</th>\n",
       "<th>996</th>\n",
       "<th>997</th>\n",
       "<th>998</th>\n",
       "<th>999</th>\n",
       "</tr>\n",
       "</thead>\n",
       "<tbody>\n",
       "<tr>\n",
       "<td style='font-weight: bold'>0</td>\n",
       "<td>0/0</td>\n",
       "<td>0/0</td>\n",
       "<td>0/0</td>\n",
       "<td>0/0</td>\n",
       "<td>0/0</td>\n",
       "<td>...</td>\n",
       "<td>0/0</td>\n",
       "<td>0/0</td>\n",
       "<td>0/0</td>\n",
       "<td>0/0</td>\n",
       "<td>0/0</td>\n",
       "</tr>\n",
       "<tr>\n",
       "<td style='font-weight: bold'>1</td>\n",
       "<td>0/0</td>\n",
       "<td>0/0</td>\n",
       "<td>0/0</td>\n",
       "<td>0/0</td>\n",
       "<td>0/0</td>\n",
       "<td>...</td>\n",
       "<td>0/0</td>\n",
       "<td>1/1</td>\n",
       "<td>0/0</td>\n",
       "<td>0/0</td>\n",
       "<td>0/0</td>\n",
       "</tr>\n",
       "<tr>\n",
       "<td style='font-weight: bold'>2</td>\n",
       "<td>0/0</td>\n",
       "<td>0/0</td>\n",
       "<td>0/0</td>\n",
       "<td>0/0</td>\n",
       "<td>0/0</td>\n",
       "<td>...</td>\n",
       "<td>0/0</td>\n",
       "<td>0/0</td>\n",
       "<td>0/0</td>\n",
       "<td>0/0</td>\n",
       "<td>0/0</td>\n",
       "</tr>\n",
       "<tr>\n",
       "<td style='font-weight: bold'>3</td>\n",
       "<td>0/0</td>\n",
       "<td>0/0</td>\n",
       "<td>0/0</td>\n",
       "<td>0/0</td>\n",
       "<td>0/0</td>\n",
       "<td>...</td>\n",
       "<td>0/0</td>\n",
       "<td>0/0</td>\n",
       "<td>0/0</td>\n",
       "<td>0/0</td>\n",
       "<td>0/0</td>\n",
       "</tr>\n",
       "<tr>\n",
       "<td style='font-weight: bold'>4</td>\n",
       "<td>0/0</td>\n",
       "<td>0/0</td>\n",
       "<td>0/0</td>\n",
       "<td>0/0</td>\n",
       "<td>0/0</td>\n",
       "<td>...</td>\n",
       "<td>0/0</td>\n",
       "<td>0/0</td>\n",
       "<td>0/0</td>\n",
       "<td>1/1</td>\n",
       "<td>0/0</td>\n",
       "</tr>\n",
       "</tbody>\n",
       "</table>\n",
       "<p><strong>...</strong></p>"
      ],
      "text/plain": [
       "GenotypeArray((50000, 1000, 2), dtype=int8)\n",
       "[[[0 0]\n",
       "  [0 0]\n",
       "  [0 0]\n",
       "  ..., \n",
       "  [0 0]\n",
       "  [0 0]\n",
       "  [0 0]]\n",
       "\n",
       " [[0 0]\n",
       "  [0 0]\n",
       "  [0 0]\n",
       "  ..., \n",
       "  [0 0]\n",
       "  [0 0]\n",
       "  [0 0]]\n",
       "\n",
       " [[0 0]\n",
       "  [0 0]\n",
       "  [0 0]\n",
       "  ..., \n",
       "  [0 0]\n",
       "  [0 0]\n",
       "  [0 0]]\n",
       "\n",
       " ..., \n",
       " [[0 1]\n",
       "  [0 0]\n",
       "  [0 0]\n",
       "  ..., \n",
       "  [0 1]\n",
       "  [0 0]\n",
       "  [0 0]]\n",
       "\n",
       " [[0 0]\n",
       "  [0 0]\n",
       "  [0 0]\n",
       "  ..., \n",
       "  [0 0]\n",
       "  [0 0]\n",
       "  [0 0]]\n",
       "\n",
       " [[0 0]\n",
       "  [0 0]\n",
       "  [0 0]\n",
       "  ..., \n",
       "  [0 0]\n",
       "  [0 0]\n",
       "  [0 0]]]"
      ]
     },
     "execution_count": 3,
     "metadata": {},
     "output_type": "execute_result"
    }
   ],
   "source": [
    "g"
   ]
  },
  {
   "cell_type": "code",
   "execution_count": 4,
   "metadata": {
    "collapsed": false
   },
   "outputs": [
    {
     "data": {
      "text/html": [
       "<table class='petl'>\n",
       "<caption>GenotypeArray((50000, 3, 2), dtype=int8)</caption>\n",
       "<thead>\n",
       "<tr>\n",
       "<th></th>\n",
       "<th>0</th>\n",
       "<th>1</th>\n",
       "<th>2</th>\n",
       "</tr>\n",
       "</thead>\n",
       "<tbody>\n",
       "<tr>\n",
       "<td style='font-weight: bold'>0</td>\n",
       "<td>0/0</td>\n",
       "<td>0/0</td>\n",
       "<td>0/0</td>\n",
       "</tr>\n",
       "<tr>\n",
       "<td style='font-weight: bold'>1</td>\n",
       "<td>0/0</td>\n",
       "<td>0/0</td>\n",
       "<td>0/0</td>\n",
       "</tr>\n",
       "<tr>\n",
       "<td style='font-weight: bold'>2</td>\n",
       "<td>0/0</td>\n",
       "<td>0/0</td>\n",
       "<td>0/0</td>\n",
       "</tr>\n",
       "<tr>\n",
       "<td style='font-weight: bold'>3</td>\n",
       "<td>0/0</td>\n",
       "<td>0/0</td>\n",
       "<td>0/0</td>\n",
       "</tr>\n",
       "<tr>\n",
       "<td style='font-weight: bold'>4</td>\n",
       "<td>0/0</td>\n",
       "<td>0/0</td>\n",
       "<td>0/0</td>\n",
       "</tr>\n",
       "</tbody>\n",
       "</table>\n",
       "<p><strong>...</strong></p>"
      ],
      "text/plain": [
       "GenotypeArray((50000, 3, 2), dtype=int8)\n",
       "[[[0 0]\n",
       "  [0 0]\n",
       "  [0 0]]\n",
       "\n",
       " [[0 0]\n",
       "  [0 0]\n",
       "  [0 0]]\n",
       "\n",
       " [[0 0]\n",
       "  [0 0]\n",
       "  [0 0]]\n",
       "\n",
       " ..., \n",
       " [[0 1]\n",
       "  [0 0]\n",
       "  [0 0]]\n",
       "\n",
       " [[0 0]\n",
       "  [0 0]\n",
       "  [0 0]]\n",
       "\n",
       " [[0 0]\n",
       "  [0 0]\n",
       "  [0 0]]]"
      ]
     },
     "execution_count": 4,
     "metadata": {},
     "output_type": "execute_result"
    }
   ],
   "source": [
    "g.take([0, 1, 2], axis=1)"
   ]
  },
  {
   "cell_type": "code",
   "execution_count": 5,
   "metadata": {
    "collapsed": false
   },
   "outputs": [
    {
     "data": {
      "text/html": [
       "<table class='petl'>\n",
       "<caption>HaplotypeArray((50000, 2000), dtype=int8)</caption>\n",
       "<thead>\n",
       "<tr>\n",
       "<th></th>\n",
       "<th>0</th>\n",
       "<th>1</th>\n",
       "<th>2</th>\n",
       "<th>3</th>\n",
       "<th>4</th>\n",
       "<th>...</th>\n",
       "<th>1995</th>\n",
       "<th>1996</th>\n",
       "<th>1997</th>\n",
       "<th>1998</th>\n",
       "<th>1999</th>\n",
       "</tr>\n",
       "</thead>\n",
       "<tbody>\n",
       "<tr>\n",
       "<td style='font-weight: bold'>0</td>\n",
       "<td>0</td>\n",
       "<td>0</td>\n",
       "<td>0</td>\n",
       "<td>0</td>\n",
       "<td>0</td>\n",
       "<td>...</td>\n",
       "<td>0</td>\n",
       "<td>0</td>\n",
       "<td>0</td>\n",
       "<td>0</td>\n",
       "<td>0</td>\n",
       "</tr>\n",
       "<tr>\n",
       "<td style='font-weight: bold'>1</td>\n",
       "<td>0</td>\n",
       "<td>0</td>\n",
       "<td>0</td>\n",
       "<td>0</td>\n",
       "<td>0</td>\n",
       "<td>...</td>\n",
       "<td>0</td>\n",
       "<td>0</td>\n",
       "<td>0</td>\n",
       "<td>0</td>\n",
       "<td>0</td>\n",
       "</tr>\n",
       "<tr>\n",
       "<td style='font-weight: bold'>2</td>\n",
       "<td>0</td>\n",
       "<td>0</td>\n",
       "<td>0</td>\n",
       "<td>0</td>\n",
       "<td>0</td>\n",
       "<td>...</td>\n",
       "<td>0</td>\n",
       "<td>0</td>\n",
       "<td>0</td>\n",
       "<td>0</td>\n",
       "<td>0</td>\n",
       "</tr>\n",
       "<tr>\n",
       "<td style='font-weight: bold'>3</td>\n",
       "<td>0</td>\n",
       "<td>0</td>\n",
       "<td>0</td>\n",
       "<td>0</td>\n",
       "<td>0</td>\n",
       "<td>...</td>\n",
       "<td>0</td>\n",
       "<td>0</td>\n",
       "<td>0</td>\n",
       "<td>0</td>\n",
       "<td>0</td>\n",
       "</tr>\n",
       "<tr>\n",
       "<td style='font-weight: bold'>4</td>\n",
       "<td>0</td>\n",
       "<td>0</td>\n",
       "<td>0</td>\n",
       "<td>0</td>\n",
       "<td>0</td>\n",
       "<td>...</td>\n",
       "<td>0</td>\n",
       "<td>1</td>\n",
       "<td>1</td>\n",
       "<td>0</td>\n",
       "<td>0</td>\n",
       "</tr>\n",
       "</tbody>\n",
       "</table>\n",
       "<p><strong>...</strong></p>"
      ],
      "text/plain": [
       "HaplotypeArray((50000, 2000), dtype=int8)\n",
       "[[0 0 0 ..., 0 0 0]\n",
       " [0 0 0 ..., 0 0 0]\n",
       " [0 0 0 ..., 0 0 0]\n",
       " ..., \n",
       " [0 1 0 ..., 0 0 0]\n",
       " [0 0 0 ..., 0 0 0]\n",
       " [0 0 0 ..., 0 0 0]]"
      ]
     },
     "execution_count": 5,
     "metadata": {},
     "output_type": "execute_result"
    }
   ],
   "source": [
    "h = g.to_haplotypes()\n",
    "h"
   ]
  },
  {
   "cell_type": "code",
   "execution_count": 6,
   "metadata": {
    "collapsed": false
   },
   "outputs": [
    {
     "data": {
      "text/html": [
       "<table class='petl'>\n",
       "<caption>HaplotypeArray((50000, 3), dtype=int8)</caption>\n",
       "<thead>\n",
       "<tr>\n",
       "<th></th>\n",
       "<th>0</th>\n",
       "<th>1</th>\n",
       "<th>2</th>\n",
       "</tr>\n",
       "</thead>\n",
       "<tbody>\n",
       "<tr>\n",
       "<td style='font-weight: bold'>0</td>\n",
       "<td>0</td>\n",
       "<td>0</td>\n",
       "<td>0</td>\n",
       "</tr>\n",
       "<tr>\n",
       "<td style='font-weight: bold'>1</td>\n",
       "<td>0</td>\n",
       "<td>0</td>\n",
       "<td>0</td>\n",
       "</tr>\n",
       "<tr>\n",
       "<td style='font-weight: bold'>2</td>\n",
       "<td>0</td>\n",
       "<td>0</td>\n",
       "<td>0</td>\n",
       "</tr>\n",
       "<tr>\n",
       "<td style='font-weight: bold'>3</td>\n",
       "<td>0</td>\n",
       "<td>0</td>\n",
       "<td>0</td>\n",
       "</tr>\n",
       "<tr>\n",
       "<td style='font-weight: bold'>4</td>\n",
       "<td>0</td>\n",
       "<td>0</td>\n",
       "<td>0</td>\n",
       "</tr>\n",
       "</tbody>\n",
       "</table>\n",
       "<p><strong>...</strong></p>"
      ],
      "text/plain": [
       "HaplotypeArray((50000, 3), dtype=int8)\n",
       "[[0 0 0]\n",
       " [0 0 0]\n",
       " [0 0 0]\n",
       " ..., \n",
       " [0 1 0]\n",
       " [0 0 0]\n",
       " [0 0 0]]"
      ]
     },
     "execution_count": 6,
     "metadata": {},
     "output_type": "execute_result"
    }
   ],
   "source": [
    "h.take([0, 1, 2], axis=1)"
   ]
  },
  {
   "cell_type": "code",
   "execution_count": 7,
   "metadata": {
    "collapsed": false
   },
   "outputs": [
    {
     "data": {
      "text/html": [
       "<table class='petl'>\n",
       "<caption>GenotypeChunkedArray((50000, 1000, 2), int8, nbytes=95.4M, cbytes=16.0M, cratio=6.0, cname=blosclz, clevel=5, shuffle=True, chunks=(262, 1000, 2), data=bcolz.carray_ext.carray)</caption>\n",
       "<thead>\n",
       "<tr>\n",
       "<th></th>\n",
       "<th>0</th>\n",
       "<th>1</th>\n",
       "<th>2</th>\n",
       "<th>3</th>\n",
       "<th>4</th>\n",
       "<th>...</th>\n",
       "<th>995</th>\n",
       "<th>996</th>\n",
       "<th>997</th>\n",
       "<th>998</th>\n",
       "<th>999</th>\n",
       "</tr>\n",
       "</thead>\n",
       "<tbody>\n",
       "<tr>\n",
       "<td style='font-weight: bold'>0</td>\n",
       "<td>0/0</td>\n",
       "<td>0/0</td>\n",
       "<td>0/0</td>\n",
       "<td>0/0</td>\n",
       "<td>0/0</td>\n",
       "<td>...</td>\n",
       "<td>0/0</td>\n",
       "<td>0/0</td>\n",
       "<td>0/0</td>\n",
       "<td>0/0</td>\n",
       "<td>0/0</td>\n",
       "</tr>\n",
       "<tr>\n",
       "<td style='font-weight: bold'>1</td>\n",
       "<td>0/0</td>\n",
       "<td>0/0</td>\n",
       "<td>0/0</td>\n",
       "<td>0/0</td>\n",
       "<td>0/0</td>\n",
       "<td>...</td>\n",
       "<td>0/0</td>\n",
       "<td>1/1</td>\n",
       "<td>0/0</td>\n",
       "<td>0/0</td>\n",
       "<td>0/0</td>\n",
       "</tr>\n",
       "<tr>\n",
       "<td style='font-weight: bold'>2</td>\n",
       "<td>0/0</td>\n",
       "<td>0/0</td>\n",
       "<td>0/0</td>\n",
       "<td>0/0</td>\n",
       "<td>0/0</td>\n",
       "<td>...</td>\n",
       "<td>0/0</td>\n",
       "<td>0/0</td>\n",
       "<td>0/0</td>\n",
       "<td>0/0</td>\n",
       "<td>0/0</td>\n",
       "</tr>\n",
       "<tr>\n",
       "<td style='font-weight: bold'>3</td>\n",
       "<td>0/0</td>\n",
       "<td>0/0</td>\n",
       "<td>0/0</td>\n",
       "<td>0/0</td>\n",
       "<td>0/0</td>\n",
       "<td>...</td>\n",
       "<td>0/0</td>\n",
       "<td>0/0</td>\n",
       "<td>0/0</td>\n",
       "<td>0/0</td>\n",
       "<td>0/0</td>\n",
       "</tr>\n",
       "<tr>\n",
       "<td style='font-weight: bold'>4</td>\n",
       "<td>0/0</td>\n",
       "<td>0/0</td>\n",
       "<td>0/0</td>\n",
       "<td>0/0</td>\n",
       "<td>0/0</td>\n",
       "<td>...</td>\n",
       "<td>0/0</td>\n",
       "<td>0/0</td>\n",
       "<td>0/0</td>\n",
       "<td>1/1</td>\n",
       "<td>0/0</td>\n",
       "</tr>\n",
       "</tbody>\n",
       "</table>\n",
       "<p><strong>...</strong></p>"
      ],
      "text/plain": [
       "GenotypeChunkedArray((50000, 1000, 2), int8, nbytes=95.4M, cbytes=16.0M, cratio=6.0, cname=blosclz, clevel=5, shuffle=True, chunks=(262, 1000, 2), data=bcolz.carray_ext.carray)"
      ]
     },
     "execution_count": 7,
     "metadata": {},
     "output_type": "execute_result"
    }
   ],
   "source": [
    "gc = allel.GenotypeChunkedArray(g).copy()\n",
    "gc"
   ]
  },
  {
   "cell_type": "code",
   "execution_count": 8,
   "metadata": {
    "collapsed": false
   },
   "outputs": [
    {
     "data": {
      "text/html": [
       "<table class='petl'>\n",
       "<caption>GenotypeChunkedArray((50000, 3, 2), int8, nbytes=293.0K, cbytes=297.8K, cratio=1.0, cname=blosclz, clevel=5, shuffle=True, chunks=(43690, 3, 2), data=bcolz.carray_ext.carray)</caption>\n",
       "<thead>\n",
       "<tr>\n",
       "<th></th>\n",
       "<th>0</th>\n",
       "<th>1</th>\n",
       "<th>2</th>\n",
       "</tr>\n",
       "</thead>\n",
       "<tbody>\n",
       "<tr>\n",
       "<td style='font-weight: bold'>0</td>\n",
       "<td>0/0</td>\n",
       "<td>0/0</td>\n",
       "<td>0/0</td>\n",
       "</tr>\n",
       "<tr>\n",
       "<td style='font-weight: bold'>1</td>\n",
       "<td>0/0</td>\n",
       "<td>0/0</td>\n",
       "<td>0/0</td>\n",
       "</tr>\n",
       "<tr>\n",
       "<td style='font-weight: bold'>2</td>\n",
       "<td>0/0</td>\n",
       "<td>0/0</td>\n",
       "<td>0/0</td>\n",
       "</tr>\n",
       "<tr>\n",
       "<td style='font-weight: bold'>3</td>\n",
       "<td>0/0</td>\n",
       "<td>0/0</td>\n",
       "<td>0/0</td>\n",
       "</tr>\n",
       "<tr>\n",
       "<td style='font-weight: bold'>4</td>\n",
       "<td>0/0</td>\n",
       "<td>0/0</td>\n",
       "<td>0/0</td>\n",
       "</tr>\n",
       "</tbody>\n",
       "</table>\n",
       "<p><strong>...</strong></p>"
      ],
      "text/plain": [
       "GenotypeChunkedArray((50000, 3, 2), int8, nbytes=293.0K, cbytes=297.8K, cratio=1.0, cname=blosclz, clevel=5, shuffle=True, chunks=(43690, 3, 2), data=bcolz.carray_ext.carray)"
      ]
     },
     "execution_count": 8,
     "metadata": {},
     "output_type": "execute_result"
    }
   ],
   "source": [
    "gc.take([0, 1, 2], axis=1)"
   ]
  },
  {
   "cell_type": "code",
   "execution_count": 9,
   "metadata": {
    "collapsed": false
   },
   "outputs": [
    {
     "data": {
      "text/html": [
       "<table class='petl'>\n",
       "<caption>HaplotypeChunkedArray((50000, 2000), int8, nbytes=95.4M, cbytes=16.0M, cratio=6.0, cname=blosclz, clevel=5, shuffle=True, chunks=(262, 2000), data=bcolz.carray_ext.carray)</caption>\n",
       "<thead>\n",
       "<tr>\n",
       "<th></th>\n",
       "<th>0</th>\n",
       "<th>1</th>\n",
       "<th>2</th>\n",
       "<th>3</th>\n",
       "<th>4</th>\n",
       "<th>...</th>\n",
       "<th>1995</th>\n",
       "<th>1996</th>\n",
       "<th>1997</th>\n",
       "<th>1998</th>\n",
       "<th>1999</th>\n",
       "</tr>\n",
       "</thead>\n",
       "<tbody>\n",
       "<tr>\n",
       "<td style='font-weight: bold'>0</td>\n",
       "<td>0</td>\n",
       "<td>0</td>\n",
       "<td>0</td>\n",
       "<td>0</td>\n",
       "<td>0</td>\n",
       "<td>...</td>\n",
       "<td>0</td>\n",
       "<td>0</td>\n",
       "<td>0</td>\n",
       "<td>0</td>\n",
       "<td>0</td>\n",
       "</tr>\n",
       "<tr>\n",
       "<td style='font-weight: bold'>1</td>\n",
       "<td>0</td>\n",
       "<td>0</td>\n",
       "<td>0</td>\n",
       "<td>0</td>\n",
       "<td>0</td>\n",
       "<td>...</td>\n",
       "<td>0</td>\n",
       "<td>0</td>\n",
       "<td>0</td>\n",
       "<td>0</td>\n",
       "<td>0</td>\n",
       "</tr>\n",
       "<tr>\n",
       "<td style='font-weight: bold'>2</td>\n",
       "<td>0</td>\n",
       "<td>0</td>\n",
       "<td>0</td>\n",
       "<td>0</td>\n",
       "<td>0</td>\n",
       "<td>...</td>\n",
       "<td>0</td>\n",
       "<td>0</td>\n",
       "<td>0</td>\n",
       "<td>0</td>\n",
       "<td>0</td>\n",
       "</tr>\n",
       "<tr>\n",
       "<td style='font-weight: bold'>3</td>\n",
       "<td>0</td>\n",
       "<td>0</td>\n",
       "<td>0</td>\n",
       "<td>0</td>\n",
       "<td>0</td>\n",
       "<td>...</td>\n",
       "<td>0</td>\n",
       "<td>0</td>\n",
       "<td>0</td>\n",
       "<td>0</td>\n",
       "<td>0</td>\n",
       "</tr>\n",
       "<tr>\n",
       "<td style='font-weight: bold'>4</td>\n",
       "<td>0</td>\n",
       "<td>0</td>\n",
       "<td>0</td>\n",
       "<td>0</td>\n",
       "<td>0</td>\n",
       "<td>...</td>\n",
       "<td>0</td>\n",
       "<td>1</td>\n",
       "<td>1</td>\n",
       "<td>0</td>\n",
       "<td>0</td>\n",
       "</tr>\n",
       "</tbody>\n",
       "</table>\n",
       "<p><strong>...</strong></p>"
      ],
      "text/plain": [
       "HaplotypeChunkedArray((50000, 2000), int8, nbytes=95.4M, cbytes=16.0M, cratio=6.0, cname=blosclz, clevel=5, shuffle=True, chunks=(262, 2000), data=bcolz.carray_ext.carray)"
      ]
     },
     "execution_count": 9,
     "metadata": {},
     "output_type": "execute_result"
    }
   ],
   "source": [
    "hc = gc.to_haplotypes()\n",
    "hc"
   ]
  },
  {
   "cell_type": "code",
   "execution_count": 10,
   "metadata": {
    "collapsed": false
   },
   "outputs": [
    {
     "data": {
      "text/html": [
       "<table class='petl'>\n",
       "<caption>HaplotypeChunkedArray((50000, 3), int8, nbytes=146.5K, cbytes=256.0K, cratio=0.6, cname=blosclz, clevel=5, shuffle=True, chunks=(87381, 3), data=bcolz.carray_ext.carray)</caption>\n",
       "<thead>\n",
       "<tr>\n",
       "<th></th>\n",
       "<th>0</th>\n",
       "<th>1</th>\n",
       "<th>2</th>\n",
       "</tr>\n",
       "</thead>\n",
       "<tbody>\n",
       "<tr>\n",
       "<td style='font-weight: bold'>0</td>\n",
       "<td>0</td>\n",
       "<td>0</td>\n",
       "<td>0</td>\n",
       "</tr>\n",
       "<tr>\n",
       "<td style='font-weight: bold'>1</td>\n",
       "<td>0</td>\n",
       "<td>0</td>\n",
       "<td>0</td>\n",
       "</tr>\n",
       "<tr>\n",
       "<td style='font-weight: bold'>2</td>\n",
       "<td>0</td>\n",
       "<td>0</td>\n",
       "<td>0</td>\n",
       "</tr>\n",
       "<tr>\n",
       "<td style='font-weight: bold'>3</td>\n",
       "<td>0</td>\n",
       "<td>0</td>\n",
       "<td>0</td>\n",
       "</tr>\n",
       "<tr>\n",
       "<td style='font-weight: bold'>4</td>\n",
       "<td>0</td>\n",
       "<td>0</td>\n",
       "<td>0</td>\n",
       "</tr>\n",
       "</tbody>\n",
       "</table>\n",
       "<p><strong>...</strong></p>"
      ],
      "text/plain": [
       "HaplotypeChunkedArray((50000, 3), int8, nbytes=146.5K, cbytes=256.0K, cratio=0.6, cname=blosclz, clevel=5, shuffle=True, chunks=(87381, 3), data=bcolz.carray_ext.carray)"
      ]
     },
     "execution_count": 10,
     "metadata": {},
     "output_type": "execute_result"
    }
   ],
   "source": [
    "hc.take([0, 1, 2], axis=1)"
   ]
  },
  {
   "cell_type": "code",
   "execution_count": 11,
   "metadata": {
    "collapsed": false
   },
   "outputs": [
    {
     "data": {
      "text/html": [
       "<table class='petl'>\n",
       "<caption>AlleleCountsArray((50000, 2), dtype=int32)</caption>\n",
       "<thead>\n",
       "<tr>\n",
       "<th></th>\n",
       "<th>0</th>\n",
       "<th>1</th>\n",
       "</tr>\n",
       "</thead>\n",
       "<tbody>\n",
       "<tr>\n",
       "<td style='font-weight: bold'>0</td>\n",
       "<td>1911</td>\n",
       "<td>89</td>\n",
       "</tr>\n",
       "<tr>\n",
       "<td style='font-weight: bold'>1</td>\n",
       "<td>1895</td>\n",
       "<td>105</td>\n",
       "</tr>\n",
       "<tr>\n",
       "<td style='font-weight: bold'>2</td>\n",
       "<td>1896</td>\n",
       "<td>104</td>\n",
       "</tr>\n",
       "<tr>\n",
       "<td style='font-weight: bold'>3</td>\n",
       "<td>1892</td>\n",
       "<td>108</td>\n",
       "</tr>\n",
       "<tr>\n",
       "<td style='font-weight: bold'>4</td>\n",
       "<td>1892</td>\n",
       "<td>108</td>\n",
       "</tr>\n",
       "</tbody>\n",
       "</table>\n",
       "<p><strong>...</strong></p>"
      ],
      "text/plain": [
       "AlleleCountsArray((50000, 2), dtype=int32)\n",
       "[[1911   89]\n",
       " [1895  105]\n",
       " [1896  104]\n",
       " ..., \n",
       " [1908   92]\n",
       " [1887  113]\n",
       " [1904   96]]"
      ]
     },
     "execution_count": 11,
     "metadata": {},
     "output_type": "execute_result"
    }
   ],
   "source": [
    "ac = g.count_alleles()\n",
    "ac"
   ]
  },
  {
   "cell_type": "code",
   "execution_count": 12,
   "metadata": {
    "collapsed": false
   },
   "outputs": [
    {
     "data": {
      "text/html": [
       "<table class='petl'>\n",
       "<caption>AlleleCountsChunkedArray((50000, 2), int32, nbytes=390.6K, cbytes=321.3K, cratio=1.2, cname=blosclz, clevel=5, shuffle=True, chunks=(32768, 2), data=bcolz.carray_ext.carray)</caption>\n",
       "<thead>\n",
       "<tr>\n",
       "<th></th>\n",
       "<th>0</th>\n",
       "<th>1</th>\n",
       "</tr>\n",
       "</thead>\n",
       "<tbody>\n",
       "<tr>\n",
       "<td style='font-weight: bold'>0</td>\n",
       "<td>1911</td>\n",
       "<td>89</td>\n",
       "</tr>\n",
       "<tr>\n",
       "<td style='font-weight: bold'>1</td>\n",
       "<td>1895</td>\n",
       "<td>105</td>\n",
       "</tr>\n",
       "<tr>\n",
       "<td style='font-weight: bold'>2</td>\n",
       "<td>1896</td>\n",
       "<td>104</td>\n",
       "</tr>\n",
       "<tr>\n",
       "<td style='font-weight: bold'>3</td>\n",
       "<td>1892</td>\n",
       "<td>108</td>\n",
       "</tr>\n",
       "<tr>\n",
       "<td style='font-weight: bold'>4</td>\n",
       "<td>1892</td>\n",
       "<td>108</td>\n",
       "</tr>\n",
       "</tbody>\n",
       "</table>\n",
       "<p><strong>...</strong></p>"
      ],
      "text/plain": [
       "AlleleCountsChunkedArray((50000, 2), int32, nbytes=390.6K, cbytes=321.3K, cratio=1.2, cname=blosclz, clevel=5, shuffle=True, chunks=(32768, 2), data=bcolz.carray_ext.carray)"
      ]
     },
     "execution_count": 12,
     "metadata": {},
     "output_type": "execute_result"
    }
   ],
   "source": [
    "acc = gc.count_alleles()\n",
    "acc"
   ]
  },
  {
   "cell_type": "code",
   "execution_count": 13,
   "metadata": {
    "collapsed": false
   },
   "outputs": [
    {
     "data": {
      "text/plain": [
       "carray((50000, 1000), bool)\n",
       "  nbytes: 47.68 MB; cbytes: 743.19 KB; ratio: 65.70\n",
       "  cparams := cparams(clevel=5, shuffle=True, cname='blosclz')\n",
       "[[ True  True  True ...,  True  True  True]\n",
       " [ True  True  True ...,  True  True  True]\n",
       " [ True  True  True ...,  True  True  True]\n",
       " ..., \n",
       " [ True  True  True ...,  True  True  True]\n",
       " [ True  True  True ...,  True  True  True]\n",
       " [ True  True  True ...,  True  True  True]]"
      ]
     },
     "execution_count": 13,
     "metadata": {},
     "output_type": "execute_result"
    }
   ],
   "source": [
    "gc.is_called()"
   ]
  },
  {
   "cell_type": "code",
   "execution_count": 14,
   "metadata": {
    "collapsed": false
   },
   "outputs": [
    {
     "data": {
      "text/plain": [
       "ChunkedArray((50000, 1000), int8, nbytes=47.7M, cbytes=13.0M, cratio=3.7, cname=blosclz, clevel=5, shuffle=True, chunks=(524, 1000), data=bcolz.carray_ext.carray)"
      ]
     },
     "execution_count": 14,
     "metadata": {},
     "output_type": "execute_result"
    }
   ],
   "source": [
    "gc.to_n_alt()"
   ]
  },
  {
   "cell_type": "code",
   "execution_count": 15,
   "metadata": {
    "collapsed": false
   },
   "outputs": [
    {
     "data": {
      "text/plain": [
       "array([     9,     28,     30, ..., 999946, 999958, 999960])"
      ]
     },
     "execution_count": 15,
     "metadata": {},
     "output_type": "execute_result"
    }
   ],
   "source": [
    "pos = np.unique(np.random.randint(0, 1000000, size=50000))\n",
    "pos"
   ]
  },
  {
   "cell_type": "code",
   "execution_count": 16,
   "metadata": {
    "collapsed": false
   },
   "outputs": [
    {
     "data": {
      "text/plain": [
       "array([b'A', b'T', b'A', ..., b'G', b'G', b'A'], \n",
       "      dtype='|S1')"
      ]
     },
     "execution_count": 16,
     "metadata": {},
     "output_type": "execute_result"
    }
   ],
   "source": [
    "ref = np.random.choice([b'A', b'C', b'T', b'G'], size=pos.shape[0])\n",
    "ref"
   ]
  },
  {
   "cell_type": "code",
   "execution_count": 17,
   "metadata": {
    "collapsed": false
   },
   "outputs": [
    {
     "data": {
      "text/plain": [
       "array([b'G', b'A', b'A', ..., b'A', b'T', b'A'], \n",
       "      dtype='|S1')"
      ]
     },
     "execution_count": 17,
     "metadata": {},
     "output_type": "execute_result"
    }
   ],
   "source": [
    "alt = np.random.choice([b'A', b'C', b'T', b'G'], size=pos.shape[0])\n",
    "alt"
   ]
  },
  {
   "cell_type": "code",
   "execution_count": 18,
   "metadata": {
    "collapsed": false
   },
   "outputs": [
    {
     "data": {
      "text/html": [
       "<table class='petl'>\n",
       "<caption>VariantTable((48752,), dtype=(numpy.record, [('POS', '&lt;i8'), ('REF', 'S1'), ('ALT', 'S1')]))</caption>\n",
       "<thead>\n",
       "<tr>\n",
       "<th>POS</th>\n",
       "<th>REF</th>\n",
       "<th>ALT</th>\n",
       "</tr>\n",
       "</thead>\n",
       "<tbody>\n",
       "<tr>\n",
       "<td>9</td>\n",
       "<td>b'A'</td>\n",
       "<td>b'G'</td>\n",
       "</tr>\n",
       "<tr>\n",
       "<td>28</td>\n",
       "<td>b'T'</td>\n",
       "<td>b'A'</td>\n",
       "</tr>\n",
       "<tr>\n",
       "<td>30</td>\n",
       "<td>b'A'</td>\n",
       "<td>b'A'</td>\n",
       "</tr>\n",
       "<tr>\n",
       "<td>43</td>\n",
       "<td>b'C'</td>\n",
       "<td>b'T'</td>\n",
       "</tr>\n",
       "<tr>\n",
       "<td>53</td>\n",
       "<td>b'G'</td>\n",
       "<td>b'A'</td>\n",
       "</tr>\n",
       "</tbody>\n",
       "</table>\n",
       "<p><strong>...</strong></p>"
      ],
      "text/plain": [
       "VariantTable((48752,), dtype=(numpy.record, [('POS', '<i8'), ('REF', 'S1'), ('ALT', 'S1')]))\n",
       "[(9, b'A', b'G') (28, b'T', b'A') (30, b'A', b'A') ...,\n",
       " (999946, b'G', b'A') (999958, b'G', b'T') (999960, b'A', b'A')]"
      ]
     },
     "execution_count": 18,
     "metadata": {},
     "output_type": "execute_result"
    }
   ],
   "source": [
    "ra = np.rec.fromarrays([pos, ref, alt], names=['POS', 'REF', 'ALT'])\n",
    "vtbl = allel.VariantTable(ra)\n",
    "vtbl"
   ]
  },
  {
   "cell_type": "code",
   "execution_count": 19,
   "metadata": {
    "collapsed": false
   },
   "outputs": [
    {
     "data": {
      "text/html": [
       "<table class='petl'>\n",
       "<caption>VariantChunkedTable(48752, nbytes=476.1K, cbytes=557.2K, cratio=0.9, data=bcolz.ctable.ctable)</caption>\n",
       "<thead>\n",
       "<tr>\n",
       "<th>POS</th>\n",
       "<th>REF</th>\n",
       "<th>ALT</th>\n",
       "</tr>\n",
       "</thead>\n",
       "<tbody>\n",
       "<tr>\n",
       "<td>9</td>\n",
       "<td>b'A'</td>\n",
       "<td>b'G'</td>\n",
       "</tr>\n",
       "<tr>\n",
       "<td>28</td>\n",
       "<td>b'T'</td>\n",
       "<td>b'A'</td>\n",
       "</tr>\n",
       "<tr>\n",
       "<td>30</td>\n",
       "<td>b'A'</td>\n",
       "<td>b'A'</td>\n",
       "</tr>\n",
       "<tr>\n",
       "<td>43</td>\n",
       "<td>b'C'</td>\n",
       "<td>b'T'</td>\n",
       "</tr>\n",
       "<tr>\n",
       "<td>53</td>\n",
       "<td>b'G'</td>\n",
       "<td>b'A'</td>\n",
       "</tr>\n",
       "</tbody>\n",
       "</table>\n",
       "<p><strong>...</strong></p>"
      ],
      "text/plain": [
       "VariantChunkedTable(48752, nbytes=476.1K, cbytes=557.2K, cratio=0.9, data=bcolz.ctable.ctable)"
      ]
     },
     "execution_count": 19,
     "metadata": {},
     "output_type": "execute_result"
    }
   ],
   "source": [
    "vctbl = allel.VariantChunkedTable(vtbl).copy()\n",
    "vctbl"
   ]
  },
  {
   "cell_type": "code",
   "execution_count": 20,
   "metadata": {
    "collapsed": false
   },
   "outputs": [
    {
     "data": {
      "text/html": [
       "<table class='petl'>\n",
       "<caption>VariantTable((5,), dtype=(numpy.record, [('POS', '&lt;i8'), ('REF', 'S1'), ('ALT', 'S1')]))</caption>\n",
       "<thead>\n",
       "<tr>\n",
       "<th>POS</th>\n",
       "<th>REF</th>\n",
       "<th>ALT</th>\n",
       "</tr>\n",
       "</thead>\n",
       "<tbody>\n",
       "<tr>\n",
       "<td>9</td>\n",
       "<td>b'A'</td>\n",
       "<td>b'G'</td>\n",
       "</tr>\n",
       "<tr>\n",
       "<td>28</td>\n",
       "<td>b'T'</td>\n",
       "<td>b'A'</td>\n",
       "</tr>\n",
       "<tr>\n",
       "<td>30</td>\n",
       "<td>b'A'</td>\n",
       "<td>b'A'</td>\n",
       "</tr>\n",
       "<tr>\n",
       "<td>43</td>\n",
       "<td>b'C'</td>\n",
       "<td>b'T'</td>\n",
       "</tr>\n",
       "<tr>\n",
       "<td>53</td>\n",
       "<td>b'G'</td>\n",
       "<td>b'A'</td>\n",
       "</tr>\n",
       "</tbody>\n",
       "</table>\n"
      ]
     },
     "metadata": {},
     "output_type": "display_data"
    }
   ],
   "source": [
    "vtbl[:5].display(10)"
   ]
  },
  {
   "cell_type": "code",
   "execution_count": 21,
   "metadata": {
    "collapsed": false
   },
   "outputs": [
    {
     "data": {
      "text/html": [
       "<table class='petl'>\n",
       "<caption>VariantTable((5,), dtype=(numpy.record, [('POS', '&lt;i8'), ('REF', 'S1'), ('ALT', 'S1')]))</caption>\n",
       "<thead>\n",
       "<tr>\n",
       "<th>POS</th>\n",
       "<th>REF</th>\n",
       "<th>ALT</th>\n",
       "</tr>\n",
       "</thead>\n",
       "<tbody>\n",
       "<tr>\n",
       "<td>9</td>\n",
       "<td>b'A'</td>\n",
       "<td>b'G'</td>\n",
       "</tr>\n",
       "<tr>\n",
       "<td>28</td>\n",
       "<td>b'T'</td>\n",
       "<td>b'A'</td>\n",
       "</tr>\n",
       "<tr>\n",
       "<td>30</td>\n",
       "<td>b'A'</td>\n",
       "<td>b'A'</td>\n",
       "</tr>\n",
       "<tr>\n",
       "<td>43</td>\n",
       "<td>b'C'</td>\n",
       "<td>b'T'</td>\n",
       "</tr>\n",
       "<tr>\n",
       "<td>53</td>\n",
       "<td>b'G'</td>\n",
       "<td>b'A'</td>\n",
       "</tr>\n",
       "</tbody>\n",
       "</table>\n"
      ]
     },
     "metadata": {},
     "output_type": "display_data"
    }
   ],
   "source": [
    "vtbl[:5].display(None)"
   ]
  },
  {
   "cell_type": "code",
   "execution_count": 22,
   "metadata": {
    "collapsed": false
   },
   "outputs": [
    {
     "data": {
      "text/html": [
       "<table class='petl'>\n",
       "<caption>VariantTable((5,), dtype=(numpy.record, [('POS', '&lt;i8'), ('REF', 'S1'), ('ALT', 'S1')]))</caption>\n",
       "<thead>\n",
       "<tr>\n",
       "<th>POS</th>\n",
       "<th>REF</th>\n",
       "<th>ALT</th>\n",
       "</tr>\n",
       "</thead>\n",
       "<tbody>\n",
       "<tr>\n",
       "<td>9</td>\n",
       "<td>b'A'</td>\n",
       "<td>b'G'</td>\n",
       "</tr>\n",
       "<tr>\n",
       "<td>28</td>\n",
       "<td>b'T'</td>\n",
       "<td>b'A'</td>\n",
       "</tr>\n",
       "<tr>\n",
       "<td>30</td>\n",
       "<td>b'A'</td>\n",
       "<td>b'A'</td>\n",
       "</tr>\n",
       "<tr>\n",
       "<td>43</td>\n",
       "<td>b'C'</td>\n",
       "<td>b'T'</td>\n",
       "</tr>\n",
       "<tr>\n",
       "<td>53</td>\n",
       "<td>b'G'</td>\n",
       "<td>b'A'</td>\n",
       "</tr>\n",
       "</tbody>\n",
       "</table>\n"
      ]
     },
     "metadata": {},
     "output_type": "display_data"
    }
   ],
   "source": [
    "vtbl[:5].displayall()"
   ]
  },
  {
   "cell_type": "code",
   "execution_count": 23,
   "metadata": {
    "collapsed": false
   },
   "outputs": [
    {
     "data": {
      "text/html": [
       "<table class='petl'>\n",
       "<caption>VariantChunkedTable(5, nbytes=50, cbytes=48.0K, cratio=0.0, data=bcolz.ctable.ctable)</caption>\n",
       "<thead>\n",
       "<tr>\n",
       "<th>POS</th>\n",
       "<th>REF</th>\n",
       "<th>ALT</th>\n",
       "</tr>\n",
       "</thead>\n",
       "<tbody>\n",
       "<tr>\n",
       "<td>9</td>\n",
       "<td>b'A'</td>\n",
       "<td>b'G'</td>\n",
       "</tr>\n",
       "<tr>\n",
       "<td>28</td>\n",
       "<td>b'T'</td>\n",
       "<td>b'A'</td>\n",
       "</tr>\n",
       "<tr>\n",
       "<td>30</td>\n",
       "<td>b'A'</td>\n",
       "<td>b'A'</td>\n",
       "</tr>\n",
       "<tr>\n",
       "<td>43</td>\n",
       "<td>b'C'</td>\n",
       "<td>b'T'</td>\n",
       "</tr>\n",
       "<tr>\n",
       "<td>53</td>\n",
       "<td>b'G'</td>\n",
       "<td>b'A'</td>\n",
       "</tr>\n",
       "</tbody>\n",
       "</table>\n"
      ]
     },
     "metadata": {},
     "output_type": "display_data"
    }
   ],
   "source": [
    "vctbl.take(list(range(5))).display(10)"
   ]
  },
  {
   "cell_type": "code",
   "execution_count": 24,
   "metadata": {
    "collapsed": false
   },
   "outputs": [
    {
     "data": {
      "text/html": [
       "<table class='petl'>\n",
       "<caption>VariantChunkedTable(5, nbytes=50, cbytes=48.0K, cratio=0.0, data=bcolz.ctable.ctable)</caption>\n",
       "<thead>\n",
       "<tr>\n",
       "<th>POS</th>\n",
       "<th>REF</th>\n",
       "<th>ALT</th>\n",
       "</tr>\n",
       "</thead>\n",
       "<tbody>\n",
       "<tr>\n",
       "<td>9</td>\n",
       "<td>b'A'</td>\n",
       "<td>b'G'</td>\n",
       "</tr>\n",
       "<tr>\n",
       "<td>28</td>\n",
       "<td>b'T'</td>\n",
       "<td>b'A'</td>\n",
       "</tr>\n",
       "<tr>\n",
       "<td>30</td>\n",
       "<td>b'A'</td>\n",
       "<td>b'A'</td>\n",
       "</tr>\n",
       "<tr>\n",
       "<td>43</td>\n",
       "<td>b'C'</td>\n",
       "<td>b'T'</td>\n",
       "</tr>\n",
       "<tr>\n",
       "<td>53</td>\n",
       "<td>b'G'</td>\n",
       "<td>b'A'</td>\n",
       "</tr>\n",
       "</tbody>\n",
       "</table>\n"
      ]
     },
     "metadata": {},
     "output_type": "display_data"
    }
   ],
   "source": [
    "vctbl.take(list(range(5))).display(None)"
   ]
  },
  {
   "cell_type": "code",
   "execution_count": 25,
   "metadata": {
    "collapsed": false
   },
   "outputs": [
    {
     "data": {
      "text/html": [
       "<table class='petl'>\n",
       "<caption>VariantChunkedTable(5, nbytes=50, cbytes=48.0K, cratio=0.0, data=bcolz.ctable.ctable)</caption>\n",
       "<thead>\n",
       "<tr>\n",
       "<th>POS</th>\n",
       "<th>REF</th>\n",
       "<th>ALT</th>\n",
       "</tr>\n",
       "</thead>\n",
       "<tbody>\n",
       "<tr>\n",
       "<td>9</td>\n",
       "<td>b'A'</td>\n",
       "<td>b'G'</td>\n",
       "</tr>\n",
       "<tr>\n",
       "<td>28</td>\n",
       "<td>b'T'</td>\n",
       "<td>b'A'</td>\n",
       "</tr>\n",
       "<tr>\n",
       "<td>30</td>\n",
       "<td>b'A'</td>\n",
       "<td>b'A'</td>\n",
       "</tr>\n",
       "<tr>\n",
       "<td>43</td>\n",
       "<td>b'C'</td>\n",
       "<td>b'T'</td>\n",
       "</tr>\n",
       "<tr>\n",
       "<td>53</td>\n",
       "<td>b'G'</td>\n",
       "<td>b'A'</td>\n",
       "</tr>\n",
       "</tbody>\n",
       "</table>\n"
      ]
     },
     "metadata": {},
     "output_type": "display_data"
    }
   ],
   "source": [
    "vctbl.take(list(range(5))).displayall()"
   ]
  },
  {
   "cell_type": "code",
   "execution_count": null,
   "metadata": {
    "collapsed": true
   },
   "outputs": [],
   "source": []
  }
 ],
 "metadata": {
  "kernelspec": {
   "display_name": "Python 3",
   "language": "python",
   "name": "python3"
  },
  "language_info": {
   "codemirror_mode": {
    "name": "ipython",
    "version": 3
   },
   "file_extension": ".py",
   "mimetype": "text/x-python",
   "name": "python",
   "nbconvert_exporter": "python",
   "pygments_lexer": "ipython3",
   "version": "3.4.3"
  }
 },
 "nbformat": 4,
 "nbformat_minor": 0
}
